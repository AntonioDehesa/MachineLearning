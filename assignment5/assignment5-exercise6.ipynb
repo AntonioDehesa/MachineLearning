{
 "cells": [
  {
   "cell_type": "code",
   "execution_count": 35,
   "id": "785392e5",
   "metadata": {},
   "outputs": [],
   "source": [
    "# imports\n",
    "import pandas as pd\n",
    "import numpy as np\n",
    "import seaborn as sns\n",
    "from sklearn.cluster import DBSCAN\n",
    "from sklearn.preprocessing import StandardScaler\n",
    "from sklearn.decomposition import PCA\n",
    "import plotly.express as px\n",
    "from statistics import mean\n",
    "from scipy.spatial import distance"
   ]
  },
  {
   "cell_type": "markdown",
   "id": "6f5c2587",
   "metadata": {},
   "source": [
    "# Problem 6. Dimensionality Reduction"
   ]
  },
  {
   "cell_type": "code",
   "execution_count": 36,
   "id": "ddd7aa24",
   "metadata": {},
   "outputs": [],
   "source": [
    "df = pd.read_csv(\"network.csv\")\n",
    "data = df.copy()"
   ]
  },
  {
   "cell_type": "code",
   "execution_count": 37,
   "id": "7f62fd33",
   "metadata": {
    "scrolled": false
   },
   "outputs": [
    {
     "name": "stdout",
     "output_type": "stream",
     "text": [
      "<class 'pandas.core.frame.DataFrame'>\n",
      "RangeIndex: 108499 entries, 0 to 108498\n",
      "Data columns (total 33 columns):\n",
      " #   Column                                Non-Null Count   Dtype  \n",
      "---  ------                                --------------   -----  \n",
      " 0   day                                   108499 non-null  object \n",
      " 1   BTS_ID                                108499 non-null  object \n",
      " 2   RRC_Conn_Release_due_to_S1_Link_Fail  108499 non-null  float64\n",
      " 3   Max_Num_RRC_Conn_User                 108499 non-null  float64\n",
      " 4   Mean_RRC_Conn_Setup_Time_ms           108499 non-null  float64\n",
      " 5   Avg_PRACH_Usage_per_Second            108499 non-null  float64\n",
      " 6   FDD_Cell_DL_Avg_Agg_Thruput_Mbps      108499 non-null  float64\n",
      " 7   FDD_Cell_UL_Avg_Agg_Thruput_Mbps      108499 non-null  float64\n",
      " 8   FDD_Cell_DL_MAC_Data_Volume_MB        108499 non-null  float64\n",
      " 9   FDD_Cell_UL_MAC_Data_Volume_MB        108499 non-null  float64\n",
      " 10  Avg_CQI                               108499 non-null  float64\n",
      " 11  FDD_RRC_Est_Success_Pct               108499 non-null  float64\n",
      " 12  FDD_RRC_Re_Est_Success_Pct            108499 non-null  float64\n",
      " 13  RRC_Reconfiguration_Success_Pct       108499 non-null  float64\n",
      " 14  UE_Context_Est_Success_Pct            108499 non-null  float64\n",
      " 15  RRC_Drop_Pct                          108499 non-null  float64\n",
      " 16  FDD_ERAB_Drop_Pct                     108499 non-null  float64\n",
      " 17  FDD_ERAB_Block_Pct                    108499 non-null  float64\n",
      " 18  ERAB_Block_in_HO_Pct                  108499 non-null  float64\n",
      " 19  UL_PRB_Util_Pct                       108499 non-null  float64\n",
      " 20  DL_PRB_Util_Pct                       108499 non-null  float64\n",
      " 21  Cell_UL_BLER_Pct                      108499 non-null  float64\n",
      " 22  Cell_DL_BLER_Pct                      108499 non-null  float64\n",
      " 23  DL_64QAM_Modulation_Scheme_Usage_Pct  108499 non-null  float64\n",
      " 24  UL_16QAM_Modulation_Scheme_Usage_Pct  108499 non-null  float64\n",
      " 25  FDD_ERAB_Setup_Success_Pct            108499 non-null  float64\n",
      " 26  DL 64QAM vs UL 16 ratio               108499 non-null  float64\n",
      " 27  Avg CQI to DL 64QAM ratio             108499 non-null  float64\n",
      " 28  DL PRB vs UL PRB ratio                108499 non-null  float64\n",
      " 29  MIMO_Usage_Pct                        108499 non-null  float64\n",
      " 30  RSSI_Avg_dBm                          108499 non-null  float64\n",
      " 31  PRACH_Avg_NI_dBm                      108499 non-null  float64\n",
      " 32  Power_DL_Avg_mw                       108499 non-null  float64\n",
      "dtypes: float64(31), object(2)\n",
      "memory usage: 27.3+ MB\n",
      "None\n"
     ]
    },
    {
     "data": {
      "text/html": [
       "<div>\n",
       "<style scoped>\n",
       "    .dataframe tbody tr th:only-of-type {\n",
       "        vertical-align: middle;\n",
       "    }\n",
       "\n",
       "    .dataframe tbody tr th {\n",
       "        vertical-align: top;\n",
       "    }\n",
       "\n",
       "    .dataframe thead th {\n",
       "        text-align: right;\n",
       "    }\n",
       "</style>\n",
       "<table border=\"1\" class=\"dataframe\">\n",
       "  <thead>\n",
       "    <tr style=\"text-align: right;\">\n",
       "      <th></th>\n",
       "      <th>day</th>\n",
       "      <th>BTS_ID</th>\n",
       "      <th>RRC_Conn_Release_due_to_S1_Link_Fail</th>\n",
       "      <th>Max_Num_RRC_Conn_User</th>\n",
       "      <th>Mean_RRC_Conn_Setup_Time_ms</th>\n",
       "      <th>Avg_PRACH_Usage_per_Second</th>\n",
       "      <th>FDD_Cell_DL_Avg_Agg_Thruput_Mbps</th>\n",
       "      <th>FDD_Cell_UL_Avg_Agg_Thruput_Mbps</th>\n",
       "      <th>FDD_Cell_DL_MAC_Data_Volume_MB</th>\n",
       "      <th>FDD_Cell_UL_MAC_Data_Volume_MB</th>\n",
       "      <th>...</th>\n",
       "      <th>DL_64QAM_Modulation_Scheme_Usage_Pct</th>\n",
       "      <th>UL_16QAM_Modulation_Scheme_Usage_Pct</th>\n",
       "      <th>FDD_ERAB_Setup_Success_Pct</th>\n",
       "      <th>DL 64QAM vs UL 16 ratio</th>\n",
       "      <th>Avg CQI to DL 64QAM ratio</th>\n",
       "      <th>DL PRB vs UL PRB ratio</th>\n",
       "      <th>MIMO_Usage_Pct</th>\n",
       "      <th>RSSI_Avg_dBm</th>\n",
       "      <th>PRACH_Avg_NI_dBm</th>\n",
       "      <th>Power_DL_Avg_mw</th>\n",
       "    </tr>\n",
       "  </thead>\n",
       "  <tbody>\n",
       "    <tr>\n",
       "      <th>0</th>\n",
       "      <td>2020-12-16</td>\n",
       "      <td>10-1</td>\n",
       "      <td>0.0</td>\n",
       "      <td>10.666667</td>\n",
       "      <td>10.181750</td>\n",
       "      <td>0.598113</td>\n",
       "      <td>15.432917</td>\n",
       "      <td>0.827500</td>\n",
       "      <td>56828.471394</td>\n",
       "      <td>3800.954458</td>\n",
       "      <td>...</td>\n",
       "      <td>83.976446</td>\n",
       "      <td>45.754344</td>\n",
       "      <td>99.971157</td>\n",
       "      <td>1.835376</td>\n",
       "      <td>0.154557</td>\n",
       "      <td>1.210074</td>\n",
       "      <td>97.925378</td>\n",
       "      <td>-69.812267</td>\n",
       "      <td>-119.040736</td>\n",
       "      <td>15386.552083</td>\n",
       "    </tr>\n",
       "    <tr>\n",
       "      <th>1</th>\n",
       "      <td>2020-12-16</td>\n",
       "      <td>10-2</td>\n",
       "      <td>0.0</td>\n",
       "      <td>2.125000</td>\n",
       "      <td>1.666792</td>\n",
       "      <td>0.093437</td>\n",
       "      <td>6.310417</td>\n",
       "      <td>0.730000</td>\n",
       "      <td>1805.221844</td>\n",
       "      <td>332.183693</td>\n",
       "      <td>...</td>\n",
       "      <td>62.255030</td>\n",
       "      <td>42.497237</td>\n",
       "      <td>99.929478</td>\n",
       "      <td>1.464919</td>\n",
       "      <td>0.178633</td>\n",
       "      <td>0.755029</td>\n",
       "      <td>92.218066</td>\n",
       "      <td>-86.227163</td>\n",
       "      <td>-115.395241</td>\n",
       "      <td>7913.541667</td>\n",
       "    </tr>\n",
       "    <tr>\n",
       "      <th>2</th>\n",
       "      <td>2020-12-16</td>\n",
       "      <td>100-1</td>\n",
       "      <td>0.0</td>\n",
       "      <td>24.083333</td>\n",
       "      <td>20.737667</td>\n",
       "      <td>1.367511</td>\n",
       "      <td>14.935417</td>\n",
       "      <td>1.695000</td>\n",
       "      <td>136063.358720</td>\n",
       "      <td>15646.961508</td>\n",
       "      <td>...</td>\n",
       "      <td>69.792755</td>\n",
       "      <td>67.834631</td>\n",
       "      <td>99.440905</td>\n",
       "      <td>1.028866</td>\n",
       "      <td>0.162624</td>\n",
       "      <td>2.025333</td>\n",
       "      <td>82.093341</td>\n",
       "      <td>-91.928520</td>\n",
       "      <td>-120.045476</td>\n",
       "      <td>16587.656250</td>\n",
       "    </tr>\n",
       "    <tr>\n",
       "      <th>3</th>\n",
       "      <td>2020-12-16</td>\n",
       "      <td>100-2</td>\n",
       "      <td>0.0</td>\n",
       "      <td>8.500000</td>\n",
       "      <td>7.644583</td>\n",
       "      <td>1.916562</td>\n",
       "      <td>5.789167</td>\n",
       "      <td>0.841250</td>\n",
       "      <td>12039.323018</td>\n",
       "      <td>1778.473769</td>\n",
       "      <td>...</td>\n",
       "      <td>28.072433</td>\n",
       "      <td>54.548570</td>\n",
       "      <td>99.263804</td>\n",
       "      <td>0.514632</td>\n",
       "      <td>0.311248</td>\n",
       "      <td>1.589387</td>\n",
       "      <td>76.158130</td>\n",
       "      <td>-98.385215</td>\n",
       "      <td>-120.045476</td>\n",
       "      <td>6388.468750</td>\n",
       "    </tr>\n",
       "    <tr>\n",
       "      <th>4</th>\n",
       "      <td>2020-12-16</td>\n",
       "      <td>100-3</td>\n",
       "      <td>0.0</td>\n",
       "      <td>8.333333</td>\n",
       "      <td>4.672417</td>\n",
       "      <td>0.384918</td>\n",
       "      <td>8.597917</td>\n",
       "      <td>1.043333</td>\n",
       "      <td>56530.843458</td>\n",
       "      <td>5806.853017</td>\n",
       "      <td>...</td>\n",
       "      <td>50.873659</td>\n",
       "      <td>77.707216</td>\n",
       "      <td>99.775470</td>\n",
       "      <td>0.654684</td>\n",
       "      <td>0.190177</td>\n",
       "      <td>2.849405</td>\n",
       "      <td>66.569430</td>\n",
       "      <td>-96.467722</td>\n",
       "      <td>-120.045476</td>\n",
       "      <td>10989.072917</td>\n",
       "    </tr>\n",
       "  </tbody>\n",
       "</table>\n",
       "<p>5 rows × 33 columns</p>\n",
       "</div>"
      ],
      "text/plain": [
       "          day BTS_ID  RRC_Conn_Release_due_to_S1_Link_Fail  \\\n",
       "0  2020-12-16   10-1                                   0.0   \n",
       "1  2020-12-16   10-2                                   0.0   \n",
       "2  2020-12-16  100-1                                   0.0   \n",
       "3  2020-12-16  100-2                                   0.0   \n",
       "4  2020-12-16  100-3                                   0.0   \n",
       "\n",
       "   Max_Num_RRC_Conn_User  Mean_RRC_Conn_Setup_Time_ms  \\\n",
       "0              10.666667                    10.181750   \n",
       "1               2.125000                     1.666792   \n",
       "2              24.083333                    20.737667   \n",
       "3               8.500000                     7.644583   \n",
       "4               8.333333                     4.672417   \n",
       "\n",
       "   Avg_PRACH_Usage_per_Second  FDD_Cell_DL_Avg_Agg_Thruput_Mbps  \\\n",
       "0                    0.598113                         15.432917   \n",
       "1                    0.093437                          6.310417   \n",
       "2                    1.367511                         14.935417   \n",
       "3                    1.916562                          5.789167   \n",
       "4                    0.384918                          8.597917   \n",
       "\n",
       "   FDD_Cell_UL_Avg_Agg_Thruput_Mbps  FDD_Cell_DL_MAC_Data_Volume_MB  \\\n",
       "0                          0.827500                    56828.471394   \n",
       "1                          0.730000                     1805.221844   \n",
       "2                          1.695000                   136063.358720   \n",
       "3                          0.841250                    12039.323018   \n",
       "4                          1.043333                    56530.843458   \n",
       "\n",
       "   FDD_Cell_UL_MAC_Data_Volume_MB  ...  DL_64QAM_Modulation_Scheme_Usage_Pct  \\\n",
       "0                     3800.954458  ...                             83.976446   \n",
       "1                      332.183693  ...                             62.255030   \n",
       "2                    15646.961508  ...                             69.792755   \n",
       "3                     1778.473769  ...                             28.072433   \n",
       "4                     5806.853017  ...                             50.873659   \n",
       "\n",
       "   UL_16QAM_Modulation_Scheme_Usage_Pct  FDD_ERAB_Setup_Success_Pct  \\\n",
       "0                             45.754344                   99.971157   \n",
       "1                             42.497237                   99.929478   \n",
       "2                             67.834631                   99.440905   \n",
       "3                             54.548570                   99.263804   \n",
       "4                             77.707216                   99.775470   \n",
       "\n",
       "   DL 64QAM vs UL 16 ratio  Avg CQI to DL 64QAM ratio  DL PRB vs UL PRB ratio  \\\n",
       "0                 1.835376                   0.154557                1.210074   \n",
       "1                 1.464919                   0.178633                0.755029   \n",
       "2                 1.028866                   0.162624                2.025333   \n",
       "3                 0.514632                   0.311248                1.589387   \n",
       "4                 0.654684                   0.190177                2.849405   \n",
       "\n",
       "   MIMO_Usage_Pct  RSSI_Avg_dBm  PRACH_Avg_NI_dBm  Power_DL_Avg_mw  \n",
       "0       97.925378    -69.812267       -119.040736     15386.552083  \n",
       "1       92.218066    -86.227163       -115.395241      7913.541667  \n",
       "2       82.093341    -91.928520       -120.045476     16587.656250  \n",
       "3       76.158130    -98.385215       -120.045476      6388.468750  \n",
       "4       66.569430    -96.467722       -120.045476     10989.072917  \n",
       "\n",
       "[5 rows x 33 columns]"
      ]
     },
     "execution_count": 37,
     "metadata": {},
     "output_type": "execute_result"
    }
   ],
   "source": [
    "print(data.info())\n",
    "data.head()"
   ]
  },
  {
   "cell_type": "code",
   "execution_count": 38,
   "id": "b4a377b5",
   "metadata": {
    "scrolled": true
   },
   "outputs": [
    {
     "data": {
      "text/html": [
       "<div>\n",
       "<style scoped>\n",
       "    .dataframe tbody tr th:only-of-type {\n",
       "        vertical-align: middle;\n",
       "    }\n",
       "\n",
       "    .dataframe tbody tr th {\n",
       "        vertical-align: top;\n",
       "    }\n",
       "\n",
       "    .dataframe thead th {\n",
       "        text-align: right;\n",
       "    }\n",
       "</style>\n",
       "<table border=\"1\" class=\"dataframe\">\n",
       "  <thead>\n",
       "    <tr style=\"text-align: right;\">\n",
       "      <th></th>\n",
       "      <th>count</th>\n",
       "      <th>mean</th>\n",
       "      <th>std</th>\n",
       "      <th>min</th>\n",
       "      <th>25%</th>\n",
       "      <th>50%</th>\n",
       "      <th>75%</th>\n",
       "      <th>max</th>\n",
       "    </tr>\n",
       "  </thead>\n",
       "  <tbody>\n",
       "    <tr>\n",
       "      <th>RRC_Conn_Release_due_to_S1_Link_Fail</th>\n",
       "      <td>108499.0</td>\n",
       "      <td>41.211228</td>\n",
       "      <td>632.870359</td>\n",
       "      <td>0.000000</td>\n",
       "      <td>0.000000</td>\n",
       "      <td>0.000000</td>\n",
       "      <td>0.000000</td>\n",
       "      <td>55559.000000</td>\n",
       "    </tr>\n",
       "    <tr>\n",
       "      <th>Max_Num_RRC_Conn_User</th>\n",
       "      <td>108499.0</td>\n",
       "      <td>17.203139</td>\n",
       "      <td>15.166520</td>\n",
       "      <td>0.000000</td>\n",
       "      <td>7.333333</td>\n",
       "      <td>13.625000</td>\n",
       "      <td>23.000000</td>\n",
       "      <td>236.708333</td>\n",
       "    </tr>\n",
       "    <tr>\n",
       "      <th>Mean_RRC_Conn_Setup_Time_ms</th>\n",
       "      <td>108499.0</td>\n",
       "      <td>31.807346</td>\n",
       "      <td>152.401176</td>\n",
       "      <td>0.000000</td>\n",
       "      <td>6.092625</td>\n",
       "      <td>14.019167</td>\n",
       "      <td>27.748188</td>\n",
       "      <td>7080.505750</td>\n",
       "    </tr>\n",
       "    <tr>\n",
       "      <th>Avg_PRACH_Usage_per_Second</th>\n",
       "      <td>108499.0</td>\n",
       "      <td>0.964043</td>\n",
       "      <td>3.177729</td>\n",
       "      <td>0.000000</td>\n",
       "      <td>0.194172</td>\n",
       "      <td>0.412789</td>\n",
       "      <td>0.846186</td>\n",
       "      <td>101.797048</td>\n",
       "    </tr>\n",
       "    <tr>\n",
       "      <th>FDD_Cell_DL_Avg_Agg_Thruput_Mbps</th>\n",
       "      <td>108499.0</td>\n",
       "      <td>8.885745</td>\n",
       "      <td>5.958099</td>\n",
       "      <td>0.000000</td>\n",
       "      <td>4.839167</td>\n",
       "      <td>7.544583</td>\n",
       "      <td>11.876667</td>\n",
       "      <td>55.279583</td>\n",
       "    </tr>\n",
       "    <tr>\n",
       "      <th>FDD_Cell_UL_Avg_Agg_Thruput_Mbps</th>\n",
       "      <td>108499.0</td>\n",
       "      <td>1.300382</td>\n",
       "      <td>0.745492</td>\n",
       "      <td>0.000000</td>\n",
       "      <td>0.781667</td>\n",
       "      <td>1.215417</td>\n",
       "      <td>1.687083</td>\n",
       "      <td>9.301250</td>\n",
       "    </tr>\n",
       "    <tr>\n",
       "      <th>FDD_Cell_DL_MAC_Data_Volume_MB</th>\n",
       "      <td>108499.0</td>\n",
       "      <td>49104.803027</td>\n",
       "      <td>59236.048562</td>\n",
       "      <td>0.000000</td>\n",
       "      <td>4749.499157</td>\n",
       "      <td>25945.904354</td>\n",
       "      <td>74569.684531</td>\n",
       "      <td>596767.838031</td>\n",
       "    </tr>\n",
       "    <tr>\n",
       "      <th>FDD_Cell_UL_MAC_Data_Volume_MB</th>\n",
       "      <td>108499.0</td>\n",
       "      <td>6930.623418</td>\n",
       "      <td>7198.936599</td>\n",
       "      <td>0.000000</td>\n",
       "      <td>1205.473163</td>\n",
       "      <td>4618.594468</td>\n",
       "      <td>10567.695750</td>\n",
       "      <td>81996.843720</td>\n",
       "    </tr>\n",
       "    <tr>\n",
       "      <th>Avg_CQI</th>\n",
       "      <td>108499.0</td>\n",
       "      <td>10.806676</td>\n",
       "      <td>1.808540</td>\n",
       "      <td>0.000000</td>\n",
       "      <td>9.850000</td>\n",
       "      <td>10.979167</td>\n",
       "      <td>12.008333</td>\n",
       "      <td>14.991667</td>\n",
       "    </tr>\n",
       "    <tr>\n",
       "      <th>FDD_RRC_Est_Success_Pct</th>\n",
       "      <td>108499.0</td>\n",
       "      <td>99.527394</td>\n",
       "      <td>1.000186</td>\n",
       "      <td>0.000000</td>\n",
       "      <td>99.485097</td>\n",
       "      <td>99.742848</td>\n",
       "      <td>99.882248</td>\n",
       "      <td>100.000000</td>\n",
       "    </tr>\n",
       "    <tr>\n",
       "      <th>FDD_RRC_Re_Est_Success_Pct</th>\n",
       "      <td>108499.0</td>\n",
       "      <td>56.806345</td>\n",
       "      <td>24.506069</td>\n",
       "      <td>0.000000</td>\n",
       "      <td>38.558997</td>\n",
       "      <td>57.933579</td>\n",
       "      <td>76.844901</td>\n",
       "      <td>100.000000</td>\n",
       "    </tr>\n",
       "    <tr>\n",
       "      <th>RRC_Reconfiguration_Success_Pct</th>\n",
       "      <td>108499.0</td>\n",
       "      <td>98.909748</td>\n",
       "      <td>1.753213</td>\n",
       "      <td>0.000000</td>\n",
       "      <td>98.780465</td>\n",
       "      <td>99.365595</td>\n",
       "      <td>99.689304</td>\n",
       "      <td>100.000000</td>\n",
       "    </tr>\n",
       "    <tr>\n",
       "      <th>UE_Context_Est_Success_Pct</th>\n",
       "      <td>108499.0</td>\n",
       "      <td>98.747025</td>\n",
       "      <td>2.140857</td>\n",
       "      <td>0.000000</td>\n",
       "      <td>98.559778</td>\n",
       "      <td>99.335846</td>\n",
       "      <td>99.718029</td>\n",
       "      <td>100.000000</td>\n",
       "    </tr>\n",
       "    <tr>\n",
       "      <th>RRC_Drop_Pct</th>\n",
       "      <td>108499.0</td>\n",
       "      <td>1.705393</td>\n",
       "      <td>3.051044</td>\n",
       "      <td>0.000000</td>\n",
       "      <td>0.378788</td>\n",
       "      <td>0.814188</td>\n",
       "      <td>1.829581</td>\n",
       "      <td>130.296158</td>\n",
       "    </tr>\n",
       "    <tr>\n",
       "      <th>FDD_ERAB_Drop_Pct</th>\n",
       "      <td>108499.0</td>\n",
       "      <td>0.720154</td>\n",
       "      <td>2.232997</td>\n",
       "      <td>0.000000</td>\n",
       "      <td>0.109723</td>\n",
       "      <td>0.252406</td>\n",
       "      <td>0.554559</td>\n",
       "      <td>86.649565</td>\n",
       "    </tr>\n",
       "    <tr>\n",
       "      <th>FDD_ERAB_Block_Pct</th>\n",
       "      <td>108499.0</td>\n",
       "      <td>0.000003</td>\n",
       "      <td>0.000367</td>\n",
       "      <td>0.000000</td>\n",
       "      <td>0.000000</td>\n",
       "      <td>0.000000</td>\n",
       "      <td>0.000000</td>\n",
       "      <td>0.092030</td>\n",
       "    </tr>\n",
       "    <tr>\n",
       "      <th>ERAB_Block_in_HO_Pct</th>\n",
       "      <td>108499.0</td>\n",
       "      <td>0.122301</td>\n",
       "      <td>2.494600</td>\n",
       "      <td>0.000000</td>\n",
       "      <td>0.000000</td>\n",
       "      <td>0.000000</td>\n",
       "      <td>0.000000</td>\n",
       "      <td>97.350993</td>\n",
       "    </tr>\n",
       "    <tr>\n",
       "      <th>UL_PRB_Util_Pct</th>\n",
       "      <td>108499.0</td>\n",
       "      <td>21.513267</td>\n",
       "      <td>12.814369</td>\n",
       "      <td>2.421861</td>\n",
       "      <td>11.215633</td>\n",
       "      <td>18.381751</td>\n",
       "      <td>28.862394</td>\n",
       "      <td>86.179007</td>\n",
       "    </tr>\n",
       "    <tr>\n",
       "      <th>DL_PRB_Util_Pct</th>\n",
       "      <td>108499.0</td>\n",
       "      <td>34.894538</td>\n",
       "      <td>28.167297</td>\n",
       "      <td>2.515546</td>\n",
       "      <td>9.147794</td>\n",
       "      <td>26.154550</td>\n",
       "      <td>57.344667</td>\n",
       "      <td>99.852309</td>\n",
       "    </tr>\n",
       "    <tr>\n",
       "      <th>Cell_UL_BLER_Pct</th>\n",
       "      <td>108499.0</td>\n",
       "      <td>6.490781</td>\n",
       "      <td>2.763760</td>\n",
       "      <td>0.000000</td>\n",
       "      <td>4.911370</td>\n",
       "      <td>6.247194</td>\n",
       "      <td>7.548583</td>\n",
       "      <td>50.000000</td>\n",
       "    </tr>\n",
       "    <tr>\n",
       "      <th>Cell_DL_BLER_Pct</th>\n",
       "      <td>108499.0</td>\n",
       "      <td>10.557836</td>\n",
       "      <td>1.750967</td>\n",
       "      <td>0.000000</td>\n",
       "      <td>10.203579</td>\n",
       "      <td>11.055835</td>\n",
       "      <td>11.479215</td>\n",
       "      <td>41.214058</td>\n",
       "    </tr>\n",
       "    <tr>\n",
       "      <th>DL_64QAM_Modulation_Scheme_Usage_Pct</th>\n",
       "      <td>108499.0</td>\n",
       "      <td>51.922329</td>\n",
       "      <td>24.508872</td>\n",
       "      <td>0.000000</td>\n",
       "      <td>32.806921</td>\n",
       "      <td>53.329491</td>\n",
       "      <td>71.057849</td>\n",
       "      <td>99.856971</td>\n",
       "    </tr>\n",
       "    <tr>\n",
       "      <th>UL_16QAM_Modulation_Scheme_Usage_Pct</th>\n",
       "      <td>108499.0</td>\n",
       "      <td>53.414500</td>\n",
       "      <td>24.701615</td>\n",
       "      <td>0.000000</td>\n",
       "      <td>32.778642</td>\n",
       "      <td>57.083661</td>\n",
       "      <td>74.165956</td>\n",
       "      <td>99.949256</td>\n",
       "    </tr>\n",
       "    <tr>\n",
       "      <th>FDD_ERAB_Setup_Success_Pct</th>\n",
       "      <td>108499.0</td>\n",
       "      <td>98.784027</td>\n",
       "      <td>2.148936</td>\n",
       "      <td>0.000000</td>\n",
       "      <td>98.635062</td>\n",
       "      <td>99.382559</td>\n",
       "      <td>99.741394</td>\n",
       "      <td>100.000000</td>\n",
       "    </tr>\n",
       "    <tr>\n",
       "      <th>DL 64QAM vs UL 16 ratio</th>\n",
       "      <td>108499.0</td>\n",
       "      <td>1.432326</td>\n",
       "      <td>6.119849</td>\n",
       "      <td>0.000000</td>\n",
       "      <td>0.693917</td>\n",
       "      <td>1.037144</td>\n",
       "      <td>1.468185</td>\n",
       "      <td>847.975324</td>\n",
       "    </tr>\n",
       "    <tr>\n",
       "      <th>Avg CQI to DL 64QAM ratio</th>\n",
       "      <td>108499.0</td>\n",
       "      <td>0.429269</td>\n",
       "      <td>6.403240</td>\n",
       "      <td>0.000000</td>\n",
       "      <td>0.165330</td>\n",
       "      <td>0.205964</td>\n",
       "      <td>0.304052</td>\n",
       "      <td>1412.085669</td>\n",
       "    </tr>\n",
       "    <tr>\n",
       "      <th>DL PRB vs UL PRB ratio</th>\n",
       "      <td>108499.0</td>\n",
       "      <td>1.488088</td>\n",
       "      <td>0.830787</td>\n",
       "      <td>0.147916</td>\n",
       "      <td>0.738219</td>\n",
       "      <td>1.319557</td>\n",
       "      <td>2.046437</td>\n",
       "      <td>7.906772</td>\n",
       "    </tr>\n",
       "    <tr>\n",
       "      <th>MIMO_Usage_Pct</th>\n",
       "      <td>108499.0</td>\n",
       "      <td>74.599737</td>\n",
       "      <td>19.870653</td>\n",
       "      <td>0.000000</td>\n",
       "      <td>66.564527</td>\n",
       "      <td>80.086417</td>\n",
       "      <td>88.857583</td>\n",
       "      <td>99.672148</td>\n",
       "    </tr>\n",
       "    <tr>\n",
       "      <th>RSSI_Avg_dBm</th>\n",
       "      <td>108499.0</td>\n",
       "      <td>-95.005311</td>\n",
       "      <td>7.388712</td>\n",
       "      <td>-123.694874</td>\n",
       "      <td>-101.189423</td>\n",
       "      <td>-96.210694</td>\n",
       "      <td>-89.825718</td>\n",
       "      <td>-48.281460</td>\n",
       "    </tr>\n",
       "    <tr>\n",
       "      <th>PRACH_Avg_NI_dBm</th>\n",
       "      <td>108499.0</td>\n",
       "      <td>-117.816756</td>\n",
       "      <td>3.826271</td>\n",
       "      <td>-129.408785</td>\n",
       "      <td>-120.000000</td>\n",
       "      <td>-119.727600</td>\n",
       "      <td>-117.046767</td>\n",
       "      <td>-87.538184</td>\n",
       "    </tr>\n",
       "    <tr>\n",
       "      <th>Power_DL_Avg_mw</th>\n",
       "      <td>108499.0</td>\n",
       "      <td>13010.784641</td>\n",
       "      <td>8379.040187</td>\n",
       "      <td>0.000000</td>\n",
       "      <td>6717.093750</td>\n",
       "      <td>10266.125000</td>\n",
       "      <td>16632.729167</td>\n",
       "      <td>39630.552083</td>\n",
       "    </tr>\n",
       "  </tbody>\n",
       "</table>\n",
       "</div>"
      ],
      "text/plain": [
       "                                         count          mean           std  \\\n",
       "RRC_Conn_Release_due_to_S1_Link_Fail  108499.0     41.211228    632.870359   \n",
       "Max_Num_RRC_Conn_User                 108499.0     17.203139     15.166520   \n",
       "Mean_RRC_Conn_Setup_Time_ms           108499.0     31.807346    152.401176   \n",
       "Avg_PRACH_Usage_per_Second            108499.0      0.964043      3.177729   \n",
       "FDD_Cell_DL_Avg_Agg_Thruput_Mbps      108499.0      8.885745      5.958099   \n",
       "FDD_Cell_UL_Avg_Agg_Thruput_Mbps      108499.0      1.300382      0.745492   \n",
       "FDD_Cell_DL_MAC_Data_Volume_MB        108499.0  49104.803027  59236.048562   \n",
       "FDD_Cell_UL_MAC_Data_Volume_MB        108499.0   6930.623418   7198.936599   \n",
       "Avg_CQI                               108499.0     10.806676      1.808540   \n",
       "FDD_RRC_Est_Success_Pct               108499.0     99.527394      1.000186   \n",
       "FDD_RRC_Re_Est_Success_Pct            108499.0     56.806345     24.506069   \n",
       "RRC_Reconfiguration_Success_Pct       108499.0     98.909748      1.753213   \n",
       "UE_Context_Est_Success_Pct            108499.0     98.747025      2.140857   \n",
       "RRC_Drop_Pct                          108499.0      1.705393      3.051044   \n",
       "FDD_ERAB_Drop_Pct                     108499.0      0.720154      2.232997   \n",
       "FDD_ERAB_Block_Pct                    108499.0      0.000003      0.000367   \n",
       "ERAB_Block_in_HO_Pct                  108499.0      0.122301      2.494600   \n",
       "UL_PRB_Util_Pct                       108499.0     21.513267     12.814369   \n",
       "DL_PRB_Util_Pct                       108499.0     34.894538     28.167297   \n",
       "Cell_UL_BLER_Pct                      108499.0      6.490781      2.763760   \n",
       "Cell_DL_BLER_Pct                      108499.0     10.557836      1.750967   \n",
       "DL_64QAM_Modulation_Scheme_Usage_Pct  108499.0     51.922329     24.508872   \n",
       "UL_16QAM_Modulation_Scheme_Usage_Pct  108499.0     53.414500     24.701615   \n",
       "FDD_ERAB_Setup_Success_Pct            108499.0     98.784027      2.148936   \n",
       "DL 64QAM vs UL 16 ratio               108499.0      1.432326      6.119849   \n",
       "Avg CQI to DL 64QAM ratio             108499.0      0.429269      6.403240   \n",
       "DL PRB vs UL PRB ratio                108499.0      1.488088      0.830787   \n",
       "MIMO_Usage_Pct                        108499.0     74.599737     19.870653   \n",
       "RSSI_Avg_dBm                          108499.0    -95.005311      7.388712   \n",
       "PRACH_Avg_NI_dBm                      108499.0   -117.816756      3.826271   \n",
       "Power_DL_Avg_mw                       108499.0  13010.784641   8379.040187   \n",
       "\n",
       "                                             min          25%           50%  \\\n",
       "RRC_Conn_Release_due_to_S1_Link_Fail    0.000000     0.000000      0.000000   \n",
       "Max_Num_RRC_Conn_User                   0.000000     7.333333     13.625000   \n",
       "Mean_RRC_Conn_Setup_Time_ms             0.000000     6.092625     14.019167   \n",
       "Avg_PRACH_Usage_per_Second              0.000000     0.194172      0.412789   \n",
       "FDD_Cell_DL_Avg_Agg_Thruput_Mbps        0.000000     4.839167      7.544583   \n",
       "FDD_Cell_UL_Avg_Agg_Thruput_Mbps        0.000000     0.781667      1.215417   \n",
       "FDD_Cell_DL_MAC_Data_Volume_MB          0.000000  4749.499157  25945.904354   \n",
       "FDD_Cell_UL_MAC_Data_Volume_MB          0.000000  1205.473163   4618.594468   \n",
       "Avg_CQI                                 0.000000     9.850000     10.979167   \n",
       "FDD_RRC_Est_Success_Pct                 0.000000    99.485097     99.742848   \n",
       "FDD_RRC_Re_Est_Success_Pct              0.000000    38.558997     57.933579   \n",
       "RRC_Reconfiguration_Success_Pct         0.000000    98.780465     99.365595   \n",
       "UE_Context_Est_Success_Pct              0.000000    98.559778     99.335846   \n",
       "RRC_Drop_Pct                            0.000000     0.378788      0.814188   \n",
       "FDD_ERAB_Drop_Pct                       0.000000     0.109723      0.252406   \n",
       "FDD_ERAB_Block_Pct                      0.000000     0.000000      0.000000   \n",
       "ERAB_Block_in_HO_Pct                    0.000000     0.000000      0.000000   \n",
       "UL_PRB_Util_Pct                         2.421861    11.215633     18.381751   \n",
       "DL_PRB_Util_Pct                         2.515546     9.147794     26.154550   \n",
       "Cell_UL_BLER_Pct                        0.000000     4.911370      6.247194   \n",
       "Cell_DL_BLER_Pct                        0.000000    10.203579     11.055835   \n",
       "DL_64QAM_Modulation_Scheme_Usage_Pct    0.000000    32.806921     53.329491   \n",
       "UL_16QAM_Modulation_Scheme_Usage_Pct    0.000000    32.778642     57.083661   \n",
       "FDD_ERAB_Setup_Success_Pct              0.000000    98.635062     99.382559   \n",
       "DL 64QAM vs UL 16 ratio                 0.000000     0.693917      1.037144   \n",
       "Avg CQI to DL 64QAM ratio               0.000000     0.165330      0.205964   \n",
       "DL PRB vs UL PRB ratio                  0.147916     0.738219      1.319557   \n",
       "MIMO_Usage_Pct                          0.000000    66.564527     80.086417   \n",
       "RSSI_Avg_dBm                         -123.694874  -101.189423    -96.210694   \n",
       "PRACH_Avg_NI_dBm                     -129.408785  -120.000000   -119.727600   \n",
       "Power_DL_Avg_mw                         0.000000  6717.093750  10266.125000   \n",
       "\n",
       "                                               75%            max  \n",
       "RRC_Conn_Release_due_to_S1_Link_Fail      0.000000   55559.000000  \n",
       "Max_Num_RRC_Conn_User                    23.000000     236.708333  \n",
       "Mean_RRC_Conn_Setup_Time_ms              27.748188    7080.505750  \n",
       "Avg_PRACH_Usage_per_Second                0.846186     101.797048  \n",
       "FDD_Cell_DL_Avg_Agg_Thruput_Mbps         11.876667      55.279583  \n",
       "FDD_Cell_UL_Avg_Agg_Thruput_Mbps          1.687083       9.301250  \n",
       "FDD_Cell_DL_MAC_Data_Volume_MB        74569.684531  596767.838031  \n",
       "FDD_Cell_UL_MAC_Data_Volume_MB        10567.695750   81996.843720  \n",
       "Avg_CQI                                  12.008333      14.991667  \n",
       "FDD_RRC_Est_Success_Pct                  99.882248     100.000000  \n",
       "FDD_RRC_Re_Est_Success_Pct               76.844901     100.000000  \n",
       "RRC_Reconfiguration_Success_Pct          99.689304     100.000000  \n",
       "UE_Context_Est_Success_Pct               99.718029     100.000000  \n",
       "RRC_Drop_Pct                              1.829581     130.296158  \n",
       "FDD_ERAB_Drop_Pct                         0.554559      86.649565  \n",
       "FDD_ERAB_Block_Pct                        0.000000       0.092030  \n",
       "ERAB_Block_in_HO_Pct                      0.000000      97.350993  \n",
       "UL_PRB_Util_Pct                          28.862394      86.179007  \n",
       "DL_PRB_Util_Pct                          57.344667      99.852309  \n",
       "Cell_UL_BLER_Pct                          7.548583      50.000000  \n",
       "Cell_DL_BLER_Pct                         11.479215      41.214058  \n",
       "DL_64QAM_Modulation_Scheme_Usage_Pct     71.057849      99.856971  \n",
       "UL_16QAM_Modulation_Scheme_Usage_Pct     74.165956      99.949256  \n",
       "FDD_ERAB_Setup_Success_Pct               99.741394     100.000000  \n",
       "DL 64QAM vs UL 16 ratio                   1.468185     847.975324  \n",
       "Avg CQI to DL 64QAM ratio                 0.304052    1412.085669  \n",
       "DL PRB vs UL PRB ratio                    2.046437       7.906772  \n",
       "MIMO_Usage_Pct                           88.857583      99.672148  \n",
       "RSSI_Avg_dBm                            -89.825718     -48.281460  \n",
       "PRACH_Avg_NI_dBm                       -117.046767     -87.538184  \n",
       "Power_DL_Avg_mw                       16632.729167   39630.552083  "
      ]
     },
     "execution_count": 38,
     "metadata": {},
     "output_type": "execute_result"
    }
   ],
   "source": [
    "data.describe().T"
   ]
  },
  {
   "cell_type": "code",
   "execution_count": 39,
   "id": "8a1d413d",
   "metadata": {
    "scrolled": true
   },
   "outputs": [
    {
     "data": {
      "text/plain": [
       "day                                     0\n",
       "BTS_ID                                  0\n",
       "RRC_Conn_Release_due_to_S1_Link_Fail    0\n",
       "Max_Num_RRC_Conn_User                   0\n",
       "Mean_RRC_Conn_Setup_Time_ms             0\n",
       "Avg_PRACH_Usage_per_Second              0\n",
       "FDD_Cell_DL_Avg_Agg_Thruput_Mbps        0\n",
       "FDD_Cell_UL_Avg_Agg_Thruput_Mbps        0\n",
       "FDD_Cell_DL_MAC_Data_Volume_MB          0\n",
       "FDD_Cell_UL_MAC_Data_Volume_MB          0\n",
       "Avg_CQI                                 0\n",
       "FDD_RRC_Est_Success_Pct                 0\n",
       "FDD_RRC_Re_Est_Success_Pct              0\n",
       "RRC_Reconfiguration_Success_Pct         0\n",
       "UE_Context_Est_Success_Pct              0\n",
       "RRC_Drop_Pct                            0\n",
       "FDD_ERAB_Drop_Pct                       0\n",
       "FDD_ERAB_Block_Pct                      0\n",
       "ERAB_Block_in_HO_Pct                    0\n",
       "UL_PRB_Util_Pct                         0\n",
       "DL_PRB_Util_Pct                         0\n",
       "Cell_UL_BLER_Pct                        0\n",
       "Cell_DL_BLER_Pct                        0\n",
       "DL_64QAM_Modulation_Scheme_Usage_Pct    0\n",
       "UL_16QAM_Modulation_Scheme_Usage_Pct    0\n",
       "FDD_ERAB_Setup_Success_Pct              0\n",
       "DL 64QAM vs UL 16 ratio                 0\n",
       "Avg CQI to DL 64QAM ratio               0\n",
       "DL PRB vs UL PRB ratio                  0\n",
       "MIMO_Usage_Pct                          0\n",
       "RSSI_Avg_dBm                            0\n",
       "PRACH_Avg_NI_dBm                        0\n",
       "Power_DL_Avg_mw                         0\n",
       "dtype: int64"
      ]
     },
     "execution_count": 39,
     "metadata": {},
     "output_type": "execute_result"
    }
   ],
   "source": [
    "data.isna().sum()"
   ]
  },
  {
   "cell_type": "markdown",
   "id": "d3ebd705",
   "metadata": {},
   "source": [
    "## Part 1"
   ]
  },
  {
   "cell_type": "code",
   "execution_count": 40,
   "id": "337fae40",
   "metadata": {},
   "outputs": [],
   "source": [
    "# day column is changed to datetime type\n",
    "data[\"day\"] = pd.to_datetime(data[\"day\"])"
   ]
  },
  {
   "cell_type": "code",
   "execution_count": 41,
   "id": "74e52f96",
   "metadata": {
    "scrolled": true
   },
   "outputs": [
    {
     "name": "stdout",
     "output_type": "stream",
     "text": [
      "<class 'pandas.core.frame.DataFrame'>\n",
      "Index: 593 entries, 107906 to 108498\n",
      "Data columns (total 33 columns):\n",
      " #   Column                                Non-Null Count  Dtype         \n",
      "---  ------                                --------------  -----         \n",
      " 0   day                                   593 non-null    datetime64[ns]\n",
      " 1   BTS_ID                                593 non-null    object        \n",
      " 2   RRC_Conn_Release_due_to_S1_Link_Fail  593 non-null    float64       \n",
      " 3   Max_Num_RRC_Conn_User                 593 non-null    float64       \n",
      " 4   Mean_RRC_Conn_Setup_Time_ms           593 non-null    float64       \n",
      " 5   Avg_PRACH_Usage_per_Second            593 non-null    float64       \n",
      " 6   FDD_Cell_DL_Avg_Agg_Thruput_Mbps      593 non-null    float64       \n",
      " 7   FDD_Cell_UL_Avg_Agg_Thruput_Mbps      593 non-null    float64       \n",
      " 8   FDD_Cell_DL_MAC_Data_Volume_MB        593 non-null    float64       \n",
      " 9   FDD_Cell_UL_MAC_Data_Volume_MB        593 non-null    float64       \n",
      " 10  Avg_CQI                               593 non-null    float64       \n",
      " 11  FDD_RRC_Est_Success_Pct               593 non-null    float64       \n",
      " 12  FDD_RRC_Re_Est_Success_Pct            593 non-null    float64       \n",
      " 13  RRC_Reconfiguration_Success_Pct       593 non-null    float64       \n",
      " 14  UE_Context_Est_Success_Pct            593 non-null    float64       \n",
      " 15  RRC_Drop_Pct                          593 non-null    float64       \n",
      " 16  FDD_ERAB_Drop_Pct                     593 non-null    float64       \n",
      " 17  FDD_ERAB_Block_Pct                    593 non-null    float64       \n",
      " 18  ERAB_Block_in_HO_Pct                  593 non-null    float64       \n",
      " 19  UL_PRB_Util_Pct                       593 non-null    float64       \n",
      " 20  DL_PRB_Util_Pct                       593 non-null    float64       \n",
      " 21  Cell_UL_BLER_Pct                      593 non-null    float64       \n",
      " 22  Cell_DL_BLER_Pct                      593 non-null    float64       \n",
      " 23  DL_64QAM_Modulation_Scheme_Usage_Pct  593 non-null    float64       \n",
      " 24  UL_16QAM_Modulation_Scheme_Usage_Pct  593 non-null    float64       \n",
      " 25  FDD_ERAB_Setup_Success_Pct            593 non-null    float64       \n",
      " 26  DL 64QAM vs UL 16 ratio               593 non-null    float64       \n",
      " 27  Avg CQI to DL 64QAM ratio             593 non-null    float64       \n",
      " 28  DL PRB vs UL PRB ratio                593 non-null    float64       \n",
      " 29  MIMO_Usage_Pct                        593 non-null    float64       \n",
      " 30  RSSI_Avg_dBm                          593 non-null    float64       \n",
      " 31  PRACH_Avg_NI_dBm                      593 non-null    float64       \n",
      " 32  Power_DL_Avg_mw                       593 non-null    float64       \n",
      "dtypes: datetime64[ns](1), float64(31), object(1)\n",
      "memory usage: 157.5+ KB\n"
     ]
    }
   ],
   "source": [
    "# Data is filtered to include only the last day. From over 100k rows, only 593 are left\n",
    "data = data[data[\"day\"] == \"2021-06-13\"].copy()\n",
    "data.info()"
   ]
  },
  {
   "cell_type": "code",
   "execution_count": 42,
   "id": "6ba01b85",
   "metadata": {},
   "outputs": [],
   "source": [
    "# Day column is dropped and BTS_ID column is saved to an external variable\n",
    "BTS_ID = data[[\"BTS_ID\"]]\n",
    "BTS_ID = BTS_ID.reset_index()\n",
    "data = data.drop(columns=[\"day\", \"BTS_ID\"]).copy()"
   ]
  },
  {
   "cell_type": "code",
   "execution_count": 43,
   "id": "d4027177",
   "metadata": {},
   "outputs": [],
   "source": [
    "# Data is scaled\n",
    "std_scaler = StandardScaler()\n",
    "data = pd.DataFrame(std_scaler.fit_transform(data))"
   ]
  },
  {
   "cell_type": "code",
   "execution_count": 44,
   "id": "8e18e326",
   "metadata": {},
   "outputs": [
    {
     "data": {
      "text/plain": [
       "array([[ 0.66555402, -0.55807498],\n",
       "       [ 0.13542909, -0.45650603],\n",
       "       [ 1.64634518, -0.24188268],\n",
       "       ...,\n",
       "       [-0.97310967,  6.50883279],\n",
       "       [-1.54031334, -2.24294076],\n",
       "       [-2.75011419, -1.74595762]])"
      ]
     },
     "execution_count": 44,
     "metadata": {},
     "output_type": "execute_result"
    }
   ],
   "source": [
    "# Data dimensionality is reduced\n",
    "pca_2 = PCA(n_components=2, random_state=42).fit(data)\n",
    "pca_data = pca_2.transform(data)\n",
    "pca_data"
   ]
  },
  {
   "cell_type": "code",
   "execution_count": 45,
   "id": "5c17deb8",
   "metadata": {},
   "outputs": [],
   "source": [
    "# The BTS_ID variable is added back\n",
    "data = pd.DataFrame(data = pca_data, columns=[\"ColA\", \"ColB\"])\n",
    "data = pd.concat([data, BTS_ID], axis=1)"
   ]
  },
  {
   "cell_type": "code",
   "execution_count": 46,
   "id": "918f166e",
   "metadata": {},
   "outputs": [
    {
     "data": {
      "application/vnd.plotly.v1+json": {
       "config": {
        "plotlyServerURL": "https://plot.ly"
       },
       "data": [
        {
         "customdata": [
          "10-1",
          "10-2",
          "100-1",
          "100-2",
          "100-3",
          "100-4",
          "100-5",
          "100-6",
          "10119-1",
          "10119-2",
          "10119-3",
          "10238-1",
          "10238-2",
          "10238-3",
          "10627-1",
          "10627-2",
          "10627-3",
          "1104-25",
          "1104-26",
          "1105-1",
          "1105-2",
          "1105-3",
          "113-1",
          "113-2",
          "113-3",
          "115-1",
          "115-2",
          "116-1",
          "116-2",
          "116-3",
          "119-7",
          "119-8",
          "119-9",
          "12-1",
          "12-2",
          "120-1",
          "120-2",
          "120-3",
          "1200-1",
          "1200-2",
          "1200-3",
          "1201-1",
          "1201-2",
          "1201-3",
          "1202-1",
          "1202-2",
          "1202-3",
          "1203-1",
          "1203-2",
          "1203-3",
          "1207-1",
          "1207-2",
          "1208-1",
          "1208-2",
          "1208-3",
          "1209-1",
          "1209-2",
          "1209-3",
          "121-1",
          "121-2",
          "1211-1",
          "1211-2",
          "1211-3",
          "1216-1",
          "1216-2",
          "1218-1",
          "1218-2",
          "1219-1",
          "1219-2",
          "1219-4",
          "1219-5",
          "1220-1",
          "1220-2",
          "1220-3",
          "1226-1",
          "1226-2",
          "1227-1",
          "1227-2",
          "1227-3",
          "1228-1",
          "1228-2",
          "1228-3",
          "1228-4",
          "1228-5",
          "1228-6",
          "1229-1",
          "1229-2",
          "1229-3",
          "1229-4",
          "1229-5",
          "1229-6",
          "1230-1",
          "1230-2",
          "1230-3",
          "1231-1",
          "1231-2",
          "1231-3",
          "1232-1",
          "1232-2",
          "1232-3",
          "1233-1",
          "1233-2",
          "1233-3",
          "1233-4",
          "1233-5",
          "1233-6",
          "1234-1",
          "1234-2",
          "1234-3",
          "1235-1",
          "1235-2",
          "1235-3",
          "1236-1",
          "1236-2",
          "1236-3",
          "1237-1",
          "1237-2",
          "1237-3",
          "1237-4",
          "1237-5",
          "1237-6",
          "1238-1",
          "1238-2",
          "1238-3",
          "1239-1",
          "1239-2",
          "1239-3",
          "1239-4",
          "1239-5",
          "1239-6",
          "1241-1",
          "1241-2",
          "1241-3",
          "1242-25",
          "1242-26",
          "126-1",
          "126-2",
          "126-3",
          "128-1",
          "128-2",
          "13-1",
          "13-2",
          "132-1",
          "132-2",
          "132-3",
          "133-1",
          "133-2",
          "133-3",
          "134-1",
          "134-2",
          "134-3",
          "135-1",
          "135-2",
          "135-3",
          "137-1",
          "137-2",
          "137-3",
          "139-1",
          "139-2",
          "139-3",
          "14-1",
          "14-2",
          "14-3",
          "14-4",
          "14-5",
          "14-6",
          "140-1",
          "140-2",
          "141-1",
          "141-2",
          "143-1",
          "143-2",
          "143-3",
          "146-1",
          "146-2",
          "146-3",
          "147-1",
          "147-2",
          "148-1",
          "148-2",
          "148-3",
          "153-1",
          "153-2",
          "154-1",
          "154-2",
          "159-1",
          "159-2",
          "16-1",
          "160-1",
          "160-2",
          "160-3",
          "161-1",
          "161-2",
          "161-3",
          "165-1",
          "165-2",
          "165-3",
          "166-1",
          "166-2",
          "167-1",
          "167-2",
          "167-3",
          "17-1",
          "179-1",
          "179-2",
          "179-3",
          "180-1",
          "180-2",
          "180-3",
          "181-1",
          "181-2",
          "181-3",
          "189-1",
          "189-2",
          "189-3",
          "192-1",
          "193-1",
          "193-2",
          "193-3",
          "194-1",
          "194-2",
          "194-3",
          "195-1",
          "195-2",
          "196-4",
          "196-5",
          "198-1",
          "198-2",
          "198-3",
          "199-1",
          "199-2",
          "199-3",
          "20-1",
          "20-2",
          "200-1",
          "200-2",
          "2005-1",
          "2005-2",
          "2005-3",
          "201-1",
          "201-2",
          "201-3",
          "201-4",
          "201-5",
          "201-6",
          "204-1",
          "204-2",
          "205-1",
          "205-2",
          "206-1",
          "206-2",
          "207-1",
          "207-2",
          "207-3",
          "208-1",
          "208-2",
          "208-3",
          "209-1",
          "209-2",
          "209-3",
          "21-1",
          "21-2",
          "210-1",
          "210-2",
          "211-1",
          "211-2",
          "211-3",
          "212-1",
          "212-2",
          "213-1",
          "213-2",
          "214-1",
          "214-2",
          "214-3",
          "215-1",
          "215-2",
          "215-3",
          "216-1",
          "216-2",
          "216-3",
          "217-1",
          "217-2",
          "218-1",
          "218-2",
          "22-1",
          "22-2",
          "222-1",
          "222-2",
          "222-3",
          "222-4",
          "222-5",
          "222-6",
          "223-1",
          "223-2",
          "223-3",
          "223-4",
          "223-5",
          "223-6",
          "224-1",
          "224-2",
          "224-3",
          "226-1",
          "226-2",
          "226-3",
          "226-4",
          "226-5",
          "226-6",
          "229-1",
          "229-2",
          "229-3",
          "229-4",
          "229-5",
          "229-6",
          "23-1",
          "23-2",
          "234-1",
          "234-2",
          "234-3",
          "238-7",
          "238-8",
          "239-1",
          "239-2",
          "24-1",
          "24-2",
          "24-3",
          "240-1",
          "240-2",
          "240-3",
          "243-1",
          "243-2",
          "244-1",
          "244-2",
          "245-1",
          "245-2",
          "245-3",
          "245-4",
          "245-5",
          "245-6",
          "246-1",
          "246-2",
          "246-3",
          "247-1",
          "247-2",
          "247-3",
          "248-1",
          "248-2",
          "248-3",
          "248-4",
          "248-5",
          "248-6",
          "250-1",
          "250-2",
          "250-3",
          "250-4",
          "250-5",
          "250-6",
          "251-7",
          "251-8",
          "251-9",
          "252-1",
          "252-2",
          "252-3",
          "253-1",
          "253-2",
          "253-3",
          "253-4",
          "253-5",
          "253-6",
          "254-1",
          "254-2",
          "254-3",
          "255-1",
          "255-2",
          "255-3",
          "255-4",
          "255-5",
          "255-6",
          "256-1",
          "256-2",
          "256-3",
          "256-4",
          "257-1",
          "257-2",
          "257-3",
          "259-1",
          "259-2",
          "259-3",
          "26-1",
          "26-2",
          "260-1",
          "260-2",
          "260-3",
          "261-1",
          "261-2",
          "261-3",
          "261-4",
          "261-5",
          "261-6",
          "262-1",
          "262-2",
          "262-3",
          "262-4",
          "262-5",
          "262-6",
          "263-1",
          "263-2",
          "263-3",
          "264-1",
          "264-2",
          "264-3",
          "265-1",
          "265-2",
          "265-3",
          "266-1",
          "266-2",
          "266-3",
          "266-4",
          "266-5",
          "266-6",
          "269-1",
          "269-2",
          "269-3",
          "269-4",
          "269-5",
          "269-6",
          "27-1",
          "27-2",
          "27-3",
          "271-1",
          "271-2",
          "271-3",
          "272-1",
          "272-2",
          "273-1",
          "276-1",
          "276-2",
          "276-3",
          "277-1",
          "277-2",
          "277-3",
          "278-1",
          "278-2",
          "279-1",
          "279-2",
          "279-3",
          "283-1",
          "283-2",
          "283-3",
          "287-1",
          "287-2",
          "288-1",
          "288-2",
          "288-3",
          "289-1",
          "289-2",
          "289-3",
          "289-4",
          "289-5",
          "289-6",
          "293-1",
          "293-2",
          "293-3",
          "295-1",
          "295-2",
          "298-1",
          "298-2",
          "298-3",
          "3-1",
          "3-2",
          "400-1",
          "400-2",
          "401-25",
          "401-26",
          "402-1",
          "402-2",
          "402-3",
          "405-1",
          "405-2",
          "405-3",
          "406-1",
          "406-2",
          "406-3",
          "407-1",
          "407-2",
          "407-3",
          "409-1",
          "409-2",
          "410-1",
          "410-2",
          "410-3",
          "411-1",
          "411-2",
          "412-1",
          "412-2",
          "412-3",
          "413-1",
          "413-2",
          "413-3",
          "418-1",
          "418-2",
          "423-1",
          "423-2",
          "431-7",
          "431-8",
          "431-9",
          "432-1",
          "432-2",
          "434-7",
          "434-8",
          "434-9",
          "443-7",
          "443-8",
          "443-9",
          "452-1",
          "465-1",
          "465-2",
          "466-1",
          "466-2",
          "471-1",
          "471-2",
          "471-3",
          "474-1",
          "474-2",
          "474-3",
          "475-1",
          "475-2",
          "475-3",
          "635-1",
          "635-2",
          "635-3",
          "646-1",
          "646-2",
          "646-3",
          "650-1",
          "650-2",
          "650-3",
          "667-1",
          "667-2",
          "667-3",
          "674-1",
          "674-2",
          "674-3",
          "675-1",
          "675-2",
          "675-3",
          "676-1",
          "676-2",
          "676-3",
          "680-1",
          "680-2",
          "680-3",
          "689-1",
          "689-2",
          "689-3",
          "699-1",
          "699-2",
          "699-3",
          "7-25",
          "7-26",
          "9-1",
          "9-2",
          "900-1",
          "900-2",
          "903-1",
          "903-2",
          "903-3",
          "904-1",
          "904-2",
          "904-3",
          "910-1",
          "910-2",
          "910-3",
          "911-1",
          "911-2",
          "911-3",
          "917-1",
          "917-2",
          "917-3",
          "924-1",
          "924-2",
          "924-3",
          "942-1",
          "942-2",
          "943-1",
          "943-2",
          "943-3",
          "944-1",
          "944-2",
          "944-3",
          "950-1",
          "950-2",
          "952-7",
          "952-8"
         ],
         "hovertemplate": "BTS_ID: %{customdata}<br>ColA: %{x} <br>ColB: %{y}",
         "legendgroup": "",
         "marker": {
          "color": "#636efa",
          "symbol": "circle"
         },
         "mode": "markers",
         "name": "",
         "orientation": "v",
         "showlegend": false,
         "type": "scatter",
         "x": [
          0.665554020935984,
          0.13542909304121675,
          1.6463451805465217,
          -2.1819871558739625,
          -1.122742646425574,
          0.9837616738867867,
          -0.6284783275992303,
          -1.1705005075680057,
          -1.8582479528638902,
          -2.6231349171544602,
          -0.14323484174242587,
          -3.4515280174504888,
          -0.19487334635345244,
          -2.1934467695485034,
          2.814218860150989,
          -2.848429591802005,
          2.146826754397127,
          -0.28571698261842204,
          0.15614412498790536,
          0.17845686134014013,
          2.0156099580996547,
          3.7543839223569813,
          2.698443986691479,
          -1.1427043015844334,
          -0.007919791872684535,
          2.401376472397889,
          4.420979160388129,
          -1.8765655031488413,
          -1.8223365298606042,
          -2.4970775621932817,
          -4.665100720511665,
          -2.1954328210308924,
          -4.169093526342709,
          -1.6534881742903085,
          -3.183216630045643,
          -1.8561189513096856,
          1.157006268930434,
          1.630158794917141,
          0.10974742904816694,
          -0.4730219355428368,
          5.186122432113827,
          -2.264220164047956,
          -2.8728343819512916,
          2.069814439146388,
          2.4664045540672883,
          0.3420037156134793,
          3.480226285998438,
          2.7858890284720887,
          -0.9270451689490314,
          -2.637667662552491,
          -1.3824606516083633,
          -1.4756109536380622,
          1.2031286895909197,
          -0.5610241666647066,
          1.6521362358445775,
          5.070770368121154,
          -0.36628665783089426,
          2.1353235365529986,
          -1.4699439928167752,
          -1.881206993163437,
          1.4582013094795305,
          -0.1437381916952082,
          5.010092495909209,
          -1.0013345230754547,
          -2.0599864674658597,
          -0.5347911956473973,
          0.5018243104402592,
          0.9868970330298552,
          -4.218110678389753,
          2.53212708317205,
          -3.413447094309013,
          1.0914001308940209,
          -0.7361996036344003,
          0.5213110626363425,
          1.038849408497754,
          1.1697747904758369,
          6.010372795185004,
          3.4487006929536124,
          4.167618563691862,
          2.4635113633500816,
          1.4089194282245354,
          2.2215787413321846,
          2.9588535755172507,
          -0.6775107654681196,
          -0.6942820752267104,
          -1.162987752709849,
          -0.2898571706061711,
          1.8847705930715644,
          -2.7498749402983393,
          1.4360055445661404,
          2.5564121027347726,
          9.791050387594318,
          6.311559971481352,
          -0.22021731442176573,
          -1.7455232925988613,
          -0.3423608375686767,
          -1.4613362864074606,
          3.831937017345402,
          5.869251148420332,
          0.40675539165140584,
          -3.7904525709433976,
          -2.7408844102715864,
          -3.0653761889240934,
          -3.2354258420744877,
          -2.9399477801322624,
          -3.2769487327136533,
          2.419343836667621,
          1.4537163096178383,
          -1.2169753788366138,
          5.88563713466349,
          5.464779236694949,
          -0.58688401558279,
          5.100302142761357,
          2.7110532718044085,
          3.822022683319338,
          0.8206928492336864,
          3.1596745727376803,
          -0.8156940938735228,
          -0.3896273431740644,
          3.935541635776939,
          0.030594679237228285,
          2.8495798162871884,
          5.42273455852841,
          6.310913706121065,
          -1.0529738008613019,
          -1.6265193548646197,
          -2.0135101062516316,
          -1.3551843957355951,
          -1.6571939198198007,
          -2.662635404346182,
          1.287394512700882,
          4.98185865365211,
          2.189596292559795,
          -1.2423093047093254,
          3.1524287858309714,
          -1.8491851903035053,
          0.5844025767463641,
          0.943768704229977,
          -7.240262723771627,
          -6.690594141600091,
          -0.7015588491893631,
          -1.4484242401574268,
          -3.645739609899184,
          -3.7194535732619136,
          -3.048730551125929,
          -1.8315575395713721,
          -2.6288315387080856,
          -0.5568582094851772,
          -2.819267796196722,
          -1.0244907089230568,
          -1.5431619234615275,
          -3.688022032795067,
          -0.05900701883423263,
          -3.5714110743181133,
          -2.803163727109548,
          -0.6260309456073705,
          -1.931223624473283,
          3.734345969854259,
          -0.7235429361143039,
          6.429330418323481,
          -1.1455926473200726,
          -1.6398794068031797,
          -2.2111588756593985,
          -1.6422064961651428,
          -0.8159775940211537,
          -2.675740590535689,
          -0.7561562890552959,
          -2.4490530692483086,
          -1.3188533888627345,
          -1.3453405588854492,
          -3.7500513732958813,
          -3.1247457665341125,
          -3.5468300279418226,
          1.0417410280319284,
          -0.6380392797619939,
          -3.294543407649188,
          -0.9168104988629133,
          -0.4114462823535555,
          2.755343773910423,
          5.166203378669914,
          4.462240013400919,
          -0.23859865521670762,
          -1.7530987645526224,
          2.145220147104739,
          0.012073033522459116,
          -0.8400034282174594,
          0.10085469873127459,
          -2.4693970868494346,
          0.6157623638740618,
          3.7965588729843796,
          -1.545290187905367,
          3.1685160264845247,
          2.066789944653408,
          3.4323296257836717,
          0.009878652332377318,
          -5.155243781172092,
          -2.1483402092855477,
          0.4583825972901405,
          -1.7833923694757712,
          0.4056286943145185,
          -1.5489577802007901,
          -0.47407739637914814,
          3.3190596563775956,
          -4.368206938438038,
          4.476271547384633,
          -1.0047612142599907,
          -2.4863459880627636,
          4.828022736967739,
          3.376465039604004,
          -4.523030101268734,
          6.152719649779456,
          5.255528437208042,
          -5.203385743969341,
          -6.021791028471112,
          -4.996565986416592,
          0.5411404592675684,
          -3.962504964931433,
          -3.1834585824858523,
          -0.16200261497731738,
          0.8859277084823783,
          0.6617420608384698,
          1.6453388223962861,
          -2.704353735883677,
          -0.6283049980763215,
          1.8696756639606913,
          -4.166826023326462,
          5.682436719626833,
          2.738698895030791,
          3.6368032704475692,
          4.488973388031705,
          1.7626028586935554,
          -1.5808885710613956,
          3.4475687250560347,
          4.345222226185716,
          2.2671415592267103,
          3.5318035327313035,
          -2.5344746627423573,
          -1.2266485542153658,
          0.9632521753808665,
          -1.6882490708557232,
          1.5886191303954678,
          1.0790281353801239,
          0.011041155549011153,
          0.5134240989938416,
          1.0147266754617004,
          2.6106411415805315,
          -0.593891248481091,
          3.5668409430947774,
          1.2634468434144057,
          -1.070398181002135,
          -1.5299398612781485,
          -1.027471057504741,
          2.904669059648071,
          5.378397322645547,
          1.8385577335892251,
          1.6688579555551741,
          4.257256867088179,
          -1.9000594122315535,
          -1.4816493635420802,
          0.0016057697951494074,
          -1.3253187810369025,
          2.2972814658001557,
          -2.133433732294222,
          0.33473253866136843,
          -1.7282258786426388,
          0.6583672940227202,
          1.7520875312685589,
          3.2040747047393103,
          2.578873730871733,
          -0.9995122376869208,
          -0.7283538351913462,
          1.1208486074496082,
          1.0190368927708087,
          1.3055727406904272,
          -2.6643800261227186,
          -2.673473147671273,
          -0.4846522066093208,
          -3.100465132555819,
          3.580290240180018,
          1.2802518207895477,
          -1.1937631832843831,
          2.951087479026215,
          3.7559488490316753,
          3.2950824006240285,
          -0.29417954484357356,
          0.2762457495948029,
          1.3988505146982617,
          -6.481694501118128,
          2.659138179080519,
          1.3251825334295382,
          -5.192890206473575,
          2.8307499757520924,
          1.4310993011124329,
          -0.65386597148125,
          1.9781083378779332,
          0.4012859649466369,
          0.5827424680437236,
          2.7244383943022203,
          -0.13302864350012936,
          1.1367641372000745,
          -0.4425375529948697,
          -0.548479846662912,
          3.7864705432454517,
          2.240865234667878,
          1.040301141560535,
          2.5713280148694673,
          0.9619040270788894,
          0.31376111691674713,
          0.5860571057709486,
          -0.038616090550959485,
          0.9643168777129193,
          -1.067665942727889,
          -1.3838534903422581,
          -5.716874323387762,
          -4.10859108666566,
          2.406646911302285,
          -2.1681672252114,
          1.8403079304443855,
          -2.1428826044426588,
          -1.7965262027148365,
          -4.8879894109290385,
          -0.7692847844566194,
          1.1423309706393903,
          -0.3341185619777982,
          3.2034037003888507,
          -0.7320928949708705,
          -2.1936754069934317,
          -2.419747440664508,
          3.559381543747361,
          1.4432611090618763,
          -0.8209449600473395,
          -0.6099525313015367,
          -0.9376403285497514,
          0.1358248134756346,
          0.16642165097608663,
          2.894582777848196,
          3.424962133545331,
          0.9911623903391805,
          3.5963221137378794,
          1.7866145608896724,
          2.4496720099346234,
          4.264858061484998,
          5.155648665889678,
          4.72464811261686,
          -0.4631129045265344,
          -3.807741579505904,
          2.823264076023804,
          -2.3581001635256036,
          -3.7060522026893445,
          1.9933130050748877,
          3.6798246528215786,
          1.7410475649005384,
          0.061567362663761796,
          1.30226168550849,
          1.8061004391618491,
          2.3338551478635137,
          -0.7098277151444328,
          -1.4258201101708452,
          3.1594749793069767,
          6.77155164940316,
          2.640006248986967,
          -0.11167151997656584,
          -0.04609857512890663,
          0.3930184431111271,
          0.3839147445225121,
          1.7250077554411398,
          1.8053416289497017,
          1.4578374741686646,
          3.7850992192055135,
          3.708171361379187,
          2.1752032947369426,
          -4.795714863520516,
          3.236309237501306,
          1.6847761586428411,
          -3.5552687519271515,
          4.905452536545483,
          2.9180269636497815,
          0.43711413192709686,
          1.1209331039965584,
          1.3933728940729122,
          -0.3875382181386759,
          2.2385805812207273,
          -0.2574403178370017,
          0.9633081228837785,
          5.283943191041496,
          1.516367090321776,
          -1.7203584340537006,
          1.9826713447340911,
          -1.1196788579670365,
          1.6167443968013684,
          0.5252917831162286,
          1.7781209458298326,
          -3.4769872906402957,
          -1.7400377738373183,
          -1.253594879584696,
          -3.511306080039347,
          -0.47419625826756906,
          -0.8860423504639974,
          0.08787605823678586,
          -0.01557700541540764,
          1.9815248191265504,
          -0.026649497592872756,
          -1.6663940485853468,
          1.9033426191904774,
          4.120205709189543,
          4.827995382812121,
          4.186839941539537,
          -1.0679012272971153,
          -2.5268097497315467,
          1.6869848196159285,
          4.0443041948393885,
          -4.334993734470791,
          -3.5252912011012407,
          2.7527015161352857,
          0.31709711181426603,
          1.869799752547835,
          4.288245566351443,
          -0.35413374287931243,
          0.14216181168846376,
          -0.04640607839813512,
          -1.1799892588418985,
          2.4932786488337904,
          -2.664913590711441,
          0.6069554912193864,
          2.190277566138096,
          -1.3516302333385726,
          -3.7440327093303964,
          -2.3413675007644095,
          -3.0276451098780406,
          -1.9576679259903234,
          -1.2441596453864732,
          -3.611296901931448,
          -3.3231148878025354,
          -3.6148435020847365,
          -1.6178494858236045,
          -1.2784281627781366,
          -4.940533338635807,
          -2.162430592544202,
          -0.3466231192585994,
          -2.720662321480854,
          -2.978987666706883,
          -1.4168817221565686,
          -3.6406108048906587,
          -3.4681591343249805,
          -3.3512103763195675,
          -2.787723404475454,
          -4.197383358323818,
          -2.27246769472622,
          3.2065259729145357,
          5.051906803923707,
          0.3472077468568652,
          -3.665407469466876,
          3.3205646002449685,
          -0.7757154734171394,
          0.442720345611235,
          2.355106487683339,
          -0.402181583768456,
          0.11039717018118879,
          0.04367941955177966,
          1.9224811630305307,
          -2.403489760122665,
          -2.163089978291095,
          -2.4825375546692174,
          -3.70143219480455,
          3.395404187653546,
          3.718141728030184,
          3.863978053927925,
          -0.5591612892943224,
          -0.2541259258854725,
          0.3611330085934286,
          -0.8958403528096195,
          -2.1230467496715613,
          -3.6748675890714617,
          1.7702129723287536,
          -3.5157347111173496,
          -2.5529894337372006,
          1.1974556331269437,
          -2.0713544639369355,
          -2.655173661586702,
          -0.030366114068261476,
          -0.6658563870668225,
          -1.8222466629228098,
          -1.7961059318872847,
          -2.6377276456050858,
          -4.094764149205236,
          -1.0148329943662306,
          -2.620910018220501,
          -4.4604017469573085,
          -3.934946459804079,
          -3.4150277330670877,
          -1.9807867997125768,
          -2.686588084300422,
          -0.6940855550538295,
          -2.897801008085146,
          -0.9199936127615771,
          -7.009611536144178,
          -1.9599774411475424,
          -1.656633249569307,
          -2.532727359018871,
          1.7398110389713073,
          -1.657444519291624,
          1.4408126760774267,
          3.0791949506138976,
          1.6166588817903154,
          1.6704552803756332,
          0.6534414194511146,
          -3.895192477768034,
          -1.5748838571172092,
          -4.0872252659754515,
          1.6108120845608962,
          -1.4623753510565682,
          -4.012716811569942,
          0.025588475862619187,
          -2.4616860943927072,
          -0.30707092572068795,
          -1.2927104810855792,
          -1.2109231162574374,
          -1.9711791695024885,
          -0.8562726781316472,
          -1.9573680391144388,
          -1.4107932996663923,
          -3.103071956914552,
          -2.370376160798334,
          -3.66076311165941,
          -2.9703545089414383,
          -1.953616091619824,
          -1.4078393480563454,
          1.4572784980229405,
          -0.4222596193543509,
          0.5282973796817533,
          -1.9482463048169862,
          -2.768233790131178,
          -0.5000856788739954,
          6.816324933762997,
          -2.8399105957626567,
          1.6477779874491276,
          -2.581864064650493,
          0.43014743026990726,
          -3.6318614644332348,
          -3.5496811832779485,
          0.6609295069056992,
          1.53401745966073,
          6.559434313767802,
          0.013160253792467484,
          2.85310155146399,
          -0.9913718273575969,
          -0.512996780552985,
          2.440318124193926,
          -0.6902107346989127,
          0.9130440824674874,
          0.5328484232322501,
          -1.7150735772171062,
          -1.005557877448077,
          1.8152905763474882,
          -5.6427227260250055,
          -5.6427227260250055,
          -5.6427227260250055,
          4.573714965041837,
          3.964891327112894,
          -3.7250208307988832,
          5.638504945965474,
          -3.0099356608263657,
          -2.2302465787394534,
          0.6527460390862819,
          5.565563559901764,
          4.076976605796159,
          -0.03427748694738338,
          1.4528069624310176,
          -1.5835485542566903,
          3.117896996604486,
          -3.683729492635476,
          2.228065885911376,
          4.682741887239376,
          -4.044305847047013,
          -0.7218667635366296,
          1.774051046020457,
          5.809598552638289,
          -2.5087877270439916,
          1.2561094014593988,
          6.371895967890878,
          2.1449197013742167,
          -1.6588341376388875,
          -2.675483183819686,
          -2.5321144802213404,
          -1.4267588718376298,
          -1.6948223338393402,
          1.4481739883445646,
          0.4631910830025035,
          -2.390551866841269,
          -0.8516189543280932,
          -0.9731096652997296,
          -1.540313337121236,
          -2.750114194798433
         ],
         "xaxis": "x",
         "y": [
          -0.5580749834037817,
          -0.45650603325534755,
          -0.24188267943020364,
          0.41315729848233984,
          -0.15574238304162635,
          -0.08845419674394657,
          -0.27574109615977543,
          -0.15415223424035626,
          -0.9030620911731381,
          -0.15611968173898333,
          1.0879847195685413,
          9.828003307839367,
          -0.4656033942860937,
          -1.0962725489649456,
          -3.0010115231476906,
          -2.303378821126473,
          -2.0966982111273085,
          0.33667724046621855,
          -0.4748807063693463,
          1.8580317976188019,
          -0.6975776896054691,
          0.43990826346597656,
          0.3202079807702323,
          -0.18638924811022822,
          0.5280952696177624,
          0.25533376795737267,
          0.900629881294009,
          -0.16037968420116835,
          -1.2569382909290732,
          -0.4158200790094539,
          -0.9757475397299358,
          -2.254667984497903,
          -1.236724430197599,
          -0.7188106262046132,
          -0.5196653668841184,
          -1.8175656862113216,
          -1.483812398260058,
          -1.5851358103925346,
          -0.5302919213779034,
          -0.6131277345984498,
          0.34421522965298107,
          6.109792067948364,
          -0.0670902258283245,
          0.11190618217445708,
          -1.1567090949021583,
          -1.7217745769635064,
          -0.8686990028996016,
          -1.0315222486331845,
          0.03389914337975626,
          -1.8565653837790599,
          -0.18942870923337923,
          -0.45771301572724954,
          0.5992529919249695,
          -1.703932797060713,
          0.6889328769716073,
          1.1467852234917817,
          -1.3614285960689856,
          1.39442122914031,
          -1.6329596515868694,
          -2.141998810661278,
          -0.16373020247651382,
          -1.0558619747067666,
          0.022088350062568436,
          2.082187455700568,
          0.16200387469484412,
          0.6446774971946664,
          -0.16620476210120802,
          -1.9196992927449505,
          1.953401986874184,
          -1.1478010349936272,
          -0.8575097657927472,
          0.7408632456167701,
          -0.06428034957162261,
          0.7987857357798183,
          -0.6582758162255813,
          -1.883049013721054,
          0.7655350176957185,
          -0.3054758069895494,
          0.03789258919291059,
          0.1397140135455651,
          -1.1155836604490572,
          1.2860355690165195,
          -0.6890888204606633,
          -1.2668124422776248,
          0.028932193857363054,
          -1.5036742243723569,
          0.2518164843467211,
          0.12922708995533175,
          -1.2792216715218592,
          0.41149889298904746,
          0.558620586057734,
          -0.254133042514325,
          -0.46725388527604467,
          -1.0891851138117352,
          -1.5855355606067816,
          -2.41584537519457,
          -2.720466872260341,
          -0.8044214043906727,
          0.2576829460325958,
          -1.1757090101196337,
          -1.4881936128235125,
          -1.9499528353547937,
          -2.0359239543651655,
          -1.6727941203467043,
          -1.5389031256911825,
          -1.9259528580151732,
          -0.8462662079010154,
          -1.1572861139092865,
          -1.8391987196015716,
          0.7298470542104544,
          0.6770267523037096,
          -1.1396709418840296,
          -0.2867722528229466,
          0.5499347830285991,
          -0.6174251426251102,
          -0.8881809763344322,
          -0.26666066670420935,
          1.6481703613555014,
          -1.708860276458249,
          -0.28255454939536373,
          -1.8380382451953379,
          -0.13971693685269052,
          -0.03994811352629023,
          0.5812973990295832,
          -1.375904077889893,
          -1.0295948947910811,
          -2.4323287681224754,
          -1.4769980834424619,
          -0.29886067708867836,
          -2.180762926288145,
          1.2142677837112645,
          -0.24601150937800798,
          0.34450526563916234,
          -0.4815892966592162,
          0.740190652727001,
          -1.416858076858863,
          -0.9931503227888562,
          -1.0113865321845954,
          9.065110698619591,
          6.6211687630680105,
          2.3431506005854987,
          1.0724153215022867,
          -1.0492787594992359,
          0.7052787840603666,
          -1.2384824962482641,
          -1.2755518477997252,
          0.41191308971902935,
          -0.5669257720073241,
          -0.7510964136902686,
          0.12538651482709903,
          -0.525849964020108,
          -0.86796016982313,
          -0.8497289904116017,
          -1.5028043669815423,
          -1.166889508308285,
          -1.239428612588103,
          -1.8623228817447421,
          0.3877133770113778,
          -0.9009578324458447,
          1.4530648229876513,
          -1.069523275187682,
          -1.6528061153778009,
          -1.2083681676979898,
          -0.9454573585342063,
          -1.4476624038693242,
          -1.0733683861777112,
          -0.015741424057294492,
          0.6468243951363799,
          -1.1282082521707029,
          -0.29045960115873803,
          5.689426716414258,
          4.522908945590791,
          23.869527728336347,
          0.8920941933270277,
          -1.1507385359505693,
          -1.3253473040247805,
          -1.9935909276316455,
          -2.1190190942575238,
          -1.4984840875350391,
          -0.32287888457359737,
          -0.6388929416532557,
          0.3423782944875595,
          0.5944611134379536,
          0.0958293680215937,
          -0.9963755534229843,
          -0.48649511960214076,
          1.2808203906886566,
          6.3953789008315365,
          -1.0026917945453582,
          -1.388380107382436,
          -0.9171228555495932,
          0.1928877655440682,
          -0.9322192214753806,
          0.20824450307982229,
          4.706175638364559,
          2.872368179024878,
          1.7585181665411207,
          -2.338452339795444,
          -0.9326616371778239,
          -1.4521338745015333,
          -2.373855962206805,
          -1.9728117463017407,
          5.292523483422563,
          -1.347586464813831,
          0.4968523110757284,
          0.6873118668983752,
          -1.4326459393344355,
          -0.010066399135797089,
          -0.02100378355167712,
          -0.2427586580793631,
          1.739200246492827,
          2.3382426219811383,
          1.1038289612865282,
          2.5394097112563077,
          1.6229707138571317,
          3.9593183552286404,
          -0.7900556111741363,
          0.04826263926858959,
          -0.4385449970960095,
          -0.91300000709556,
          -1.0709676910401118,
          -1.5821072932129299,
          -0.7778775662846552,
          0.06545006495611101,
          0.7221459266547657,
          -0.7092086912755191,
          0.12315248227078819,
          0.05864622934461072,
          0.5114611716479572,
          0.11813247621866187,
          -1.0671210363459256,
          2.0298309141237185,
          1.7690858050972254,
          2.351764565026271,
          -0.08619481931299013,
          0.2990405357703676,
          -0.3594191952935112,
          -0.4829613633073115,
          1.3096942890582222,
          -0.35037026209725525,
          -0.45435533903216624,
          -0.7443249920062163,
          -0.5106770338373755,
          -0.6353594390265206,
          -0.5166488252242986,
          1.989497022569422,
          0.871657150111347,
          -0.04218975600672136,
          0.5923569549394366,
          -0.3460309878512883,
          0.212600796611312,
          1.2020567421790396,
          1.4826792572174659,
          1.3584164439689235,
          0.18848324788409096,
          0.8867657584393255,
          -0.16749583694097583,
          -0.4784223613052646,
          -1.5116112630858614,
          -0.7707028070808939,
          -1.2878440607443977,
          1.1621290050748312,
          -0.23286359755118868,
          0.39168520361983117,
          -1.1397852073868577,
          2.4336344648245074,
          1.0403207171287292,
          -0.1009996041824567,
          -0.4582639791553195,
          -0.5607832470808942,
          -0.8945171182216826,
          0.4980438071211884,
          -0.3491048477146503,
          0.009053322260922784,
          0.48003788355747495,
          0.25876995380781387,
          0.3916378863300243,
          2.269694440534196,
          1.0084990411945225,
          1.2011719726935595,
          -0.3537962294646461,
          0.8567018441321657,
          2.192973353079425,
          1.5480996326641239,
          1.1260693442042295,
          1.9938528478363329,
          -1.1872403165282706,
          4.426272242939769,
          -0.4710856978489629,
          -0.9258195420203871,
          0.07325732204803465,
          -0.7600493849279036,
          -0.8648359889977005,
          2.51911641623184,
          -0.495116297188033,
          -1.2469070212641113,
          0.10379376259790439,
          0.3959396510164139,
          0.7065233986556038,
          -1.020739358663598,
          -1.8138917382202944,
          -0.5605727559508423,
          1.5420376750880374,
          2.1493807714036324,
          -1.6110234097936462,
          1.420455411117738,
          1.9939327109805594,
          -0.09575203226188972,
          0.3011207756476896,
          0.9661790631088754,
          -0.4364466531703813,
          -0.38382706479008444,
          -0.12638618907201535,
          6.082255723384448,
          3.14988960084697,
          0.37461013558868267,
          0.5812821262944822,
          0.27536077099886586,
          -2.3245297341629674,
          -2.2140137512417644,
          10.27705672670729,
          -0.3452945363804386,
          1.4901476245316383,
          -1.1390660967299537,
          0.5954944947327675,
          0.5101781069238943,
          -0.634836281407142,
          -0.22667618023139116,
          1.7245923703771067,
          -0.125080527932614,
          -0.8883097531452494,
          -2.1770084755763066,
          0.126743324923286,
          -0.36729992009500223,
          -1.0268503517581633,
          1.3704679712846752,
          1.4184146335778531,
          0.051726694157405086,
          -0.18913890781771162,
          0.03085434857559927,
          -0.26255817753965666,
          -0.11417061755672465,
          1.0916163205302292,
          0.05371374932626275,
          -2.397609800517902,
          -1.5512166986681843,
          -0.5310528054656752,
          -1.3207904389349765,
          -1.1427602094650697,
          -0.85012448666215,
          -1.2834361302547406,
          -0.7575535689920113,
          -0.0746358576534422,
          -0.317459555576203,
          -0.6908029422183933,
          0.33830318139158005,
          8.8028785875537,
          -0.8843386096205802,
          1.6737362688659136,
          2.0076890209227485,
          0.7158275626547759,
          0.42019475642248927,
          -1.290690259520363,
          1.327325551600099,
          -0.9686161161721628,
          -0.8495096724433199,
          1.0876659796423933,
          -0.29657204305748924,
          0.6827188942645562,
          1.5700878603863317,
          0.23550290221742765,
          4.04733590137358,
          2.774474320452128,
          1.1077965569521484,
          0.3097856639546859,
          3.363641737722078,
          1.851802670137041,
          -1.7298270994768703,
          -1.7171843200733499,
          -1.5429619858925823,
          -1.7624781622825882,
          0.062373092966672684,
          0.6322063610787413,
          0.08850212156858257,
          1.5832305448380353,
          0.7868193692321508,
          -0.19946839257151977,
          1.8559577527610682,
          -0.8145706061759659,
          -0.8633837100360342,
          -0.6772905066809296,
          2.156894119697552,
          -0.4416634672986585,
          -1.0758761100186407,
          -0.5197540434866424,
          -0.46971294431312344,
          -1.2255046678804749,
          -0.513461856709141,
          -0.7727072553951878,
          -1.13762752616956,
          -0.4882922123516808,
          -0.7340244026564614,
          -1.1055755875590516,
          -1.1174955471910488,
          -0.8145811513319621,
          0.39360395971042306,
          0.40083635998474365,
          -1.3606718229067203,
          -0.7479024480381032,
          0.3206397756359293,
          1.0773680089700362,
          -0.23425158182725553,
          -1.0262847225935519,
          -0.05564140062608082,
          -0.1667506078117355,
          -1.1700747065153618,
          -0.07478867413686713,
          0.4031866398746282,
          -1.2881143295886808,
          -1.1010771729857458,
          -0.9036151603114817,
          -0.8358184199380738,
          -1.0337669909622194,
          -0.8410661818006906,
          -1.4474031399484109,
          -0.3616026362159067,
          -1.434095417092772,
          -0.21919202461490941,
          -1.9835080557849545,
          -1.489101622900288,
          -1.493799523006171,
          -1.3320510648327248,
          -1.703129319064369,
          -0.615428863013869,
          -1.8258771548557444,
          -1.8721390020446553,
          4.470195939357237,
          -2.074565171755635,
          -2.549837769890973,
          -2.384132049659177,
          3.686941110185664,
          -2.2317831443064726,
          -1.4329317427106905,
          -1.3034888086832332,
          -1.9413888225594311,
          -2.2297412580859888,
          -0.09791595506396233,
          -0.7085947526738173,
          0.1326110111419491,
          0.15578234816730108,
          -1.2611799777710244,
          -0.4932393464540632,
          -0.8897175746879461,
          0.08071017632842611,
          -0.6071102088597555,
          -0.7660519074465985,
          -1.0663520016524257,
          -1.1196095345191166,
          -0.7099286101587386,
          10.711337821582585,
          3.2367852271793116,
          0.7987925397507436,
          -2.0049340305867243,
          -1.1433632509040703,
          1.2661604354519906,
          -0.35245917320822456,
          0.21648373438176913,
          -0.8624735507966726,
          -1.6997989148018098,
          1.9581575337834916,
          1.502320555322137,
          -0.40437589729820667,
          1.186112398800809,
          0.9059177061692475,
          -1.4332297334379152,
          -1.7896065237921441,
          1.1879949257037072,
          0.5686827933369358,
          -0.2752902399096854,
          3.59270515406537,
          5.104066036026833,
          0.5720710364934124,
          -1.323558049899905,
          -0.4661313671827784,
          -0.5988932442372414,
          -0.6050963556544708,
          -0.6308806645167381,
          1.891385899964285,
          2.298458756059004,
          0.1986235927741578,
          4.272062647137864,
          2.47801387474929,
          0.9020301232968957,
          -0.3313856054056118,
          0.7219802722446367,
          9.021826272528862,
          0.1630971438451708,
          0.3872238024967155,
          -1.0590715844747978,
          0.28179861209504947,
          0.049845943837765534,
          1.5899019997045465,
          1.216301268263605,
          0.8175491315065218,
          1.7790678606693797,
          0.2121722546631364,
          0.5107135855855,
          0.11546910344847709,
          -0.31725138091740257,
          1.185355051635049,
          2.0496372254693225,
          -0.4440070569468355,
          0.5131450586484492,
          -0.8282908573420522,
          -0.02487530666127641,
          -0.7977868039141812,
          0.9203755482426815,
          0.45297199799324495,
          -1.5525921266504432,
          -2.201345064516417,
          -2.647731677569335,
          -1.468907142626085,
          -0.7597409694589479,
          -0.8974851152238442,
          0.8408667256036253,
          -0.12416010910915493,
          0.5948352667294947,
          -0.6784820491830537,
          -2.1377757283145247,
          -0.2443105268116891,
          -1.3501107046708705,
          0.31434551990700377,
          -2.7752111885933894,
          -0.46533959066439184,
          -0.9630004033804211,
          -2.6222686201232714,
          -0.4660949339181993,
          -1.6909884385603204,
          -0.937223455498442,
          -1.499052805860744,
          -2.286976451400283,
          -1.7214428420255703,
          0.11093114092809454,
          0.23032688489372974,
          0.7978400578314219,
          -1.729246623979296,
          -0.3944915291388249,
          -1.9363676008631534,
          -2.371735860793083,
          -1.2933585373725152,
          -0.6248278051041141,
          -1.35747546669397,
          -1.514678926986781,
          0.2453217174242972,
          -1.457469217237141,
          -1.457469217237141,
          -1.457469217237141,
          0.12879569352688436,
          -0.3776458374387451,
          -0.5081861041960883,
          2.1253369238264055,
          -1.5053931007078134,
          -0.45465488987338426,
          0.7330825059021739,
          1.4343096946142524,
          0.24009925485957215,
          -0.7543099531567695,
          -1.0684691211747237,
          -1.728184547478988,
          0.6199247285276981,
          -0.6156849381690529,
          -0.21012018006234215,
          0.35755718694004435,
          -0.829018662116296,
          -1.8429547043824417,
          0.018820385466581636,
          1.535237630911575,
          0.11207075144801376,
          -0.7921105287158842,
          -0.09908874339647918,
          0.2642934525780556,
          -1.1889630872633874,
          -0.17479883414804756,
          -0.13120805684905784,
          -1.233265618221613,
          -1.8280504697139655,
          1.3367146980728477,
          0.7206363096392342,
          -0.16475471606064387,
          2.643008152375395,
          6.5088327893624625,
          -2.2429407625652207,
          -1.7459576242327486
         ],
         "yaxis": "y"
        }
       ],
       "layout": {
        "legend": {
         "tracegroupgap": 0
        },
        "margin": {
         "t": 60
        },
        "template": {
         "data": {
          "bar": [
           {
            "error_x": {
             "color": "#2a3f5f"
            },
            "error_y": {
             "color": "#2a3f5f"
            },
            "marker": {
             "line": {
              "color": "#E5ECF6",
              "width": 0.5
             },
             "pattern": {
              "fillmode": "overlay",
              "size": 10,
              "solidity": 0.2
             }
            },
            "type": "bar"
           }
          ],
          "barpolar": [
           {
            "marker": {
             "line": {
              "color": "#E5ECF6",
              "width": 0.5
             },
             "pattern": {
              "fillmode": "overlay",
              "size": 10,
              "solidity": 0.2
             }
            },
            "type": "barpolar"
           }
          ],
          "carpet": [
           {
            "aaxis": {
             "endlinecolor": "#2a3f5f",
             "gridcolor": "white",
             "linecolor": "white",
             "minorgridcolor": "white",
             "startlinecolor": "#2a3f5f"
            },
            "baxis": {
             "endlinecolor": "#2a3f5f",
             "gridcolor": "white",
             "linecolor": "white",
             "minorgridcolor": "white",
             "startlinecolor": "#2a3f5f"
            },
            "type": "carpet"
           }
          ],
          "choropleth": [
           {
            "colorbar": {
             "outlinewidth": 0,
             "ticks": ""
            },
            "type": "choropleth"
           }
          ],
          "contour": [
           {
            "colorbar": {
             "outlinewidth": 0,
             "ticks": ""
            },
            "colorscale": [
             [
              0,
              "#0d0887"
             ],
             [
              0.1111111111111111,
              "#46039f"
             ],
             [
              0.2222222222222222,
              "#7201a8"
             ],
             [
              0.3333333333333333,
              "#9c179e"
             ],
             [
              0.4444444444444444,
              "#bd3786"
             ],
             [
              0.5555555555555556,
              "#d8576b"
             ],
             [
              0.6666666666666666,
              "#ed7953"
             ],
             [
              0.7777777777777778,
              "#fb9f3a"
             ],
             [
              0.8888888888888888,
              "#fdca26"
             ],
             [
              1,
              "#f0f921"
             ]
            ],
            "type": "contour"
           }
          ],
          "contourcarpet": [
           {
            "colorbar": {
             "outlinewidth": 0,
             "ticks": ""
            },
            "type": "contourcarpet"
           }
          ],
          "heatmap": [
           {
            "colorbar": {
             "outlinewidth": 0,
             "ticks": ""
            },
            "colorscale": [
             [
              0,
              "#0d0887"
             ],
             [
              0.1111111111111111,
              "#46039f"
             ],
             [
              0.2222222222222222,
              "#7201a8"
             ],
             [
              0.3333333333333333,
              "#9c179e"
             ],
             [
              0.4444444444444444,
              "#bd3786"
             ],
             [
              0.5555555555555556,
              "#d8576b"
             ],
             [
              0.6666666666666666,
              "#ed7953"
             ],
             [
              0.7777777777777778,
              "#fb9f3a"
             ],
             [
              0.8888888888888888,
              "#fdca26"
             ],
             [
              1,
              "#f0f921"
             ]
            ],
            "type": "heatmap"
           }
          ],
          "heatmapgl": [
           {
            "colorbar": {
             "outlinewidth": 0,
             "ticks": ""
            },
            "colorscale": [
             [
              0,
              "#0d0887"
             ],
             [
              0.1111111111111111,
              "#46039f"
             ],
             [
              0.2222222222222222,
              "#7201a8"
             ],
             [
              0.3333333333333333,
              "#9c179e"
             ],
             [
              0.4444444444444444,
              "#bd3786"
             ],
             [
              0.5555555555555556,
              "#d8576b"
             ],
             [
              0.6666666666666666,
              "#ed7953"
             ],
             [
              0.7777777777777778,
              "#fb9f3a"
             ],
             [
              0.8888888888888888,
              "#fdca26"
             ],
             [
              1,
              "#f0f921"
             ]
            ],
            "type": "heatmapgl"
           }
          ],
          "histogram": [
           {
            "marker": {
             "pattern": {
              "fillmode": "overlay",
              "size": 10,
              "solidity": 0.2
             }
            },
            "type": "histogram"
           }
          ],
          "histogram2d": [
           {
            "colorbar": {
             "outlinewidth": 0,
             "ticks": ""
            },
            "colorscale": [
             [
              0,
              "#0d0887"
             ],
             [
              0.1111111111111111,
              "#46039f"
             ],
             [
              0.2222222222222222,
              "#7201a8"
             ],
             [
              0.3333333333333333,
              "#9c179e"
             ],
             [
              0.4444444444444444,
              "#bd3786"
             ],
             [
              0.5555555555555556,
              "#d8576b"
             ],
             [
              0.6666666666666666,
              "#ed7953"
             ],
             [
              0.7777777777777778,
              "#fb9f3a"
             ],
             [
              0.8888888888888888,
              "#fdca26"
             ],
             [
              1,
              "#f0f921"
             ]
            ],
            "type": "histogram2d"
           }
          ],
          "histogram2dcontour": [
           {
            "colorbar": {
             "outlinewidth": 0,
             "ticks": ""
            },
            "colorscale": [
             [
              0,
              "#0d0887"
             ],
             [
              0.1111111111111111,
              "#46039f"
             ],
             [
              0.2222222222222222,
              "#7201a8"
             ],
             [
              0.3333333333333333,
              "#9c179e"
             ],
             [
              0.4444444444444444,
              "#bd3786"
             ],
             [
              0.5555555555555556,
              "#d8576b"
             ],
             [
              0.6666666666666666,
              "#ed7953"
             ],
             [
              0.7777777777777778,
              "#fb9f3a"
             ],
             [
              0.8888888888888888,
              "#fdca26"
             ],
             [
              1,
              "#f0f921"
             ]
            ],
            "type": "histogram2dcontour"
           }
          ],
          "mesh3d": [
           {
            "colorbar": {
             "outlinewidth": 0,
             "ticks": ""
            },
            "type": "mesh3d"
           }
          ],
          "parcoords": [
           {
            "line": {
             "colorbar": {
              "outlinewidth": 0,
              "ticks": ""
             }
            },
            "type": "parcoords"
           }
          ],
          "pie": [
           {
            "automargin": true,
            "type": "pie"
           }
          ],
          "scatter": [
           {
            "fillpattern": {
             "fillmode": "overlay",
             "size": 10,
             "solidity": 0.2
            },
            "type": "scatter"
           }
          ],
          "scatter3d": [
           {
            "line": {
             "colorbar": {
              "outlinewidth": 0,
              "ticks": ""
             }
            },
            "marker": {
             "colorbar": {
              "outlinewidth": 0,
              "ticks": ""
             }
            },
            "type": "scatter3d"
           }
          ],
          "scattercarpet": [
           {
            "marker": {
             "colorbar": {
              "outlinewidth": 0,
              "ticks": ""
             }
            },
            "type": "scattercarpet"
           }
          ],
          "scattergeo": [
           {
            "marker": {
             "colorbar": {
              "outlinewidth": 0,
              "ticks": ""
             }
            },
            "type": "scattergeo"
           }
          ],
          "scattergl": [
           {
            "marker": {
             "colorbar": {
              "outlinewidth": 0,
              "ticks": ""
             }
            },
            "type": "scattergl"
           }
          ],
          "scattermapbox": [
           {
            "marker": {
             "colorbar": {
              "outlinewidth": 0,
              "ticks": ""
             }
            },
            "type": "scattermapbox"
           }
          ],
          "scatterpolar": [
           {
            "marker": {
             "colorbar": {
              "outlinewidth": 0,
              "ticks": ""
             }
            },
            "type": "scatterpolar"
           }
          ],
          "scatterpolargl": [
           {
            "marker": {
             "colorbar": {
              "outlinewidth": 0,
              "ticks": ""
             }
            },
            "type": "scatterpolargl"
           }
          ],
          "scatterternary": [
           {
            "marker": {
             "colorbar": {
              "outlinewidth": 0,
              "ticks": ""
             }
            },
            "type": "scatterternary"
           }
          ],
          "surface": [
           {
            "colorbar": {
             "outlinewidth": 0,
             "ticks": ""
            },
            "colorscale": [
             [
              0,
              "#0d0887"
             ],
             [
              0.1111111111111111,
              "#46039f"
             ],
             [
              0.2222222222222222,
              "#7201a8"
             ],
             [
              0.3333333333333333,
              "#9c179e"
             ],
             [
              0.4444444444444444,
              "#bd3786"
             ],
             [
              0.5555555555555556,
              "#d8576b"
             ],
             [
              0.6666666666666666,
              "#ed7953"
             ],
             [
              0.7777777777777778,
              "#fb9f3a"
             ],
             [
              0.8888888888888888,
              "#fdca26"
             ],
             [
              1,
              "#f0f921"
             ]
            ],
            "type": "surface"
           }
          ],
          "table": [
           {
            "cells": {
             "fill": {
              "color": "#EBF0F8"
             },
             "line": {
              "color": "white"
             }
            },
            "header": {
             "fill": {
              "color": "#C8D4E3"
             },
             "line": {
              "color": "white"
             }
            },
            "type": "table"
           }
          ]
         },
         "layout": {
          "annotationdefaults": {
           "arrowcolor": "#2a3f5f",
           "arrowhead": 0,
           "arrowwidth": 1
          },
          "autotypenumbers": "strict",
          "coloraxis": {
           "colorbar": {
            "outlinewidth": 0,
            "ticks": ""
           }
          },
          "colorscale": {
           "diverging": [
            [
             0,
             "#8e0152"
            ],
            [
             0.1,
             "#c51b7d"
            ],
            [
             0.2,
             "#de77ae"
            ],
            [
             0.3,
             "#f1b6da"
            ],
            [
             0.4,
             "#fde0ef"
            ],
            [
             0.5,
             "#f7f7f7"
            ],
            [
             0.6,
             "#e6f5d0"
            ],
            [
             0.7,
             "#b8e186"
            ],
            [
             0.8,
             "#7fbc41"
            ],
            [
             0.9,
             "#4d9221"
            ],
            [
             1,
             "#276419"
            ]
           ],
           "sequential": [
            [
             0,
             "#0d0887"
            ],
            [
             0.1111111111111111,
             "#46039f"
            ],
            [
             0.2222222222222222,
             "#7201a8"
            ],
            [
             0.3333333333333333,
             "#9c179e"
            ],
            [
             0.4444444444444444,
             "#bd3786"
            ],
            [
             0.5555555555555556,
             "#d8576b"
            ],
            [
             0.6666666666666666,
             "#ed7953"
            ],
            [
             0.7777777777777778,
             "#fb9f3a"
            ],
            [
             0.8888888888888888,
             "#fdca26"
            ],
            [
             1,
             "#f0f921"
            ]
           ],
           "sequentialminus": [
            [
             0,
             "#0d0887"
            ],
            [
             0.1111111111111111,
             "#46039f"
            ],
            [
             0.2222222222222222,
             "#7201a8"
            ],
            [
             0.3333333333333333,
             "#9c179e"
            ],
            [
             0.4444444444444444,
             "#bd3786"
            ],
            [
             0.5555555555555556,
             "#d8576b"
            ],
            [
             0.6666666666666666,
             "#ed7953"
            ],
            [
             0.7777777777777778,
             "#fb9f3a"
            ],
            [
             0.8888888888888888,
             "#fdca26"
            ],
            [
             1,
             "#f0f921"
            ]
           ]
          },
          "colorway": [
           "#636efa",
           "#EF553B",
           "#00cc96",
           "#ab63fa",
           "#FFA15A",
           "#19d3f3",
           "#FF6692",
           "#B6E880",
           "#FF97FF",
           "#FECB52"
          ],
          "font": {
           "color": "#2a3f5f"
          },
          "geo": {
           "bgcolor": "white",
           "lakecolor": "white",
           "landcolor": "#E5ECF6",
           "showlakes": true,
           "showland": true,
           "subunitcolor": "white"
          },
          "hoverlabel": {
           "align": "left"
          },
          "hovermode": "closest",
          "mapbox": {
           "style": "light"
          },
          "paper_bgcolor": "white",
          "plot_bgcolor": "#E5ECF6",
          "polar": {
           "angularaxis": {
            "gridcolor": "white",
            "linecolor": "white",
            "ticks": ""
           },
           "bgcolor": "#E5ECF6",
           "radialaxis": {
            "gridcolor": "white",
            "linecolor": "white",
            "ticks": ""
           }
          },
          "scene": {
           "xaxis": {
            "backgroundcolor": "#E5ECF6",
            "gridcolor": "white",
            "gridwidth": 2,
            "linecolor": "white",
            "showbackground": true,
            "ticks": "",
            "zerolinecolor": "white"
           },
           "yaxis": {
            "backgroundcolor": "#E5ECF6",
            "gridcolor": "white",
            "gridwidth": 2,
            "linecolor": "white",
            "showbackground": true,
            "ticks": "",
            "zerolinecolor": "white"
           },
           "zaxis": {
            "backgroundcolor": "#E5ECF6",
            "gridcolor": "white",
            "gridwidth": 2,
            "linecolor": "white",
            "showbackground": true,
            "ticks": "",
            "zerolinecolor": "white"
           }
          },
          "shapedefaults": {
           "line": {
            "color": "#2a3f5f"
           }
          },
          "ternary": {
           "aaxis": {
            "gridcolor": "white",
            "linecolor": "white",
            "ticks": ""
           },
           "baxis": {
            "gridcolor": "white",
            "linecolor": "white",
            "ticks": ""
           },
           "bgcolor": "#E5ECF6",
           "caxis": {
            "gridcolor": "white",
            "linecolor": "white",
            "ticks": ""
           }
          },
          "title": {
           "x": 0.05
          },
          "xaxis": {
           "automargin": true,
           "gridcolor": "white",
           "linecolor": "white",
           "ticks": "",
           "title": {
            "standoff": 15
           },
           "zerolinecolor": "white",
           "zerolinewidth": 2
          },
          "yaxis": {
           "automargin": true,
           "gridcolor": "white",
           "linecolor": "white",
           "ticks": "",
           "title": {
            "standoff": 15
           },
           "zerolinecolor": "white",
           "zerolinewidth": 2
          }
         }
        },
        "xaxis": {
         "anchor": "y",
         "domain": [
          0,
          1
         ],
         "title": {
          "text": "ColA"
         }
        },
        "yaxis": {
         "anchor": "x",
         "domain": [
          0,
          1
         ],
         "title": {
          "text": "ColB"
         }
        }
       }
      },
      "text/html": [
       "<div>                            <div id=\"dba60bc7-f39b-4383-b076-e1e97b22133d\" class=\"plotly-graph-div\" style=\"height:525px; width:100%;\"></div>            <script type=\"text/javascript\">                require([\"plotly\"], function(Plotly) {                    window.PLOTLYENV=window.PLOTLYENV || {};                                    if (document.getElementById(\"dba60bc7-f39b-4383-b076-e1e97b22133d\")) {                    Plotly.newPlot(                        \"dba60bc7-f39b-4383-b076-e1e97b22133d\",                        [{\"hovertemplate\":\"BTS_ID: %{customdata}\\u003cbr\\u003eColA: %{x} \\u003cbr\\u003eColB: %{y}\",\"legendgroup\":\"\",\"marker\":{\"color\":\"#636efa\",\"symbol\":\"circle\"},\"mode\":\"markers\",\"name\":\"\",\"orientation\":\"v\",\"showlegend\":false,\"x\":[0.665554020935984,0.13542909304121675,1.6463451805465217,-2.1819871558739625,-1.122742646425574,0.9837616738867867,-0.6284783275992303,-1.1705005075680057,-1.8582479528638902,-2.6231349171544602,-0.14323484174242587,-3.4515280174504888,-0.19487334635345244,-2.1934467695485034,2.814218860150989,-2.848429591802005,2.146826754397127,-0.28571698261842204,0.15614412498790536,0.17845686134014013,2.0156099580996547,3.7543839223569813,2.698443986691479,-1.1427043015844334,-0.007919791872684535,2.401376472397889,4.420979160388129,-1.8765655031488413,-1.8223365298606042,-2.4970775621932817,-4.665100720511665,-2.1954328210308924,-4.169093526342709,-1.6534881742903085,-3.183216630045643,-1.8561189513096856,1.157006268930434,1.630158794917141,0.10974742904816694,-0.4730219355428368,5.186122432113827,-2.264220164047956,-2.8728343819512916,2.069814439146388,2.4664045540672883,0.3420037156134793,3.480226285998438,2.7858890284720887,-0.9270451689490314,-2.637667662552491,-1.3824606516083633,-1.4756109536380622,1.2031286895909197,-0.5610241666647066,1.6521362358445775,5.070770368121154,-0.36628665783089426,2.1353235365529986,-1.4699439928167752,-1.881206993163437,1.4582013094795305,-0.1437381916952082,5.010092495909209,-1.0013345230754547,-2.0599864674658597,-0.5347911956473973,0.5018243104402592,0.9868970330298552,-4.218110678389753,2.53212708317205,-3.413447094309013,1.0914001308940209,-0.7361996036344003,0.5213110626363425,1.038849408497754,1.1697747904758369,6.010372795185004,3.4487006929536124,4.167618563691862,2.4635113633500816,1.4089194282245354,2.2215787413321846,2.9588535755172507,-0.6775107654681196,-0.6942820752267104,-1.162987752709849,-0.2898571706061711,1.8847705930715644,-2.7498749402983393,1.4360055445661404,2.5564121027347726,9.791050387594318,6.311559971481352,-0.22021731442176573,-1.7455232925988613,-0.3423608375686767,-1.4613362864074606,3.831937017345402,5.869251148420332,0.40675539165140584,-3.7904525709433976,-2.7408844102715864,-3.0653761889240934,-3.2354258420744877,-2.9399477801322624,-3.2769487327136533,2.419343836667621,1.4537163096178383,-1.2169753788366138,5.88563713466349,5.464779236694949,-0.58688401558279,5.100302142761357,2.7110532718044085,3.822022683319338,0.8206928492336864,3.1596745727376803,-0.8156940938735228,-0.3896273431740644,3.935541635776939,0.030594679237228285,2.8495798162871884,5.42273455852841,6.310913706121065,-1.0529738008613019,-1.6265193548646197,-2.0135101062516316,-1.3551843957355951,-1.6571939198198007,-2.662635404346182,1.287394512700882,4.98185865365211,2.189596292559795,-1.2423093047093254,3.1524287858309714,-1.8491851903035053,0.5844025767463641,0.943768704229977,-7.240262723771627,-6.690594141600091,-0.7015588491893631,-1.4484242401574268,-3.645739609899184,-3.7194535732619136,-3.048730551125929,-1.8315575395713721,-2.6288315387080856,-0.5568582094851772,-2.819267796196722,-1.0244907089230568,-1.5431619234615275,-3.688022032795067,-0.05900701883423263,-3.5714110743181133,-2.803163727109548,-0.6260309456073705,-1.931223624473283,3.734345969854259,-0.7235429361143039,6.429330418323481,-1.1455926473200726,-1.6398794068031797,-2.2111588756593985,-1.6422064961651428,-0.8159775940211537,-2.675740590535689,-0.7561562890552959,-2.4490530692483086,-1.3188533888627345,-1.3453405588854492,-3.7500513732958813,-3.1247457665341125,-3.5468300279418226,1.0417410280319284,-0.6380392797619939,-3.294543407649188,-0.9168104988629133,-0.4114462823535555,2.755343773910423,5.166203378669914,4.462240013400919,-0.23859865521670762,-1.7530987645526224,2.145220147104739,0.012073033522459116,-0.8400034282174594,0.10085469873127459,-2.4693970868494346,0.6157623638740618,3.7965588729843796,-1.545290187905367,3.1685160264845247,2.066789944653408,3.4323296257836717,0.009878652332377318,-5.155243781172092,-2.1483402092855477,0.4583825972901405,-1.7833923694757712,0.4056286943145185,-1.5489577802007901,-0.47407739637914814,3.3190596563775956,-4.368206938438038,4.476271547384633,-1.0047612142599907,-2.4863459880627636,4.828022736967739,3.376465039604004,-4.523030101268734,6.152719649779456,5.255528437208042,-5.203385743969341,-6.021791028471112,-4.996565986416592,0.5411404592675684,-3.962504964931433,-3.1834585824858523,-0.16200261497731738,0.8859277084823783,0.6617420608384698,1.6453388223962861,-2.704353735883677,-0.6283049980763215,1.8696756639606913,-4.166826023326462,5.682436719626833,2.738698895030791,3.6368032704475692,4.488973388031705,1.7626028586935554,-1.5808885710613956,3.4475687250560347,4.345222226185716,2.2671415592267103,3.5318035327313035,-2.5344746627423573,-1.2266485542153658,0.9632521753808665,-1.6882490708557232,1.5886191303954678,1.0790281353801239,0.011041155549011153,0.5134240989938416,1.0147266754617004,2.6106411415805315,-0.593891248481091,3.5668409430947774,1.2634468434144057,-1.070398181002135,-1.5299398612781485,-1.027471057504741,2.904669059648071,5.378397322645547,1.8385577335892251,1.6688579555551741,4.257256867088179,-1.9000594122315535,-1.4816493635420802,0.0016057697951494074,-1.3253187810369025,2.2972814658001557,-2.133433732294222,0.33473253866136843,-1.7282258786426388,0.6583672940227202,1.7520875312685589,3.2040747047393103,2.578873730871733,-0.9995122376869208,-0.7283538351913462,1.1208486074496082,1.0190368927708087,1.3055727406904272,-2.6643800261227186,-2.673473147671273,-0.4846522066093208,-3.100465132555819,3.580290240180018,1.2802518207895477,-1.1937631832843831,2.951087479026215,3.7559488490316753,3.2950824006240285,-0.29417954484357356,0.2762457495948029,1.3988505146982617,-6.481694501118128,2.659138179080519,1.3251825334295382,-5.192890206473575,2.8307499757520924,1.4310993011124329,-0.65386597148125,1.9781083378779332,0.4012859649466369,0.5827424680437236,2.7244383943022203,-0.13302864350012936,1.1367641372000745,-0.4425375529948697,-0.548479846662912,3.7864705432454517,2.240865234667878,1.040301141560535,2.5713280148694673,0.9619040270788894,0.31376111691674713,0.5860571057709486,-0.038616090550959485,0.9643168777129193,-1.067665942727889,-1.3838534903422581,-5.716874323387762,-4.10859108666566,2.406646911302285,-2.1681672252114,1.8403079304443855,-2.1428826044426588,-1.7965262027148365,-4.8879894109290385,-0.7692847844566194,1.1423309706393903,-0.3341185619777982,3.2034037003888507,-0.7320928949708705,-2.1936754069934317,-2.419747440664508,3.559381543747361,1.4432611090618763,-0.8209449600473395,-0.6099525313015367,-0.9376403285497514,0.1358248134756346,0.16642165097608663,2.894582777848196,3.424962133545331,0.9911623903391805,3.5963221137378794,1.7866145608896724,2.4496720099346234,4.264858061484998,5.155648665889678,4.72464811261686,-0.4631129045265344,-3.807741579505904,2.823264076023804,-2.3581001635256036,-3.7060522026893445,1.9933130050748877,3.6798246528215786,1.7410475649005384,0.061567362663761796,1.30226168550849,1.8061004391618491,2.3338551478635137,-0.7098277151444328,-1.4258201101708452,3.1594749793069767,6.77155164940316,2.640006248986967,-0.11167151997656584,-0.04609857512890663,0.3930184431111271,0.3839147445225121,1.7250077554411398,1.8053416289497017,1.4578374741686646,3.7850992192055135,3.708171361379187,2.1752032947369426,-4.795714863520516,3.236309237501306,1.6847761586428411,-3.5552687519271515,4.905452536545483,2.9180269636497815,0.43711413192709686,1.1209331039965584,1.3933728940729122,-0.3875382181386759,2.2385805812207273,-0.2574403178370017,0.9633081228837785,5.283943191041496,1.516367090321776,-1.7203584340537006,1.9826713447340911,-1.1196788579670365,1.6167443968013684,0.5252917831162286,1.7781209458298326,-3.4769872906402957,-1.7400377738373183,-1.253594879584696,-3.511306080039347,-0.47419625826756906,-0.8860423504639974,0.08787605823678586,-0.01557700541540764,1.9815248191265504,-0.026649497592872756,-1.6663940485853468,1.9033426191904774,4.120205709189543,4.827995382812121,4.186839941539537,-1.0679012272971153,-2.5268097497315467,1.6869848196159285,4.0443041948393885,-4.334993734470791,-3.5252912011012407,2.7527015161352857,0.31709711181426603,1.869799752547835,4.288245566351443,-0.35413374287931243,0.14216181168846376,-0.04640607839813512,-1.1799892588418985,2.4932786488337904,-2.664913590711441,0.6069554912193864,2.190277566138096,-1.3516302333385726,-3.7440327093303964,-2.3413675007644095,-3.0276451098780406,-1.9576679259903234,-1.2441596453864732,-3.611296901931448,-3.3231148878025354,-3.6148435020847365,-1.6178494858236045,-1.2784281627781366,-4.940533338635807,-2.162430592544202,-0.3466231192585994,-2.720662321480854,-2.978987666706883,-1.4168817221565686,-3.6406108048906587,-3.4681591343249805,-3.3512103763195675,-2.787723404475454,-4.197383358323818,-2.27246769472622,3.2065259729145357,5.051906803923707,0.3472077468568652,-3.665407469466876,3.3205646002449685,-0.7757154734171394,0.442720345611235,2.355106487683339,-0.402181583768456,0.11039717018118879,0.04367941955177966,1.9224811630305307,-2.403489760122665,-2.163089978291095,-2.4825375546692174,-3.70143219480455,3.395404187653546,3.718141728030184,3.863978053927925,-0.5591612892943224,-0.2541259258854725,0.3611330085934286,-0.8958403528096195,-2.1230467496715613,-3.6748675890714617,1.7702129723287536,-3.5157347111173496,-2.5529894337372006,1.1974556331269437,-2.0713544639369355,-2.655173661586702,-0.030366114068261476,-0.6658563870668225,-1.8222466629228098,-1.7961059318872847,-2.6377276456050858,-4.094764149205236,-1.0148329943662306,-2.620910018220501,-4.4604017469573085,-3.934946459804079,-3.4150277330670877,-1.9807867997125768,-2.686588084300422,-0.6940855550538295,-2.897801008085146,-0.9199936127615771,-7.009611536144178,-1.9599774411475424,-1.656633249569307,-2.532727359018871,1.7398110389713073,-1.657444519291624,1.4408126760774267,3.0791949506138976,1.6166588817903154,1.6704552803756332,0.6534414194511146,-3.895192477768034,-1.5748838571172092,-4.0872252659754515,1.6108120845608962,-1.4623753510565682,-4.012716811569942,0.025588475862619187,-2.4616860943927072,-0.30707092572068795,-1.2927104810855792,-1.2109231162574374,-1.9711791695024885,-0.8562726781316472,-1.9573680391144388,-1.4107932996663923,-3.103071956914552,-2.370376160798334,-3.66076311165941,-2.9703545089414383,-1.953616091619824,-1.4078393480563454,1.4572784980229405,-0.4222596193543509,0.5282973796817533,-1.9482463048169862,-2.768233790131178,-0.5000856788739954,6.816324933762997,-2.8399105957626567,1.6477779874491276,-2.581864064650493,0.43014743026990726,-3.6318614644332348,-3.5496811832779485,0.6609295069056992,1.53401745966073,6.559434313767802,0.013160253792467484,2.85310155146399,-0.9913718273575969,-0.512996780552985,2.440318124193926,-0.6902107346989127,0.9130440824674874,0.5328484232322501,-1.7150735772171062,-1.005557877448077,1.8152905763474882,-5.6427227260250055,-5.6427227260250055,-5.6427227260250055,4.573714965041837,3.964891327112894,-3.7250208307988832,5.638504945965474,-3.0099356608263657,-2.2302465787394534,0.6527460390862819,5.565563559901764,4.076976605796159,-0.03427748694738338,1.4528069624310176,-1.5835485542566903,3.117896996604486,-3.683729492635476,2.228065885911376,4.682741887239376,-4.044305847047013,-0.7218667635366296,1.774051046020457,5.809598552638289,-2.5087877270439916,1.2561094014593988,6.371895967890878,2.1449197013742167,-1.6588341376388875,-2.675483183819686,-2.5321144802213404,-1.4267588718376298,-1.6948223338393402,1.4481739883445646,0.4631910830025035,-2.390551866841269,-0.8516189543280932,-0.9731096652997296,-1.540313337121236,-2.750114194798433],\"xaxis\":\"x\",\"y\":[-0.5580749834037817,-0.45650603325534755,-0.24188267943020364,0.41315729848233984,-0.15574238304162635,-0.08845419674394657,-0.27574109615977543,-0.15415223424035626,-0.9030620911731381,-0.15611968173898333,1.0879847195685413,9.828003307839367,-0.4656033942860937,-1.0962725489649456,-3.0010115231476906,-2.303378821126473,-2.0966982111273085,0.33667724046621855,-0.4748807063693463,1.8580317976188019,-0.6975776896054691,0.43990826346597656,0.3202079807702323,-0.18638924811022822,0.5280952696177624,0.25533376795737267,0.900629881294009,-0.16037968420116835,-1.2569382909290732,-0.4158200790094539,-0.9757475397299358,-2.254667984497903,-1.236724430197599,-0.7188106262046132,-0.5196653668841184,-1.8175656862113216,-1.483812398260058,-1.5851358103925346,-0.5302919213779034,-0.6131277345984498,0.34421522965298107,6.109792067948364,-0.0670902258283245,0.11190618217445708,-1.1567090949021583,-1.7217745769635064,-0.8686990028996016,-1.0315222486331845,0.03389914337975626,-1.8565653837790599,-0.18942870923337923,-0.45771301572724954,0.5992529919249695,-1.703932797060713,0.6889328769716073,1.1467852234917817,-1.3614285960689856,1.39442122914031,-1.6329596515868694,-2.141998810661278,-0.16373020247651382,-1.0558619747067666,0.022088350062568436,2.082187455700568,0.16200387469484412,0.6446774971946664,-0.16620476210120802,-1.9196992927449505,1.953401986874184,-1.1478010349936272,-0.8575097657927472,0.7408632456167701,-0.06428034957162261,0.7987857357798183,-0.6582758162255813,-1.883049013721054,0.7655350176957185,-0.3054758069895494,0.03789258919291059,0.1397140135455651,-1.1155836604490572,1.2860355690165195,-0.6890888204606633,-1.2668124422776248,0.028932193857363054,-1.5036742243723569,0.2518164843467211,0.12922708995533175,-1.2792216715218592,0.41149889298904746,0.558620586057734,-0.254133042514325,-0.46725388527604467,-1.0891851138117352,-1.5855355606067816,-2.41584537519457,-2.720466872260341,-0.8044214043906727,0.2576829460325958,-1.1757090101196337,-1.4881936128235125,-1.9499528353547937,-2.0359239543651655,-1.6727941203467043,-1.5389031256911825,-1.9259528580151732,-0.8462662079010154,-1.1572861139092865,-1.8391987196015716,0.7298470542104544,0.6770267523037096,-1.1396709418840296,-0.2867722528229466,0.5499347830285991,-0.6174251426251102,-0.8881809763344322,-0.26666066670420935,1.6481703613555014,-1.708860276458249,-0.28255454939536373,-1.8380382451953379,-0.13971693685269052,-0.03994811352629023,0.5812973990295832,-1.375904077889893,-1.0295948947910811,-2.4323287681224754,-1.4769980834424619,-0.29886067708867836,-2.180762926288145,1.2142677837112645,-0.24601150937800798,0.34450526563916234,-0.4815892966592162,0.740190652727001,-1.416858076858863,-0.9931503227888562,-1.0113865321845954,9.065110698619591,6.6211687630680105,2.3431506005854987,1.0724153215022867,-1.0492787594992359,0.7052787840603666,-1.2384824962482641,-1.2755518477997252,0.41191308971902935,-0.5669257720073241,-0.7510964136902686,0.12538651482709903,-0.525849964020108,-0.86796016982313,-0.8497289904116017,-1.5028043669815423,-1.166889508308285,-1.239428612588103,-1.8623228817447421,0.3877133770113778,-0.9009578324458447,1.4530648229876513,-1.069523275187682,-1.6528061153778009,-1.2083681676979898,-0.9454573585342063,-1.4476624038693242,-1.0733683861777112,-0.015741424057294492,0.6468243951363799,-1.1282082521707029,-0.29045960115873803,5.689426716414258,4.522908945590791,23.869527728336347,0.8920941933270277,-1.1507385359505693,-1.3253473040247805,-1.9935909276316455,-2.1190190942575238,-1.4984840875350391,-0.32287888457359737,-0.6388929416532557,0.3423782944875595,0.5944611134379536,0.0958293680215937,-0.9963755534229843,-0.48649511960214076,1.2808203906886566,6.3953789008315365,-1.0026917945453582,-1.388380107382436,-0.9171228555495932,0.1928877655440682,-0.9322192214753806,0.20824450307982229,4.706175638364559,2.872368179024878,1.7585181665411207,-2.338452339795444,-0.9326616371778239,-1.4521338745015333,-2.373855962206805,-1.9728117463017407,5.292523483422563,-1.347586464813831,0.4968523110757284,0.6873118668983752,-1.4326459393344355,-0.010066399135797089,-0.02100378355167712,-0.2427586580793631,1.739200246492827,2.3382426219811383,1.1038289612865282,2.5394097112563077,1.6229707138571317,3.9593183552286404,-0.7900556111741363,0.04826263926858959,-0.4385449970960095,-0.91300000709556,-1.0709676910401118,-1.5821072932129299,-0.7778775662846552,0.06545006495611101,0.7221459266547657,-0.7092086912755191,0.12315248227078819,0.05864622934461072,0.5114611716479572,0.11813247621866187,-1.0671210363459256,2.0298309141237185,1.7690858050972254,2.351764565026271,-0.08619481931299013,0.2990405357703676,-0.3594191952935112,-0.4829613633073115,1.3096942890582222,-0.35037026209725525,-0.45435533903216624,-0.7443249920062163,-0.5106770338373755,-0.6353594390265206,-0.5166488252242986,1.989497022569422,0.871657150111347,-0.04218975600672136,0.5923569549394366,-0.3460309878512883,0.212600796611312,1.2020567421790396,1.4826792572174659,1.3584164439689235,0.18848324788409096,0.8867657584393255,-0.16749583694097583,-0.4784223613052646,-1.5116112630858614,-0.7707028070808939,-1.2878440607443977,1.1621290050748312,-0.23286359755118868,0.39168520361983117,-1.1397852073868577,2.4336344648245074,1.0403207171287292,-0.1009996041824567,-0.4582639791553195,-0.5607832470808942,-0.8945171182216826,0.4980438071211884,-0.3491048477146503,0.009053322260922784,0.48003788355747495,0.25876995380781387,0.3916378863300243,2.269694440534196,1.0084990411945225,1.2011719726935595,-0.3537962294646461,0.8567018441321657,2.192973353079425,1.5480996326641239,1.1260693442042295,1.9938528478363329,-1.1872403165282706,4.426272242939769,-0.4710856978489629,-0.9258195420203871,0.07325732204803465,-0.7600493849279036,-0.8648359889977005,2.51911641623184,-0.495116297188033,-1.2469070212641113,0.10379376259790439,0.3959396510164139,0.7065233986556038,-1.020739358663598,-1.8138917382202944,-0.5605727559508423,1.5420376750880374,2.1493807714036324,-1.6110234097936462,1.420455411117738,1.9939327109805594,-0.09575203226188972,0.3011207756476896,0.9661790631088754,-0.4364466531703813,-0.38382706479008444,-0.12638618907201535,6.082255723384448,3.14988960084697,0.37461013558868267,0.5812821262944822,0.27536077099886586,-2.3245297341629674,-2.2140137512417644,10.27705672670729,-0.3452945363804386,1.4901476245316383,-1.1390660967299537,0.5954944947327675,0.5101781069238943,-0.634836281407142,-0.22667618023139116,1.7245923703771067,-0.125080527932614,-0.8883097531452494,-2.1770084755763066,0.126743324923286,-0.36729992009500223,-1.0268503517581633,1.3704679712846752,1.4184146335778531,0.051726694157405086,-0.18913890781771162,0.03085434857559927,-0.26255817753965666,-0.11417061755672465,1.0916163205302292,0.05371374932626275,-2.397609800517902,-1.5512166986681843,-0.5310528054656752,-1.3207904389349765,-1.1427602094650697,-0.85012448666215,-1.2834361302547406,-0.7575535689920113,-0.0746358576534422,-0.317459555576203,-0.6908029422183933,0.33830318139158005,8.8028785875537,-0.8843386096205802,1.6737362688659136,2.0076890209227485,0.7158275626547759,0.42019475642248927,-1.290690259520363,1.327325551600099,-0.9686161161721628,-0.8495096724433199,1.0876659796423933,-0.29657204305748924,0.6827188942645562,1.5700878603863317,0.23550290221742765,4.04733590137358,2.774474320452128,1.1077965569521484,0.3097856639546859,3.363641737722078,1.851802670137041,-1.7298270994768703,-1.7171843200733499,-1.5429619858925823,-1.7624781622825882,0.062373092966672684,0.6322063610787413,0.08850212156858257,1.5832305448380353,0.7868193692321508,-0.19946839257151977,1.8559577527610682,-0.8145706061759659,-0.8633837100360342,-0.6772905066809296,2.156894119697552,-0.4416634672986585,-1.0758761100186407,-0.5197540434866424,-0.46971294431312344,-1.2255046678804749,-0.513461856709141,-0.7727072553951878,-1.13762752616956,-0.4882922123516808,-0.7340244026564614,-1.1055755875590516,-1.1174955471910488,-0.8145811513319621,0.39360395971042306,0.40083635998474365,-1.3606718229067203,-0.7479024480381032,0.3206397756359293,1.0773680089700362,-0.23425158182725553,-1.0262847225935519,-0.05564140062608082,-0.1667506078117355,-1.1700747065153618,-0.07478867413686713,0.4031866398746282,-1.2881143295886808,-1.1010771729857458,-0.9036151603114817,-0.8358184199380738,-1.0337669909622194,-0.8410661818006906,-1.4474031399484109,-0.3616026362159067,-1.434095417092772,-0.21919202461490941,-1.9835080557849545,-1.489101622900288,-1.493799523006171,-1.3320510648327248,-1.703129319064369,-0.615428863013869,-1.8258771548557444,-1.8721390020446553,4.470195939357237,-2.074565171755635,-2.549837769890973,-2.384132049659177,3.686941110185664,-2.2317831443064726,-1.4329317427106905,-1.3034888086832332,-1.9413888225594311,-2.2297412580859888,-0.09791595506396233,-0.7085947526738173,0.1326110111419491,0.15578234816730108,-1.2611799777710244,-0.4932393464540632,-0.8897175746879461,0.08071017632842611,-0.6071102088597555,-0.7660519074465985,-1.0663520016524257,-1.1196095345191166,-0.7099286101587386,10.711337821582585,3.2367852271793116,0.7987925397507436,-2.0049340305867243,-1.1433632509040703,1.2661604354519906,-0.35245917320822456,0.21648373438176913,-0.8624735507966726,-1.6997989148018098,1.9581575337834916,1.502320555322137,-0.40437589729820667,1.186112398800809,0.9059177061692475,-1.4332297334379152,-1.7896065237921441,1.1879949257037072,0.5686827933369358,-0.2752902399096854,3.59270515406537,5.104066036026833,0.5720710364934124,-1.323558049899905,-0.4661313671827784,-0.5988932442372414,-0.6050963556544708,-0.6308806645167381,1.891385899964285,2.298458756059004,0.1986235927741578,4.272062647137864,2.47801387474929,0.9020301232968957,-0.3313856054056118,0.7219802722446367,9.021826272528862,0.1630971438451708,0.3872238024967155,-1.0590715844747978,0.28179861209504947,0.049845943837765534,1.5899019997045465,1.216301268263605,0.8175491315065218,1.7790678606693797,0.2121722546631364,0.5107135855855,0.11546910344847709,-0.31725138091740257,1.185355051635049,2.0496372254693225,-0.4440070569468355,0.5131450586484492,-0.8282908573420522,-0.02487530666127641,-0.7977868039141812,0.9203755482426815,0.45297199799324495,-1.5525921266504432,-2.201345064516417,-2.647731677569335,-1.468907142626085,-0.7597409694589479,-0.8974851152238442,0.8408667256036253,-0.12416010910915493,0.5948352667294947,-0.6784820491830537,-2.1377757283145247,-0.2443105268116891,-1.3501107046708705,0.31434551990700377,-2.7752111885933894,-0.46533959066439184,-0.9630004033804211,-2.6222686201232714,-0.4660949339181993,-1.6909884385603204,-0.937223455498442,-1.499052805860744,-2.286976451400283,-1.7214428420255703,0.11093114092809454,0.23032688489372974,0.7978400578314219,-1.729246623979296,-0.3944915291388249,-1.9363676008631534,-2.371735860793083,-1.2933585373725152,-0.6248278051041141,-1.35747546669397,-1.514678926986781,0.2453217174242972,-1.457469217237141,-1.457469217237141,-1.457469217237141,0.12879569352688436,-0.3776458374387451,-0.5081861041960883,2.1253369238264055,-1.5053931007078134,-0.45465488987338426,0.7330825059021739,1.4343096946142524,0.24009925485957215,-0.7543099531567695,-1.0684691211747237,-1.728184547478988,0.6199247285276981,-0.6156849381690529,-0.21012018006234215,0.35755718694004435,-0.829018662116296,-1.8429547043824417,0.018820385466581636,1.535237630911575,0.11207075144801376,-0.7921105287158842,-0.09908874339647918,0.2642934525780556,-1.1889630872633874,-0.17479883414804756,-0.13120805684905784,-1.233265618221613,-1.8280504697139655,1.3367146980728477,0.7206363096392342,-0.16475471606064387,2.643008152375395,6.5088327893624625,-2.2429407625652207,-1.7459576242327486],\"yaxis\":\"y\",\"type\":\"scatter\",\"customdata\":[\"10-1\",\"10-2\",\"100-1\",\"100-2\",\"100-3\",\"100-4\",\"100-5\",\"100-6\",\"10119-1\",\"10119-2\",\"10119-3\",\"10238-1\",\"10238-2\",\"10238-3\",\"10627-1\",\"10627-2\",\"10627-3\",\"1104-25\",\"1104-26\",\"1105-1\",\"1105-2\",\"1105-3\",\"113-1\",\"113-2\",\"113-3\",\"115-1\",\"115-2\",\"116-1\",\"116-2\",\"116-3\",\"119-7\",\"119-8\",\"119-9\",\"12-1\",\"12-2\",\"120-1\",\"120-2\",\"120-3\",\"1200-1\",\"1200-2\",\"1200-3\",\"1201-1\",\"1201-2\",\"1201-3\",\"1202-1\",\"1202-2\",\"1202-3\",\"1203-1\",\"1203-2\",\"1203-3\",\"1207-1\",\"1207-2\",\"1208-1\",\"1208-2\",\"1208-3\",\"1209-1\",\"1209-2\",\"1209-3\",\"121-1\",\"121-2\",\"1211-1\",\"1211-2\",\"1211-3\",\"1216-1\",\"1216-2\",\"1218-1\",\"1218-2\",\"1219-1\",\"1219-2\",\"1219-4\",\"1219-5\",\"1220-1\",\"1220-2\",\"1220-3\",\"1226-1\",\"1226-2\",\"1227-1\",\"1227-2\",\"1227-3\",\"1228-1\",\"1228-2\",\"1228-3\",\"1228-4\",\"1228-5\",\"1228-6\",\"1229-1\",\"1229-2\",\"1229-3\",\"1229-4\",\"1229-5\",\"1229-6\",\"1230-1\",\"1230-2\",\"1230-3\",\"1231-1\",\"1231-2\",\"1231-3\",\"1232-1\",\"1232-2\",\"1232-3\",\"1233-1\",\"1233-2\",\"1233-3\",\"1233-4\",\"1233-5\",\"1233-6\",\"1234-1\",\"1234-2\",\"1234-3\",\"1235-1\",\"1235-2\",\"1235-3\",\"1236-1\",\"1236-2\",\"1236-3\",\"1237-1\",\"1237-2\",\"1237-3\",\"1237-4\",\"1237-5\",\"1237-6\",\"1238-1\",\"1238-2\",\"1238-3\",\"1239-1\",\"1239-2\",\"1239-3\",\"1239-4\",\"1239-5\",\"1239-6\",\"1241-1\",\"1241-2\",\"1241-3\",\"1242-25\",\"1242-26\",\"126-1\",\"126-2\",\"126-3\",\"128-1\",\"128-2\",\"13-1\",\"13-2\",\"132-1\",\"132-2\",\"132-3\",\"133-1\",\"133-2\",\"133-3\",\"134-1\",\"134-2\",\"134-3\",\"135-1\",\"135-2\",\"135-3\",\"137-1\",\"137-2\",\"137-3\",\"139-1\",\"139-2\",\"139-3\",\"14-1\",\"14-2\",\"14-3\",\"14-4\",\"14-5\",\"14-6\",\"140-1\",\"140-2\",\"141-1\",\"141-2\",\"143-1\",\"143-2\",\"143-3\",\"146-1\",\"146-2\",\"146-3\",\"147-1\",\"147-2\",\"148-1\",\"148-2\",\"148-3\",\"153-1\",\"153-2\",\"154-1\",\"154-2\",\"159-1\",\"159-2\",\"16-1\",\"160-1\",\"160-2\",\"160-3\",\"161-1\",\"161-2\",\"161-3\",\"165-1\",\"165-2\",\"165-3\",\"166-1\",\"166-2\",\"167-1\",\"167-2\",\"167-3\",\"17-1\",\"179-1\",\"179-2\",\"179-3\",\"180-1\",\"180-2\",\"180-3\",\"181-1\",\"181-2\",\"181-3\",\"189-1\",\"189-2\",\"189-3\",\"192-1\",\"193-1\",\"193-2\",\"193-3\",\"194-1\",\"194-2\",\"194-3\",\"195-1\",\"195-2\",\"196-4\",\"196-5\",\"198-1\",\"198-2\",\"198-3\",\"199-1\",\"199-2\",\"199-3\",\"20-1\",\"20-2\",\"200-1\",\"200-2\",\"2005-1\",\"2005-2\",\"2005-3\",\"201-1\",\"201-2\",\"201-3\",\"201-4\",\"201-5\",\"201-6\",\"204-1\",\"204-2\",\"205-1\",\"205-2\",\"206-1\",\"206-2\",\"207-1\",\"207-2\",\"207-3\",\"208-1\",\"208-2\",\"208-3\",\"209-1\",\"209-2\",\"209-3\",\"21-1\",\"21-2\",\"210-1\",\"210-2\",\"211-1\",\"211-2\",\"211-3\",\"212-1\",\"212-2\",\"213-1\",\"213-2\",\"214-1\",\"214-2\",\"214-3\",\"215-1\",\"215-2\",\"215-3\",\"216-1\",\"216-2\",\"216-3\",\"217-1\",\"217-2\",\"218-1\",\"218-2\",\"22-1\",\"22-2\",\"222-1\",\"222-2\",\"222-3\",\"222-4\",\"222-5\",\"222-6\",\"223-1\",\"223-2\",\"223-3\",\"223-4\",\"223-5\",\"223-6\",\"224-1\",\"224-2\",\"224-3\",\"226-1\",\"226-2\",\"226-3\",\"226-4\",\"226-5\",\"226-6\",\"229-1\",\"229-2\",\"229-3\",\"229-4\",\"229-5\",\"229-6\",\"23-1\",\"23-2\",\"234-1\",\"234-2\",\"234-3\",\"238-7\",\"238-8\",\"239-1\",\"239-2\",\"24-1\",\"24-2\",\"24-3\",\"240-1\",\"240-2\",\"240-3\",\"243-1\",\"243-2\",\"244-1\",\"244-2\",\"245-1\",\"245-2\",\"245-3\",\"245-4\",\"245-5\",\"245-6\",\"246-1\",\"246-2\",\"246-3\",\"247-1\",\"247-2\",\"247-3\",\"248-1\",\"248-2\",\"248-3\",\"248-4\",\"248-5\",\"248-6\",\"250-1\",\"250-2\",\"250-3\",\"250-4\",\"250-5\",\"250-6\",\"251-7\",\"251-8\",\"251-9\",\"252-1\",\"252-2\",\"252-3\",\"253-1\",\"253-2\",\"253-3\",\"253-4\",\"253-5\",\"253-6\",\"254-1\",\"254-2\",\"254-3\",\"255-1\",\"255-2\",\"255-3\",\"255-4\",\"255-5\",\"255-6\",\"256-1\",\"256-2\",\"256-3\",\"256-4\",\"257-1\",\"257-2\",\"257-3\",\"259-1\",\"259-2\",\"259-3\",\"26-1\",\"26-2\",\"260-1\",\"260-2\",\"260-3\",\"261-1\",\"261-2\",\"261-3\",\"261-4\",\"261-5\",\"261-6\",\"262-1\",\"262-2\",\"262-3\",\"262-4\",\"262-5\",\"262-6\",\"263-1\",\"263-2\",\"263-3\",\"264-1\",\"264-2\",\"264-3\",\"265-1\",\"265-2\",\"265-3\",\"266-1\",\"266-2\",\"266-3\",\"266-4\",\"266-5\",\"266-6\",\"269-1\",\"269-2\",\"269-3\",\"269-4\",\"269-5\",\"269-6\",\"27-1\",\"27-2\",\"27-3\",\"271-1\",\"271-2\",\"271-3\",\"272-1\",\"272-2\",\"273-1\",\"276-1\",\"276-2\",\"276-3\",\"277-1\",\"277-2\",\"277-3\",\"278-1\",\"278-2\",\"279-1\",\"279-2\",\"279-3\",\"283-1\",\"283-2\",\"283-3\",\"287-1\",\"287-2\",\"288-1\",\"288-2\",\"288-3\",\"289-1\",\"289-2\",\"289-3\",\"289-4\",\"289-5\",\"289-6\",\"293-1\",\"293-2\",\"293-3\",\"295-1\",\"295-2\",\"298-1\",\"298-2\",\"298-3\",\"3-1\",\"3-2\",\"400-1\",\"400-2\",\"401-25\",\"401-26\",\"402-1\",\"402-2\",\"402-3\",\"405-1\",\"405-2\",\"405-3\",\"406-1\",\"406-2\",\"406-3\",\"407-1\",\"407-2\",\"407-3\",\"409-1\",\"409-2\",\"410-1\",\"410-2\",\"410-3\",\"411-1\",\"411-2\",\"412-1\",\"412-2\",\"412-3\",\"413-1\",\"413-2\",\"413-3\",\"418-1\",\"418-2\",\"423-1\",\"423-2\",\"431-7\",\"431-8\",\"431-9\",\"432-1\",\"432-2\",\"434-7\",\"434-8\",\"434-9\",\"443-7\",\"443-8\",\"443-9\",\"452-1\",\"465-1\",\"465-2\",\"466-1\",\"466-2\",\"471-1\",\"471-2\",\"471-3\",\"474-1\",\"474-2\",\"474-3\",\"475-1\",\"475-2\",\"475-3\",\"635-1\",\"635-2\",\"635-3\",\"646-1\",\"646-2\",\"646-3\",\"650-1\",\"650-2\",\"650-3\",\"667-1\",\"667-2\",\"667-3\",\"674-1\",\"674-2\",\"674-3\",\"675-1\",\"675-2\",\"675-3\",\"676-1\",\"676-2\",\"676-3\",\"680-1\",\"680-2\",\"680-3\",\"689-1\",\"689-2\",\"689-3\",\"699-1\",\"699-2\",\"699-3\",\"7-25\",\"7-26\",\"9-1\",\"9-2\",\"900-1\",\"900-2\",\"903-1\",\"903-2\",\"903-3\",\"904-1\",\"904-2\",\"904-3\",\"910-1\",\"910-2\",\"910-3\",\"911-1\",\"911-2\",\"911-3\",\"917-1\",\"917-2\",\"917-3\",\"924-1\",\"924-2\",\"924-3\",\"942-1\",\"942-2\",\"943-1\",\"943-2\",\"943-3\",\"944-1\",\"944-2\",\"944-3\",\"950-1\",\"950-2\",\"952-7\",\"952-8\"]}],                        {\"template\":{\"data\":{\"histogram2dcontour\":[{\"type\":\"histogram2dcontour\",\"colorbar\":{\"outlinewidth\":0,\"ticks\":\"\"},\"colorscale\":[[0.0,\"#0d0887\"],[0.1111111111111111,\"#46039f\"],[0.2222222222222222,\"#7201a8\"],[0.3333333333333333,\"#9c179e\"],[0.4444444444444444,\"#bd3786\"],[0.5555555555555556,\"#d8576b\"],[0.6666666666666666,\"#ed7953\"],[0.7777777777777778,\"#fb9f3a\"],[0.8888888888888888,\"#fdca26\"],[1.0,\"#f0f921\"]]}],\"choropleth\":[{\"type\":\"choropleth\",\"colorbar\":{\"outlinewidth\":0,\"ticks\":\"\"}}],\"histogram2d\":[{\"type\":\"histogram2d\",\"colorbar\":{\"outlinewidth\":0,\"ticks\":\"\"},\"colorscale\":[[0.0,\"#0d0887\"],[0.1111111111111111,\"#46039f\"],[0.2222222222222222,\"#7201a8\"],[0.3333333333333333,\"#9c179e\"],[0.4444444444444444,\"#bd3786\"],[0.5555555555555556,\"#d8576b\"],[0.6666666666666666,\"#ed7953\"],[0.7777777777777778,\"#fb9f3a\"],[0.8888888888888888,\"#fdca26\"],[1.0,\"#f0f921\"]]}],\"heatmap\":[{\"type\":\"heatmap\",\"colorbar\":{\"outlinewidth\":0,\"ticks\":\"\"},\"colorscale\":[[0.0,\"#0d0887\"],[0.1111111111111111,\"#46039f\"],[0.2222222222222222,\"#7201a8\"],[0.3333333333333333,\"#9c179e\"],[0.4444444444444444,\"#bd3786\"],[0.5555555555555556,\"#d8576b\"],[0.6666666666666666,\"#ed7953\"],[0.7777777777777778,\"#fb9f3a\"],[0.8888888888888888,\"#fdca26\"],[1.0,\"#f0f921\"]]}],\"heatmapgl\":[{\"type\":\"heatmapgl\",\"colorbar\":{\"outlinewidth\":0,\"ticks\":\"\"},\"colorscale\":[[0.0,\"#0d0887\"],[0.1111111111111111,\"#46039f\"],[0.2222222222222222,\"#7201a8\"],[0.3333333333333333,\"#9c179e\"],[0.4444444444444444,\"#bd3786\"],[0.5555555555555556,\"#d8576b\"],[0.6666666666666666,\"#ed7953\"],[0.7777777777777778,\"#fb9f3a\"],[0.8888888888888888,\"#fdca26\"],[1.0,\"#f0f921\"]]}],\"contourcarpet\":[{\"type\":\"contourcarpet\",\"colorbar\":{\"outlinewidth\":0,\"ticks\":\"\"}}],\"contour\":[{\"type\":\"contour\",\"colorbar\":{\"outlinewidth\":0,\"ticks\":\"\"},\"colorscale\":[[0.0,\"#0d0887\"],[0.1111111111111111,\"#46039f\"],[0.2222222222222222,\"#7201a8\"],[0.3333333333333333,\"#9c179e\"],[0.4444444444444444,\"#bd3786\"],[0.5555555555555556,\"#d8576b\"],[0.6666666666666666,\"#ed7953\"],[0.7777777777777778,\"#fb9f3a\"],[0.8888888888888888,\"#fdca26\"],[1.0,\"#f0f921\"]]}],\"surface\":[{\"type\":\"surface\",\"colorbar\":{\"outlinewidth\":0,\"ticks\":\"\"},\"colorscale\":[[0.0,\"#0d0887\"],[0.1111111111111111,\"#46039f\"],[0.2222222222222222,\"#7201a8\"],[0.3333333333333333,\"#9c179e\"],[0.4444444444444444,\"#bd3786\"],[0.5555555555555556,\"#d8576b\"],[0.6666666666666666,\"#ed7953\"],[0.7777777777777778,\"#fb9f3a\"],[0.8888888888888888,\"#fdca26\"],[1.0,\"#f0f921\"]]}],\"mesh3d\":[{\"type\":\"mesh3d\",\"colorbar\":{\"outlinewidth\":0,\"ticks\":\"\"}}],\"scatter\":[{\"fillpattern\":{\"fillmode\":\"overlay\",\"size\":10,\"solidity\":0.2},\"type\":\"scatter\"}],\"parcoords\":[{\"type\":\"parcoords\",\"line\":{\"colorbar\":{\"outlinewidth\":0,\"ticks\":\"\"}}}],\"scatterpolargl\":[{\"type\":\"scatterpolargl\",\"marker\":{\"colorbar\":{\"outlinewidth\":0,\"ticks\":\"\"}}}],\"bar\":[{\"error_x\":{\"color\":\"#2a3f5f\"},\"error_y\":{\"color\":\"#2a3f5f\"},\"marker\":{\"line\":{\"color\":\"#E5ECF6\",\"width\":0.5},\"pattern\":{\"fillmode\":\"overlay\",\"size\":10,\"solidity\":0.2}},\"type\":\"bar\"}],\"scattergeo\":[{\"type\":\"scattergeo\",\"marker\":{\"colorbar\":{\"outlinewidth\":0,\"ticks\":\"\"}}}],\"scatterpolar\":[{\"type\":\"scatterpolar\",\"marker\":{\"colorbar\":{\"outlinewidth\":0,\"ticks\":\"\"}}}],\"histogram\":[{\"marker\":{\"pattern\":{\"fillmode\":\"overlay\",\"size\":10,\"solidity\":0.2}},\"type\":\"histogram\"}],\"scattergl\":[{\"type\":\"scattergl\",\"marker\":{\"colorbar\":{\"outlinewidth\":0,\"ticks\":\"\"}}}],\"scatter3d\":[{\"type\":\"scatter3d\",\"line\":{\"colorbar\":{\"outlinewidth\":0,\"ticks\":\"\"}},\"marker\":{\"colorbar\":{\"outlinewidth\":0,\"ticks\":\"\"}}}],\"scattermapbox\":[{\"type\":\"scattermapbox\",\"marker\":{\"colorbar\":{\"outlinewidth\":0,\"ticks\":\"\"}}}],\"scatterternary\":[{\"type\":\"scatterternary\",\"marker\":{\"colorbar\":{\"outlinewidth\":0,\"ticks\":\"\"}}}],\"scattercarpet\":[{\"type\":\"scattercarpet\",\"marker\":{\"colorbar\":{\"outlinewidth\":0,\"ticks\":\"\"}}}],\"carpet\":[{\"aaxis\":{\"endlinecolor\":\"#2a3f5f\",\"gridcolor\":\"white\",\"linecolor\":\"white\",\"minorgridcolor\":\"white\",\"startlinecolor\":\"#2a3f5f\"},\"baxis\":{\"endlinecolor\":\"#2a3f5f\",\"gridcolor\":\"white\",\"linecolor\":\"white\",\"minorgridcolor\":\"white\",\"startlinecolor\":\"#2a3f5f\"},\"type\":\"carpet\"}],\"table\":[{\"cells\":{\"fill\":{\"color\":\"#EBF0F8\"},\"line\":{\"color\":\"white\"}},\"header\":{\"fill\":{\"color\":\"#C8D4E3\"},\"line\":{\"color\":\"white\"}},\"type\":\"table\"}],\"barpolar\":[{\"marker\":{\"line\":{\"color\":\"#E5ECF6\",\"width\":0.5},\"pattern\":{\"fillmode\":\"overlay\",\"size\":10,\"solidity\":0.2}},\"type\":\"barpolar\"}],\"pie\":[{\"automargin\":true,\"type\":\"pie\"}]},\"layout\":{\"autotypenumbers\":\"strict\",\"colorway\":[\"#636efa\",\"#EF553B\",\"#00cc96\",\"#ab63fa\",\"#FFA15A\",\"#19d3f3\",\"#FF6692\",\"#B6E880\",\"#FF97FF\",\"#FECB52\"],\"font\":{\"color\":\"#2a3f5f\"},\"hovermode\":\"closest\",\"hoverlabel\":{\"align\":\"left\"},\"paper_bgcolor\":\"white\",\"plot_bgcolor\":\"#E5ECF6\",\"polar\":{\"bgcolor\":\"#E5ECF6\",\"angularaxis\":{\"gridcolor\":\"white\",\"linecolor\":\"white\",\"ticks\":\"\"},\"radialaxis\":{\"gridcolor\":\"white\",\"linecolor\":\"white\",\"ticks\":\"\"}},\"ternary\":{\"bgcolor\":\"#E5ECF6\",\"aaxis\":{\"gridcolor\":\"white\",\"linecolor\":\"white\",\"ticks\":\"\"},\"baxis\":{\"gridcolor\":\"white\",\"linecolor\":\"white\",\"ticks\":\"\"},\"caxis\":{\"gridcolor\":\"white\",\"linecolor\":\"white\",\"ticks\":\"\"}},\"coloraxis\":{\"colorbar\":{\"outlinewidth\":0,\"ticks\":\"\"}},\"colorscale\":{\"sequential\":[[0.0,\"#0d0887\"],[0.1111111111111111,\"#46039f\"],[0.2222222222222222,\"#7201a8\"],[0.3333333333333333,\"#9c179e\"],[0.4444444444444444,\"#bd3786\"],[0.5555555555555556,\"#d8576b\"],[0.6666666666666666,\"#ed7953\"],[0.7777777777777778,\"#fb9f3a\"],[0.8888888888888888,\"#fdca26\"],[1.0,\"#f0f921\"]],\"sequentialminus\":[[0.0,\"#0d0887\"],[0.1111111111111111,\"#46039f\"],[0.2222222222222222,\"#7201a8\"],[0.3333333333333333,\"#9c179e\"],[0.4444444444444444,\"#bd3786\"],[0.5555555555555556,\"#d8576b\"],[0.6666666666666666,\"#ed7953\"],[0.7777777777777778,\"#fb9f3a\"],[0.8888888888888888,\"#fdca26\"],[1.0,\"#f0f921\"]],\"diverging\":[[0,\"#8e0152\"],[0.1,\"#c51b7d\"],[0.2,\"#de77ae\"],[0.3,\"#f1b6da\"],[0.4,\"#fde0ef\"],[0.5,\"#f7f7f7\"],[0.6,\"#e6f5d0\"],[0.7,\"#b8e186\"],[0.8,\"#7fbc41\"],[0.9,\"#4d9221\"],[1,\"#276419\"]]},\"xaxis\":{\"gridcolor\":\"white\",\"linecolor\":\"white\",\"ticks\":\"\",\"title\":{\"standoff\":15},\"zerolinecolor\":\"white\",\"automargin\":true,\"zerolinewidth\":2},\"yaxis\":{\"gridcolor\":\"white\",\"linecolor\":\"white\",\"ticks\":\"\",\"title\":{\"standoff\":15},\"zerolinecolor\":\"white\",\"automargin\":true,\"zerolinewidth\":2},\"scene\":{\"xaxis\":{\"backgroundcolor\":\"#E5ECF6\",\"gridcolor\":\"white\",\"linecolor\":\"white\",\"showbackground\":true,\"ticks\":\"\",\"zerolinecolor\":\"white\",\"gridwidth\":2},\"yaxis\":{\"backgroundcolor\":\"#E5ECF6\",\"gridcolor\":\"white\",\"linecolor\":\"white\",\"showbackground\":true,\"ticks\":\"\",\"zerolinecolor\":\"white\",\"gridwidth\":2},\"zaxis\":{\"backgroundcolor\":\"#E5ECF6\",\"gridcolor\":\"white\",\"linecolor\":\"white\",\"showbackground\":true,\"ticks\":\"\",\"zerolinecolor\":\"white\",\"gridwidth\":2}},\"shapedefaults\":{\"line\":{\"color\":\"#2a3f5f\"}},\"annotationdefaults\":{\"arrowcolor\":\"#2a3f5f\",\"arrowhead\":0,\"arrowwidth\":1},\"geo\":{\"bgcolor\":\"white\",\"landcolor\":\"#E5ECF6\",\"subunitcolor\":\"white\",\"showland\":true,\"showlakes\":true,\"lakecolor\":\"white\"},\"title\":{\"x\":0.05},\"mapbox\":{\"style\":\"light\"}}},\"xaxis\":{\"anchor\":\"y\",\"domain\":[0.0,1.0],\"title\":{\"text\":\"ColA\"}},\"yaxis\":{\"anchor\":\"x\",\"domain\":[0.0,1.0],\"title\":{\"text\":\"ColB\"}},\"legend\":{\"tracegroupgap\":0},\"margin\":{\"t\":60}},                        {\"responsive\": true}                    ).then(function(){\n",
       "                            \n",
       "var gd = document.getElementById('dba60bc7-f39b-4383-b076-e1e97b22133d');\n",
       "var x = new MutationObserver(function (mutations, observer) {{\n",
       "        var display = window.getComputedStyle(gd).display;\n",
       "        if (!display || display === 'none') {{\n",
       "            console.log([gd, 'removed!']);\n",
       "            Plotly.purge(gd);\n",
       "            observer.disconnect();\n",
       "        }}\n",
       "}});\n",
       "\n",
       "// Listen for the removal of the full notebook cells\n",
       "var notebookContainer = gd.closest('#notebook-container');\n",
       "if (notebookContainer) {{\n",
       "    x.observe(notebookContainer, {childList: true});\n",
       "}}\n",
       "\n",
       "// Listen for the clearing of the current output cell\n",
       "var outputEl = gd.closest('.output');\n",
       "if (outputEl) {{\n",
       "    x.observe(outputEl, {childList: true});\n",
       "}}\n",
       "\n",
       "                        })                };                });            </script>        </div>"
      ]
     },
     "metadata": {},
     "output_type": "display_data"
    }
   ],
   "source": [
    "# Plotting the data\n",
    "customdata = np.stack((data[\"BTS_ID\"]), axis=-1)\n",
    "fig = px.scatter(data_frame=data, x = \"ColA\", y = \"ColB\")#, hover_data=[\"ColA\", \"ColB\", \"BTS_ID\"])\n",
    "hovertemplate = ('BTS_ID: %{customdata}<br>' + \n",
    "    'ColA: %{x} <br>' + \n",
    "    'ColB: %{y}')\n",
    "fig.update_traces(customdata=customdata, hovertemplate=hovertemplate)\n",
    "fig.show()"
   ]
  },
  {
   "cell_type": "markdown",
   "id": "dc6eedbe",
   "metadata": {},
   "source": [
    "## Part 2"
   ]
  },
  {
   "cell_type": "code",
   "execution_count": 47,
   "id": "b85d5d2d",
   "metadata": {},
   "outputs": [
    {
     "name": "stdout",
     "output_type": "stream",
     "text": [
      "Number of predicted clusters: 7\n"
     ]
    },
    {
     "data": {
      "text/plain": [
       "[Text(0.5, 1.0, 'DBSCAN Clustering')]"
      ]
     },
     "execution_count": 47,
     "metadata": {},
     "output_type": "execute_result"
    },
    {
     "data": {
      "image/png": "[encoded data removed]",
      "text/plain": [
       "<Figure size 432x288 with 1 Axes>"
      ]
     },
     "metadata": {
      "needs_background": "light"
     },
     "output_type": "display_data"
    }
   ],
   "source": [
    "dbscan = DBSCAN(1, metric='euclidean', min_samples=2)\n",
    "dbscan_clusters = dbscan.fit_predict(data[[\"ColA\", \"ColB\"]])\n",
    "data_res = data[[\"ColA\", \"ColB\"]].copy()\n",
    "data_res[\"labels\"] = dbscan_clusters\n",
    "labels = dbscan.labels_\n",
    "# Number of clusters, ignoring noise if present.\n",
    "n_clusters_ = len(set(labels)) - (1 if -1 in labels else 0)\n",
    "print (\"Number of predicted clusters: \" + str(n_clusters_))\n",
    "\n",
    "sns.scatterplot(data=data_res,x=\"ColA\",y='ColB', hue='labels', palette='bright').set(title=\"DBSCAN Clustering\")"
   ]
  },
  {
   "cell_type": "code",
   "execution_count": 48,
   "id": "7be6fc4c",
   "metadata": {},
   "outputs": [
    {
     "name": "stdout",
     "output_type": "stream",
     "text": [
      "Outliers\n"
     ]
    },
    {
     "data": {
      "text/html": [
       "<div>\n",
       "<style scoped>\n",
       "    .dataframe tbody tr th:only-of-type {\n",
       "        vertical-align: middle;\n",
       "    }\n",
       "\n",
       "    .dataframe tbody tr th {\n",
       "        vertical-align: top;\n",
       "    }\n",
       "\n",
       "    .dataframe thead th {\n",
       "        text-align: right;\n",
       "    }\n",
       "</style>\n",
       "<table border=\"1\" class=\"dataframe\">\n",
       "  <thead>\n",
       "    <tr style=\"text-align: right;\">\n",
       "      <th></th>\n",
       "      <th>ColA</th>\n",
       "      <th>ColB</th>\n",
       "      <th>labels</th>\n",
       "    </tr>\n",
       "  </thead>\n",
       "  <tbody>\n",
       "    <tr>\n",
       "      <th>11</th>\n",
       "      <td>-3.451528</td>\n",
       "      <td>9.828003</td>\n",
       "      <td>-1</td>\n",
       "    </tr>\n",
       "    <tr>\n",
       "      <th>14</th>\n",
       "      <td>2.814219</td>\n",
       "      <td>-3.001012</td>\n",
       "      <td>-1</td>\n",
       "    </tr>\n",
       "    <tr>\n",
       "      <th>91</th>\n",
       "      <td>9.791050</td>\n",
       "      <td>-0.254133</td>\n",
       "      <td>-1</td>\n",
       "    </tr>\n",
       "    <tr>\n",
       "      <th>139</th>\n",
       "      <td>-6.690594</td>\n",
       "      <td>6.621169</td>\n",
       "      <td>-1</td>\n",
       "    </tr>\n",
       "    <tr>\n",
       "      <th>170</th>\n",
       "      <td>-3.750051</td>\n",
       "      <td>5.689427</td>\n",
       "      <td>-1</td>\n",
       "    </tr>\n",
       "    <tr>\n",
       "      <th>172</th>\n",
       "      <td>-3.546830</td>\n",
       "      <td>23.869528</td>\n",
       "      <td>-1</td>\n",
       "    </tr>\n",
       "    <tr>\n",
       "      <th>202</th>\n",
       "      <td>3.319060</td>\n",
       "      <td>5.292523</td>\n",
       "      <td>-1</td>\n",
       "    </tr>\n",
       "    <tr>\n",
       "      <th>287</th>\n",
       "      <td>-6.481695</td>\n",
       "      <td>4.426272</td>\n",
       "      <td>-1</td>\n",
       "    </tr>\n",
       "    <tr>\n",
       "      <th>313</th>\n",
       "      <td>-5.716874</td>\n",
       "      <td>6.082256</td>\n",
       "      <td>-1</td>\n",
       "    </tr>\n",
       "    <tr>\n",
       "      <th>320</th>\n",
       "      <td>-4.887989</td>\n",
       "      <td>10.277057</td>\n",
       "      <td>-1</td>\n",
       "    </tr>\n",
       "    <tr>\n",
       "      <th>356</th>\n",
       "      <td>-0.709828</td>\n",
       "      <td>8.802879</td>\n",
       "      <td>-1</td>\n",
       "    </tr>\n",
       "    <tr>\n",
       "      <th>375</th>\n",
       "      <td>4.905453</td>\n",
       "      <td>3.363642</td>\n",
       "      <td>-1</td>\n",
       "    </tr>\n",
       "    <tr>\n",
       "      <th>459</th>\n",
       "      <td>1.922481</td>\n",
       "      <td>10.711338</td>\n",
       "      <td>-1</td>\n",
       "    </tr>\n",
       "    <tr>\n",
       "      <th>490</th>\n",
       "      <td>-1.980787</td>\n",
       "      <td>4.272063</td>\n",
       "      <td>-1</td>\n",
       "    </tr>\n",
       "    <tr>\n",
       "      <th>590</th>\n",
       "      <td>-0.973110</td>\n",
       "      <td>6.508833</td>\n",
       "      <td>-1</td>\n",
       "    </tr>\n",
       "  </tbody>\n",
       "</table>\n",
       "</div>"
      ],
      "text/plain": [
       "         ColA       ColB  labels\n",
       "11  -3.451528   9.828003      -1\n",
       "14   2.814219  -3.001012      -1\n",
       "91   9.791050  -0.254133      -1\n",
       "139 -6.690594   6.621169      -1\n",
       "170 -3.750051   5.689427      -1\n",
       "172 -3.546830  23.869528      -1\n",
       "202  3.319060   5.292523      -1\n",
       "287 -6.481695   4.426272      -1\n",
       "313 -5.716874   6.082256      -1\n",
       "320 -4.887989  10.277057      -1\n",
       "356 -0.709828   8.802879      -1\n",
       "375  4.905453   3.363642      -1\n",
       "459  1.922481  10.711338      -1\n",
       "490 -1.980787   4.272063      -1\n",
       "590 -0.973110   6.508833      -1"
      ]
     },
     "execution_count": 48,
     "metadata": {},
     "output_type": "execute_result"
    }
   ],
   "source": [
    "print(\"Outliers\")\n",
    "data_res[data_res[\"labels\"] == -1]"
   ]
  },
  {
   "cell_type": "code",
   "execution_count": 49,
   "id": "d7bac23b",
   "metadata": {},
   "outputs": [],
   "source": [
    "data[\"labels\"] = data_res.apply(lambda row: -1 if row[\"labels\"] == -1 else 0, axis=1)"
   ]
  },
  {
   "cell_type": "code",
   "execution_count": 50,
   "id": "d803190c",
   "metadata": {},
   "outputs": [
    {
     "data": {
      "application/vnd.plotly.v1+json": {
       "config": {
        "plotlyServerURL": "https://plot.ly"
       },
       "data": [
        {
         "customdata": [
          [
           "10-1",
           0
          ],
          [
           "10-2",
           0
          ],
          [
           "100-1",
           0
          ],
          [
           "100-2",
           0
          ],
          [
           "100-3",
           0
          ],
          [
           "100-4",
           0
          ],
          [
           "100-5",
           0
          ],
          [
           "100-6",
           0
          ],
          [
           "10119-1",
           0
          ],
          [
           "10119-2",
           0
          ],
          [
           "10119-3",
           0
          ],
          [
           "10238-1",
           -1
          ],
          [
           "10238-2",
           0
          ],
          [
           "10238-3",
           0
          ],
          [
           "10627-1",
           -1
          ],
          [
           "10627-2",
           0
          ],
          [
           "10627-3",
           0
          ],
          [
           "1104-25",
           0
          ],
          [
           "1104-26",
           0
          ],
          [
           "1105-1",
           0
          ],
          [
           "1105-2",
           0
          ],
          [
           "1105-3",
           0
          ],
          [
           "113-1",
           0
          ],
          [
           "113-2",
           0
          ],
          [
           "113-3",
           0
          ],
          [
           "115-1",
           0
          ],
          [
           "115-2",
           0
          ],
          [
           "116-1",
           0
          ],
          [
           "116-2",
           0
          ],
          [
           "116-3",
           0
          ],
          [
           "119-7",
           0
          ],
          [
           "119-8",
           0
          ],
          [
           "119-9",
           0
          ],
          [
           "12-1",
           0
          ],
          [
           "12-2",
           0
          ],
          [
           "120-1",
           0
          ],
          [
           "120-2",
           0
          ],
          [
           "120-3",
           0
          ],
          [
           "1200-1",
           0
          ],
          [
           "1200-2",
           0
          ],
          [
           "1200-3",
           0
          ],
          [
           "1201-1",
           0
          ],
          [
           "1201-2",
           0
          ],
          [
           "1201-3",
           0
          ],
          [
           "1202-1",
           0
          ],
          [
           "1202-2",
           0
          ],
          [
           "1202-3",
           0
          ],
          [
           "1203-1",
           0
          ],
          [
           "1203-2",
           0
          ],
          [
           "1203-3",
           0
          ],
          [
           "1207-1",
           0
          ],
          [
           "1207-2",
           0
          ],
          [
           "1208-1",
           0
          ],
          [
           "1208-2",
           0
          ],
          [
           "1208-3",
           0
          ],
          [
           "1209-1",
           0
          ],
          [
           "1209-2",
           0
          ],
          [
           "1209-3",
           0
          ],
          [
           "121-1",
           0
          ],
          [
           "121-2",
           0
          ],
          [
           "1211-1",
           0
          ],
          [
           "1211-2",
           0
          ],
          [
           "1211-3",
           0
          ],
          [
           "1216-1",
           0
          ],
          [
           "1216-2",
           0
          ],
          [
           "1218-1",
           0
          ],
          [
           "1218-2",
           0
          ],
          [
           "1219-1",
           0
          ],
          [
           "1219-2",
           0
          ],
          [
           "1219-4",
           0
          ],
          [
           "1219-5",
           0
          ],
          [
           "1220-1",
           0
          ],
          [
           "1220-2",
           0
          ],
          [
           "1220-3",
           0
          ],
          [
           "1226-1",
           0
          ],
          [
           "1226-2",
           0
          ],
          [
           "1227-1",
           0
          ],
          [
           "1227-2",
           0
          ],
          [
           "1227-3",
           0
          ],
          [
           "1228-1",
           0
          ],
          [
           "1228-2",
           0
          ],
          [
           "1228-3",
           0
          ],
          [
           "1228-4",
           0
          ],
          [
           "1228-5",
           0
          ],
          [
           "1228-6",
           0
          ],
          [
           "1229-1",
           0
          ],
          [
           "1229-2",
           0
          ],
          [
           "1229-3",
           0
          ],
          [
           "1229-4",
           0
          ],
          [
           "1229-5",
           0
          ],
          [
           "1229-6",
           0
          ],
          [
           "1230-1",
           -1
          ],
          [
           "1230-2",
           0
          ],
          [
           "1230-3",
           0
          ],
          [
           "1231-1",
           0
          ],
          [
           "1231-2",
           0
          ],
          [
           "1231-3",
           0
          ],
          [
           "1232-1",
           0
          ],
          [
           "1232-2",
           0
          ],
          [
           "1232-3",
           0
          ],
          [
           "1233-1",
           0
          ],
          [
           "1233-2",
           0
          ],
          [
           "1233-3",
           0
          ],
          [
           "1233-4",
           0
          ],
          [
           "1233-5",
           0
          ],
          [
           "1233-6",
           0
          ],
          [
           "1234-1",
           0
          ],
          [
           "1234-2",
           0
          ],
          [
           "1234-3",
           0
          ],
          [
           "1235-1",
           0
          ],
          [
           "1235-2",
           0
          ],
          [
           "1235-3",
           0
          ],
          [
           "1236-1",
           0
          ],
          [
           "1236-2",
           0
          ],
          [
           "1236-3",
           0
          ],
          [
           "1237-1",
           0
          ],
          [
           "1237-2",
           0
          ],
          [
           "1237-3",
           0
          ],
          [
           "1237-4",
           0
          ],
          [
           "1237-5",
           0
          ],
          [
           "1237-6",
           0
          ],
          [
           "1238-1",
           0
          ],
          [
           "1238-2",
           0
          ],
          [
           "1238-3",
           0
          ],
          [
           "1239-1",
           0
          ],
          [
           "1239-2",
           0
          ],
          [
           "1239-3",
           0
          ],
          [
           "1239-4",
           0
          ],
          [
           "1239-5",
           0
          ],
          [
           "1239-6",
           0
          ],
          [
           "1241-1",
           0
          ],
          [
           "1241-2",
           0
          ],
          [
           "1241-3",
           0
          ],
          [
           "1242-25",
           0
          ],
          [
           "1242-26",
           0
          ],
          [
           "126-1",
           0
          ],
          [
           "126-2",
           0
          ],
          [
           "126-3",
           0
          ],
          [
           "128-1",
           0
          ],
          [
           "128-2",
           -1
          ],
          [
           "13-1",
           0
          ],
          [
           "13-2",
           0
          ],
          [
           "132-1",
           0
          ],
          [
           "132-2",
           0
          ],
          [
           "132-3",
           0
          ],
          [
           "133-1",
           0
          ],
          [
           "133-2",
           0
          ],
          [
           "133-3",
           0
          ],
          [
           "134-1",
           0
          ],
          [
           "134-2",
           0
          ],
          [
           "134-3",
           0
          ],
          [
           "135-1",
           0
          ],
          [
           "135-2",
           0
          ],
          [
           "135-3",
           0
          ],
          [
           "137-1",
           0
          ],
          [
           "137-2",
           0
          ],
          [
           "137-3",
           0
          ],
          [
           "139-1",
           0
          ],
          [
           "139-2",
           0
          ],
          [
           "139-3",
           0
          ],
          [
           "14-1",
           0
          ],
          [
           "14-2",
           0
          ],
          [
           "14-3",
           0
          ],
          [
           "14-4",
           0
          ],
          [
           "14-5",
           0
          ],
          [
           "14-6",
           0
          ],
          [
           "140-1",
           0
          ],
          [
           "140-2",
           0
          ],
          [
           "141-1",
           0
          ],
          [
           "141-2",
           0
          ],
          [
           "143-1",
           -1
          ],
          [
           "143-2",
           0
          ],
          [
           "143-3",
           -1
          ],
          [
           "146-1",
           0
          ],
          [
           "146-2",
           0
          ],
          [
           "146-3",
           0
          ],
          [
           "147-1",
           0
          ],
          [
           "147-2",
           0
          ],
          [
           "148-1",
           0
          ],
          [
           "148-2",
           0
          ],
          [
           "148-3",
           0
          ],
          [
           "153-1",
           0
          ],
          [
           "153-2",
           0
          ],
          [
           "154-1",
           0
          ],
          [
           "154-2",
           0
          ],
          [
           "159-1",
           0
          ],
          [
           "159-2",
           0
          ],
          [
           "16-1",
           0
          ],
          [
           "160-1",
           0
          ],
          [
           "160-2",
           0
          ],
          [
           "160-3",
           0
          ],
          [
           "161-1",
           0
          ],
          [
           "161-2",
           0
          ],
          [
           "161-3",
           0
          ],
          [
           "165-1",
           0
          ],
          [
           "165-2",
           0
          ],
          [
           "165-3",
           0
          ],
          [
           "166-1",
           0
          ],
          [
           "166-2",
           0
          ],
          [
           "167-1",
           0
          ],
          [
           "167-2",
           0
          ],
          [
           "167-3",
           0
          ],
          [
           "17-1",
           -1
          ],
          [
           "179-1",
           0
          ],
          [
           "179-2",
           0
          ],
          [
           "179-3",
           0
          ],
          [
           "180-1",
           0
          ],
          [
           "180-2",
           0
          ],
          [
           "180-3",
           0
          ],
          [
           "181-1",
           0
          ],
          [
           "181-2",
           0
          ],
          [
           "181-3",
           0
          ],
          [
           "189-1",
           0
          ],
          [
           "189-2",
           0
          ],
          [
           "189-3",
           0
          ],
          [
           "192-1",
           0
          ],
          [
           "193-1",
           0
          ],
          [
           "193-2",
           0
          ],
          [
           "193-3",
           0
          ],
          [
           "194-1",
           0
          ],
          [
           "194-2",
           0
          ],
          [
           "194-3",
           0
          ],
          [
           "195-1",
           0
          ],
          [
           "195-2",
           0
          ],
          [
           "196-4",
           0
          ],
          [
           "196-5",
           0
          ],
          [
           "198-1",
           0
          ],
          [
           "198-2",
           0
          ],
          [
           "198-3",
           0
          ],
          [
           "199-1",
           0
          ],
          [
           "199-2",
           0
          ],
          [
           "199-3",
           0
          ],
          [
           "20-1",
           0
          ],
          [
           "20-2",
           0
          ],
          [
           "200-1",
           0
          ],
          [
           "200-2",
           0
          ],
          [
           "2005-1",
           0
          ],
          [
           "2005-2",
           0
          ],
          [
           "2005-3",
           0
          ],
          [
           "201-1",
           0
          ],
          [
           "201-2",
           0
          ],
          [
           "201-3",
           0
          ],
          [
           "201-4",
           0
          ],
          [
           "201-5",
           0
          ],
          [
           "201-6",
           0
          ],
          [
           "204-1",
           0
          ],
          [
           "204-2",
           0
          ],
          [
           "205-1",
           0
          ],
          [
           "205-2",
           0
          ],
          [
           "206-1",
           0
          ],
          [
           "206-2",
           0
          ],
          [
           "207-1",
           0
          ],
          [
           "207-2",
           0
          ],
          [
           "207-3",
           0
          ],
          [
           "208-1",
           0
          ],
          [
           "208-2",
           0
          ],
          [
           "208-3",
           0
          ],
          [
           "209-1",
           0
          ],
          [
           "209-2",
           0
          ],
          [
           "209-3",
           0
          ],
          [
           "21-1",
           0
          ],
          [
           "21-2",
           0
          ],
          [
           "210-1",
           0
          ],
          [
           "210-2",
           0
          ],
          [
           "211-1",
           0
          ],
          [
           "211-2",
           0
          ],
          [
           "211-3",
           0
          ],
          [
           "212-1",
           0
          ],
          [
           "212-2",
           0
          ],
          [
           "213-1",
           0
          ],
          [
           "213-2",
           0
          ],
          [
           "214-1",
           0
          ],
          [
           "214-2",
           0
          ],
          [
           "214-3",
           0
          ],
          [
           "215-1",
           0
          ],
          [
           "215-2",
           0
          ],
          [
           "215-3",
           0
          ],
          [
           "216-1",
           0
          ],
          [
           "216-2",
           0
          ],
          [
           "216-3",
           0
          ],
          [
           "217-1",
           0
          ],
          [
           "217-2",
           0
          ],
          [
           "218-1",
           0
          ],
          [
           "218-2",
           0
          ],
          [
           "22-1",
           0
          ],
          [
           "22-2",
           0
          ],
          [
           "222-1",
           0
          ],
          [
           "222-2",
           -1
          ],
          [
           "222-3",
           0
          ],
          [
           "222-4",
           0
          ],
          [
           "222-5",
           0
          ],
          [
           "222-6",
           0
          ],
          [
           "223-1",
           0
          ],
          [
           "223-2",
           0
          ],
          [
           "223-3",
           0
          ],
          [
           "223-4",
           0
          ],
          [
           "223-5",
           0
          ],
          [
           "223-6",
           0
          ],
          [
           "224-1",
           0
          ],
          [
           "224-2",
           0
          ],
          [
           "224-3",
           0
          ],
          [
           "226-1",
           0
          ],
          [
           "226-2",
           0
          ],
          [
           "226-3",
           0
          ],
          [
           "226-4",
           0
          ],
          [
           "226-5",
           0
          ],
          [
           "226-6",
           0
          ],
          [
           "229-1",
           0
          ],
          [
           "229-2",
           0
          ],
          [
           "229-3",
           0
          ],
          [
           "229-4",
           0
          ],
          [
           "229-5",
           0
          ],
          [
           "229-6",
           0
          ],
          [
           "23-1",
           -1
          ],
          [
           "23-2",
           0
          ],
          [
           "234-1",
           0
          ],
          [
           "234-2",
           0
          ],
          [
           "234-3",
           0
          ],
          [
           "238-7",
           0
          ],
          [
           "238-8",
           0
          ],
          [
           "239-1",
           -1
          ],
          [
           "239-2",
           0
          ],
          [
           "24-1",
           0
          ],
          [
           "24-2",
           0
          ],
          [
           "24-3",
           0
          ],
          [
           "240-1",
           0
          ],
          [
           "240-2",
           0
          ],
          [
           "240-3",
           0
          ],
          [
           "243-1",
           0
          ],
          [
           "243-2",
           0
          ],
          [
           "244-1",
           0
          ],
          [
           "244-2",
           0
          ],
          [
           "245-1",
           0
          ],
          [
           "245-2",
           0
          ],
          [
           "245-3",
           0
          ],
          [
           "245-4",
           0
          ],
          [
           "245-5",
           0
          ],
          [
           "245-6",
           0
          ],
          [
           "246-1",
           0
          ],
          [
           "246-2",
           0
          ],
          [
           "246-3",
           0
          ],
          [
           "247-1",
           0
          ],
          [
           "247-2",
           0
          ],
          [
           "247-3",
           0
          ],
          [
           "248-1",
           0
          ],
          [
           "248-2",
           0
          ],
          [
           "248-3",
           0
          ],
          [
           "248-4",
           0
          ],
          [
           "248-5",
           0
          ],
          [
           "248-6",
           0
          ],
          [
           "250-1",
           0
          ],
          [
           "250-2",
           0
          ],
          [
           "250-3",
           0
          ],
          [
           "250-4",
           0
          ],
          [
           "250-5",
           0
          ],
          [
           "250-6",
           0
          ],
          [
           "251-7",
           -1
          ],
          [
           "251-8",
           0
          ],
          [
           "251-9",
           0
          ],
          [
           "252-1",
           0
          ],
          [
           "252-2",
           0
          ],
          [
           "252-3",
           0
          ],
          [
           "253-1",
           0
          ],
          [
           "253-2",
           0
          ],
          [
           "253-3",
           0
          ],
          [
           "253-4",
           0
          ],
          [
           "253-5",
           0
          ],
          [
           "253-6",
           0
          ],
          [
           "254-1",
           0
          ],
          [
           "254-2",
           0
          ],
          [
           "254-3",
           0
          ],
          [
           "255-1",
           0
          ],
          [
           "255-2",
           0
          ],
          [
           "255-3",
           0
          ],
          [
           "255-4",
           0
          ],
          [
           "255-5",
           -1
          ],
          [
           "255-6",
           0
          ],
          [
           "256-1",
           0
          ],
          [
           "256-2",
           0
          ],
          [
           "256-3",
           0
          ],
          [
           "256-4",
           0
          ],
          [
           "257-1",
           0
          ],
          [
           "257-2",
           0
          ],
          [
           "257-3",
           0
          ],
          [
           "259-1",
           0
          ],
          [
           "259-2",
           0
          ],
          [
           "259-3",
           0
          ],
          [
           "26-1",
           0
          ],
          [
           "26-2",
           0
          ],
          [
           "260-1",
           0
          ],
          [
           "260-2",
           0
          ],
          [
           "260-3",
           0
          ],
          [
           "261-1",
           0
          ],
          [
           "261-2",
           0
          ],
          [
           "261-3",
           0
          ],
          [
           "261-4",
           0
          ],
          [
           "261-5",
           0
          ],
          [
           "261-6",
           0
          ],
          [
           "262-1",
           0
          ],
          [
           "262-2",
           0
          ],
          [
           "262-3",
           0
          ],
          [
           "262-4",
           0
          ],
          [
           "262-5",
           0
          ],
          [
           "262-6",
           0
          ],
          [
           "263-1",
           0
          ],
          [
           "263-2",
           0
          ],
          [
           "263-3",
           0
          ],
          [
           "264-1",
           0
          ],
          [
           "264-2",
           0
          ],
          [
           "264-3",
           0
          ],
          [
           "265-1",
           0
          ],
          [
           "265-2",
           0
          ],
          [
           "265-3",
           0
          ],
          [
           "266-1",
           0
          ],
          [
           "266-2",
           0
          ],
          [
           "266-3",
           0
          ],
          [
           "266-4",
           0
          ],
          [
           "266-5",
           0
          ],
          [
           "266-6",
           0
          ],
          [
           "269-1",
           0
          ],
          [
           "269-2",
           0
          ],
          [
           "269-3",
           0
          ],
          [
           "269-4",
           0
          ],
          [
           "269-5",
           0
          ],
          [
           "269-6",
           0
          ],
          [
           "27-1",
           0
          ],
          [
           "27-2",
           0
          ],
          [
           "27-3",
           0
          ],
          [
           "271-1",
           0
          ],
          [
           "271-2",
           0
          ],
          [
           "271-3",
           0
          ],
          [
           "272-1",
           0
          ],
          [
           "272-2",
           0
          ],
          [
           "273-1",
           0
          ],
          [
           "276-1",
           0
          ],
          [
           "276-2",
           0
          ],
          [
           "276-3",
           0
          ],
          [
           "277-1",
           0
          ],
          [
           "277-2",
           0
          ],
          [
           "277-3",
           0
          ],
          [
           "278-1",
           0
          ],
          [
           "278-2",
           0
          ],
          [
           "279-1",
           0
          ],
          [
           "279-2",
           0
          ],
          [
           "279-3",
           0
          ],
          [
           "283-1",
           0
          ],
          [
           "283-2",
           0
          ],
          [
           "283-3",
           0
          ],
          [
           "287-1",
           0
          ],
          [
           "287-2",
           0
          ],
          [
           "288-1",
           0
          ],
          [
           "288-2",
           0
          ],
          [
           "288-3",
           0
          ],
          [
           "289-1",
           0
          ],
          [
           "289-2",
           0
          ],
          [
           "289-3",
           0
          ],
          [
           "289-4",
           0
          ],
          [
           "289-5",
           0
          ],
          [
           "289-6",
           0
          ],
          [
           "293-1",
           -1
          ],
          [
           "293-2",
           0
          ],
          [
           "293-3",
           0
          ],
          [
           "295-1",
           0
          ],
          [
           "295-2",
           0
          ],
          [
           "298-1",
           0
          ],
          [
           "298-2",
           0
          ],
          [
           "298-3",
           0
          ],
          [
           "3-1",
           0
          ],
          [
           "3-2",
           0
          ],
          [
           "400-1",
           0
          ],
          [
           "400-2",
           0
          ],
          [
           "401-25",
           0
          ],
          [
           "401-26",
           0
          ],
          [
           "402-1",
           0
          ],
          [
           "402-2",
           0
          ],
          [
           "402-3",
           0
          ],
          [
           "405-1",
           0
          ],
          [
           "405-2",
           0
          ],
          [
           "405-3",
           0
          ],
          [
           "406-1",
           0
          ],
          [
           "406-2",
           0
          ],
          [
           "406-3",
           0
          ],
          [
           "407-1",
           0
          ],
          [
           "407-2",
           0
          ],
          [
           "407-3",
           0
          ],
          [
           "409-1",
           0
          ],
          [
           "409-2",
           0
          ],
          [
           "410-1",
           0
          ],
          [
           "410-2",
           0
          ],
          [
           "410-3",
           0
          ],
          [
           "411-1",
           -1
          ],
          [
           "411-2",
           0
          ],
          [
           "412-1",
           0
          ],
          [
           "412-2",
           0
          ],
          [
           "412-3",
           0
          ],
          [
           "413-1",
           0
          ],
          [
           "413-2",
           0
          ],
          [
           "413-3",
           0
          ],
          [
           "418-1",
           0
          ],
          [
           "418-2",
           0
          ],
          [
           "423-1",
           0
          ],
          [
           "423-2",
           0
          ],
          [
           "431-7",
           0
          ],
          [
           "431-8",
           0
          ],
          [
           "431-9",
           0
          ],
          [
           "432-1",
           0
          ],
          [
           "432-2",
           0
          ],
          [
           "434-7",
           0
          ],
          [
           "434-8",
           0
          ],
          [
           "434-9",
           0
          ],
          [
           "443-7",
           0
          ],
          [
           "443-8",
           0
          ],
          [
           "443-9",
           0
          ],
          [
           "452-1",
           0
          ],
          [
           "465-1",
           0
          ],
          [
           "465-2",
           0
          ],
          [
           "466-1",
           0
          ],
          [
           "466-2",
           0
          ],
          [
           "471-1",
           0
          ],
          [
           "471-2",
           0
          ],
          [
           "471-3",
           0
          ],
          [
           "474-1",
           0
          ],
          [
           "474-2",
           0
          ],
          [
           "474-3",
           0
          ],
          [
           "475-1",
           0
          ],
          [
           "475-2",
           0
          ],
          [
           "475-3",
           0
          ],
          [
           "635-1",
           0
          ],
          [
           "635-2",
           0
          ],
          [
           "635-3",
           0
          ],
          [
           "646-1",
           0
          ],
          [
           "646-2",
           0
          ],
          [
           "646-3",
           0
          ],
          [
           "650-1",
           0
          ],
          [
           "650-2",
           0
          ],
          [
           "650-3",
           0
          ],
          [
           "667-1",
           0
          ],
          [
           "667-2",
           0
          ],
          [
           "667-3",
           0
          ],
          [
           "674-1",
           0
          ],
          [
           "674-2",
           0
          ],
          [
           "674-3",
           0
          ],
          [
           "675-1",
           0
          ],
          [
           "675-2",
           0
          ],
          [
           "675-3",
           0
          ],
          [
           "676-1",
           0
          ],
          [
           "676-2",
           0
          ],
          [
           "676-3",
           0
          ],
          [
           "680-1",
           0
          ],
          [
           "680-2",
           0
          ],
          [
           "680-3",
           0
          ],
          [
           "689-1",
           0
          ],
          [
           "689-2",
           0
          ],
          [
           "689-3",
           0
          ],
          [
           "699-1",
           0
          ],
          [
           "699-2",
           0
          ],
          [
           "699-3",
           0
          ],
          [
           "7-25",
           0
          ],
          [
           "7-26",
           0
          ],
          [
           "9-1",
           0
          ],
          [
           "9-2",
           0
          ],
          [
           "900-1",
           0
          ],
          [
           "900-2",
           0
          ],
          [
           "903-1",
           0
          ],
          [
           "903-2",
           0
          ],
          [
           "903-3",
           0
          ],
          [
           "904-1",
           0
          ],
          [
           "904-2",
           0
          ],
          [
           "904-3",
           0
          ],
          [
           "910-1",
           0
          ],
          [
           "910-2",
           0
          ],
          [
           "910-3",
           0
          ],
          [
           "911-1",
           0
          ],
          [
           "911-2",
           0
          ],
          [
           "911-3",
           0
          ],
          [
           "917-1",
           0
          ],
          [
           "917-2",
           0
          ],
          [
           "917-3",
           0
          ],
          [
           "924-1",
           0
          ],
          [
           "924-2",
           0
          ],
          [
           "924-3",
           0
          ],
          [
           "942-1",
           0
          ],
          [
           "942-2",
           0
          ],
          [
           "943-1",
           0
          ],
          [
           "943-2",
           0
          ],
          [
           "943-3",
           0
          ],
          [
           "944-1",
           0
          ],
          [
           "944-2",
           0
          ],
          [
           "944-3",
           0
          ],
          [
           "950-1",
           0
          ],
          [
           "950-2",
           -1
          ],
          [
           "952-7",
           0
          ],
          [
           "952-8",
           0
          ]
         ],
         "hovertemplate": "BTS_ID: %{customdata[0]}<br>ColA: %{x} <br>ColB: %{y} <br>labels: %{customdata[1]}<extra></extra>",
         "legendgroup": "",
         "marker": {
          "color": [
           0,
           0,
           0,
           0,
           0,
           0,
           0,
           0,
           0,
           0,
           0,
           -1,
           0,
           0,
           -1,
           0,
           0,
           0,
           0,
           0,
           0,
           0,
           0,
           0,
           0,
           0,
           0,
           0,
           0,
           0,
           0,
           0,
           0,
           0,
           0,
           0,
           0,
           0,
           0,
           0,
           0,
           0,
           0,
           0,
           0,
           0,
           0,
           0,
           0,
           0,
           0,
           0,
           0,
           0,
           0,
           0,
           0,
           0,
           0,
           0,
           0,
           0,
           0,
           0,
           0,
           0,
           0,
           0,
           0,
           0,
           0,
           0,
           0,
           0,
           0,
           0,
           0,
           0,
           0,
           0,
           0,
           0,
           0,
           0,
           0,
           0,
           0,
           0,
           0,
           0,
           0,
           -1,
           0,
           0,
           0,
           0,
           0,
           0,
           0,
           0,
           0,
           0,
           0,
           0,
           0,
           0,
           0,
           0,
           0,
           0,
           0,
           0,
           0,
           0,
           0,
           0,
           0,
           0,
           0,
           0,
           0,
           0,
           0,
           0,
           0,
           0,
           0,
           0,
           0,
           0,
           0,
           0,
           0,
           0,
           0,
           0,
           0,
           0,
           0,
           -1,
           0,
           0,
           0,
           0,
           0,
           0,
           0,
           0,
           0,
           0,
           0,
           0,
           0,
           0,
           0,
           0,
           0,
           0,
           0,
           0,
           0,
           0,
           0,
           0,
           0,
           0,
           0,
           0,
           0,
           0,
           -1,
           0,
           -1,
           0,
           0,
           0,
           0,
           0,
           0,
           0,
           0,
           0,
           0,
           0,
           0,
           0,
           0,
           0,
           0,
           0,
           0,
           0,
           0,
           0,
           0,
           0,
           0,
           0,
           0,
           0,
           0,
           0,
           -1,
           0,
           0,
           0,
           0,
           0,
           0,
           0,
           0,
           0,
           0,
           0,
           0,
           0,
           0,
           0,
           0,
           0,
           0,
           0,
           0,
           0,
           0,
           0,
           0,
           0,
           0,
           0,
           0,
           0,
           0,
           0,
           0,
           0,
           0,
           0,
           0,
           0,
           0,
           0,
           0,
           0,
           0,
           0,
           0,
           0,
           0,
           0,
           0,
           0,
           0,
           0,
           0,
           0,
           0,
           0,
           0,
           0,
           0,
           0,
           0,
           0,
           0,
           0,
           0,
           0,
           0,
           0,
           0,
           0,
           0,
           0,
           0,
           0,
           0,
           0,
           0,
           0,
           0,
           0,
           0,
           0,
           0,
           0,
           0,
           -1,
           0,
           0,
           0,
           0,
           0,
           0,
           0,
           0,
           0,
           0,
           0,
           0,
           0,
           0,
           0,
           0,
           0,
           0,
           0,
           0,
           0,
           0,
           0,
           0,
           0,
           -1,
           0,
           0,
           0,
           0,
           0,
           0,
           -1,
           0,
           0,
           0,
           0,
           0,
           0,
           0,
           0,
           0,
           0,
           0,
           0,
           0,
           0,
           0,
           0,
           0,
           0,
           0,
           0,
           0,
           0,
           0,
           0,
           0,
           0,
           0,
           0,
           0,
           0,
           0,
           0,
           0,
           0,
           0,
           -1,
           0,
           0,
           0,
           0,
           0,
           0,
           0,
           0,
           0,
           0,
           0,
           0,
           0,
           0,
           0,
           0,
           0,
           0,
           -1,
           0,
           0,
           0,
           0,
           0,
           0,
           0,
           0,
           0,
           0,
           0,
           0,
           0,
           0,
           0,
           0,
           0,
           0,
           0,
           0,
           0,
           0,
           0,
           0,
           0,
           0,
           0,
           0,
           0,
           0,
           0,
           0,
           0,
           0,
           0,
           0,
           0,
           0,
           0,
           0,
           0,
           0,
           0,
           0,
           0,
           0,
           0,
           0,
           0,
           0,
           0,
           0,
           0,
           0,
           0,
           0,
           0,
           0,
           0,
           0,
           0,
           0,
           0,
           0,
           0,
           0,
           0,
           0,
           0,
           0,
           0,
           0,
           0,
           0,
           0,
           0,
           0,
           0,
           0,
           0,
           0,
           0,
           0,
           -1,
           0,
           0,
           0,
           0,
           0,
           0,
           0,
           0,
           0,
           0,
           0,
           0,
           0,
           0,
           0,
           0,
           0,
           0,
           0,
           0,
           0,
           0,
           0,
           0,
           0,
           0,
           0,
           0,
           0,
           0,
           -1,
           0,
           0,
           0,
           0,
           0,
           0,
           0,
           0,
           0,
           0,
           0,
           0,
           0,
           0,
           0,
           0,
           0,
           0,
           0,
           0,
           0,
           0,
           0,
           0,
           0,
           0,
           0,
           0,
           0,
           0,
           0,
           0,
           0,
           0,
           0,
           0,
           0,
           0,
           0,
           0,
           0,
           0,
           0,
           0,
           0,
           0,
           0,
           0,
           0,
           0,
           0,
           0,
           0,
           0,
           0,
           0,
           0,
           0,
           0,
           0,
           0,
           0,
           0,
           0,
           0,
           0,
           0,
           0,
           0,
           0,
           0,
           0,
           0,
           0,
           0,
           0,
           0,
           0,
           0,
           0,
           0,
           0,
           0,
           0,
           0,
           0,
           0,
           0,
           0,
           0,
           0,
           0,
           0,
           0,
           0,
           0,
           0,
           0,
           0,
           -1,
           0,
           0
          ],
          "coloraxis": "coloraxis",
          "symbol": "circle"
         },
         "mode": "markers",
         "name": "",
         "orientation": "v",
         "showlegend": false,
         "type": "scatter",
         "x": [
          0.665554020935984,
          0.13542909304121675,
          1.6463451805465217,
          -2.1819871558739625,
          -1.122742646425574,
          0.9837616738867867,
          -0.6284783275992303,
          -1.1705005075680057,
          -1.8582479528638902,
          -2.6231349171544602,
          -0.14323484174242587,
          -3.4515280174504888,
          -0.19487334635345244,
          -2.1934467695485034,
          2.814218860150989,
          -2.848429591802005,
          2.146826754397127,
          -0.28571698261842204,
          0.15614412498790536,
          0.17845686134014013,
          2.0156099580996547,
          3.7543839223569813,
          2.698443986691479,
          -1.1427043015844334,
          -0.007919791872684535,
          2.401376472397889,
          4.420979160388129,
          -1.8765655031488413,
          -1.8223365298606042,
          -2.4970775621932817,
          -4.665100720511665,
          -2.1954328210308924,
          -4.169093526342709,
          -1.6534881742903085,
          -3.183216630045643,
          -1.8561189513096856,
          1.157006268930434,
          1.630158794917141,
          0.10974742904816694,
          -0.4730219355428368,
          5.186122432113827,
          -2.264220164047956,
          -2.8728343819512916,
          2.069814439146388,
          2.4664045540672883,
          0.3420037156134793,
          3.480226285998438,
          2.7858890284720887,
          -0.9270451689490314,
          -2.637667662552491,
          -1.3824606516083633,
          -1.4756109536380622,
          1.2031286895909197,
          -0.5610241666647066,
          1.6521362358445775,
          5.070770368121154,
          -0.36628665783089426,
          2.1353235365529986,
          -1.4699439928167752,
          -1.881206993163437,
          1.4582013094795305,
          -0.1437381916952082,
          5.010092495909209,
          -1.0013345230754547,
          -2.0599864674658597,
          -0.5347911956473973,
          0.5018243104402592,
          0.9868970330298552,
          -4.218110678389753,
          2.53212708317205,
          -3.413447094309013,
          1.0914001308940209,
          -0.7361996036344003,
          0.5213110626363425,
          1.038849408497754,
          1.1697747904758369,
          6.010372795185004,
          3.4487006929536124,
          4.167618563691862,
          2.4635113633500816,
          1.4089194282245354,
          2.2215787413321846,
          2.9588535755172507,
          -0.6775107654681196,
          -0.6942820752267104,
          -1.162987752709849,
          -0.2898571706061711,
          1.8847705930715644,
          -2.7498749402983393,
          1.4360055445661404,
          2.5564121027347726,
          9.791050387594318,
          6.311559971481352,
          -0.22021731442176573,
          -1.7455232925988613,
          -0.3423608375686767,
          -1.4613362864074606,
          3.831937017345402,
          5.869251148420332,
          0.40675539165140584,
          -3.7904525709433976,
          -2.7408844102715864,
          -3.0653761889240934,
          -3.2354258420744877,
          -2.9399477801322624,
          -3.2769487327136533,
          2.419343836667621,
          1.4537163096178383,
          -1.2169753788366138,
          5.88563713466349,
          5.464779236694949,
          -0.58688401558279,
          5.100302142761357,
          2.7110532718044085,
          3.822022683319338,
          0.8206928492336864,
          3.1596745727376803,
          -0.8156940938735228,
          -0.3896273431740644,
          3.935541635776939,
          0.030594679237228285,
          2.8495798162871884,
          5.42273455852841,
          6.310913706121065,
          -1.0529738008613019,
          -1.6265193548646197,
          -2.0135101062516316,
          -1.3551843957355951,
          -1.6571939198198007,
          -2.662635404346182,
          1.287394512700882,
          4.98185865365211,
          2.189596292559795,
          -1.2423093047093254,
          3.1524287858309714,
          -1.8491851903035053,
          0.5844025767463641,
          0.943768704229977,
          -7.240262723771627,
          -6.690594141600091,
          -0.7015588491893631,
          -1.4484242401574268,
          -3.645739609899184,
          -3.7194535732619136,
          -3.048730551125929,
          -1.8315575395713721,
          -2.6288315387080856,
          -0.5568582094851772,
          -2.819267796196722,
          -1.0244907089230568,
          -1.5431619234615275,
          -3.688022032795067,
          -0.05900701883423263,
          -3.5714110743181133,
          -2.803163727109548,
          -0.6260309456073705,
          -1.931223624473283,
          3.734345969854259,
          -0.7235429361143039,
          6.429330418323481,
          -1.1455926473200726,
          -1.6398794068031797,
          -2.2111588756593985,
          -1.6422064961651428,
          -0.8159775940211537,
          -2.675740590535689,
          -0.7561562890552959,
          -2.4490530692483086,
          -1.3188533888627345,
          -1.3453405588854492,
          -3.7500513732958813,
          -3.1247457665341125,
          -3.5468300279418226,
          1.0417410280319284,
          -0.6380392797619939,
          -3.294543407649188,
          -0.9168104988629133,
          -0.4114462823535555,
          2.755343773910423,
          5.166203378669914,
          4.462240013400919,
          -0.23859865521670762,
          -1.7530987645526224,
          2.145220147104739,
          0.012073033522459116,
          -0.8400034282174594,
          0.10085469873127459,
          -2.4693970868494346,
          0.6157623638740618,
          3.7965588729843796,
          -1.545290187905367,
          3.1685160264845247,
          2.066789944653408,
          3.4323296257836717,
          0.009878652332377318,
          -5.155243781172092,
          -2.1483402092855477,
          0.4583825972901405,
          -1.7833923694757712,
          0.4056286943145185,
          -1.5489577802007901,
          -0.47407739637914814,
          3.3190596563775956,
          -4.368206938438038,
          4.476271547384633,
          -1.0047612142599907,
          -2.4863459880627636,
          4.828022736967739,
          3.376465039604004,
          -4.523030101268734,
          6.152719649779456,
          5.255528437208042,
          -5.203385743969341,
          -6.021791028471112,
          -4.996565986416592,
          0.5411404592675684,
          -3.962504964931433,
          -3.1834585824858523,
          -0.16200261497731738,
          0.8859277084823783,
          0.6617420608384698,
          1.6453388223962861,
          -2.704353735883677,
          -0.6283049980763215,
          1.8696756639606913,
          -4.166826023326462,
          5.682436719626833,
          2.738698895030791,
          3.6368032704475692,
          4.488973388031705,
          1.7626028586935554,
          -1.5808885710613956,
          3.4475687250560347,
          4.345222226185716,
          2.2671415592267103,
          3.5318035327313035,
          -2.5344746627423573,
          -1.2266485542153658,
          0.9632521753808665,
          -1.6882490708557232,
          1.5886191303954678,
          1.0790281353801239,
          0.011041155549011153,
          0.5134240989938416,
          1.0147266754617004,
          2.6106411415805315,
          -0.593891248481091,
          3.5668409430947774,
          1.2634468434144057,
          -1.070398181002135,
          -1.5299398612781485,
          -1.027471057504741,
          2.904669059648071,
          5.378397322645547,
          1.8385577335892251,
          1.6688579555551741,
          4.257256867088179,
          -1.9000594122315535,
          -1.4816493635420802,
          0.0016057697951494074,
          -1.3253187810369025,
          2.2972814658001557,
          -2.133433732294222,
          0.33473253866136843,
          -1.7282258786426388,
          0.6583672940227202,
          1.7520875312685589,
          3.2040747047393103,
          2.578873730871733,
          -0.9995122376869208,
          -0.7283538351913462,
          1.1208486074496082,
          1.0190368927708087,
          1.3055727406904272,
          -2.6643800261227186,
          -2.673473147671273,
          -0.4846522066093208,
          -3.100465132555819,
          3.580290240180018,
          1.2802518207895477,
          -1.1937631832843831,
          2.951087479026215,
          3.7559488490316753,
          3.2950824006240285,
          -0.29417954484357356,
          0.2762457495948029,
          1.3988505146982617,
          -6.481694501118128,
          2.659138179080519,
          1.3251825334295382,
          -5.192890206473575,
          2.8307499757520924,
          1.4310993011124329,
          -0.65386597148125,
          1.9781083378779332,
          0.4012859649466369,
          0.5827424680437236,
          2.7244383943022203,
          -0.13302864350012936,
          1.1367641372000745,
          -0.4425375529948697,
          -0.548479846662912,
          3.7864705432454517,
          2.240865234667878,
          1.040301141560535,
          2.5713280148694673,
          0.9619040270788894,
          0.31376111691674713,
          0.5860571057709486,
          -0.038616090550959485,
          0.9643168777129193,
          -1.067665942727889,
          -1.3838534903422581,
          -5.716874323387762,
          -4.10859108666566,
          2.406646911302285,
          -2.1681672252114,
          1.8403079304443855,
          -2.1428826044426588,
          -1.7965262027148365,
          -4.8879894109290385,
          -0.7692847844566194,
          1.1423309706393903,
          -0.3341185619777982,
          3.2034037003888507,
          -0.7320928949708705,
          -2.1936754069934317,
          -2.419747440664508,
          3.559381543747361,
          1.4432611090618763,
          -0.8209449600473395,
          -0.6099525313015367,
          -0.9376403285497514,
          0.1358248134756346,
          0.16642165097608663,
          2.894582777848196,
          3.424962133545331,
          0.9911623903391805,
          3.5963221137378794,
          1.7866145608896724,
          2.4496720099346234,
          4.264858061484998,
          5.155648665889678,
          4.72464811261686,
          -0.4631129045265344,
          -3.807741579505904,
          2.823264076023804,
          -2.3581001635256036,
          -3.7060522026893445,
          1.9933130050748877,
          3.6798246528215786,
          1.7410475649005384,
          0.061567362663761796,
          1.30226168550849,
          1.8061004391618491,
          2.3338551478635137,
          -0.7098277151444328,
          -1.4258201101708452,
          3.1594749793069767,
          6.77155164940316,
          2.640006248986967,
          -0.11167151997656584,
          -0.04609857512890663,
          0.3930184431111271,
          0.3839147445225121,
          1.7250077554411398,
          1.8053416289497017,
          1.4578374741686646,
          3.7850992192055135,
          3.708171361379187,
          2.1752032947369426,
          -4.795714863520516,
          3.236309237501306,
          1.6847761586428411,
          -3.5552687519271515,
          4.905452536545483,
          2.9180269636497815,
          0.43711413192709686,
          1.1209331039965584,
          1.3933728940729122,
          -0.3875382181386759,
          2.2385805812207273,
          -0.2574403178370017,
          0.9633081228837785,
          5.283943191041496,
          1.516367090321776,
          -1.7203584340537006,
          1.9826713447340911,
          -1.1196788579670365,
          1.6167443968013684,
          0.5252917831162286,
          1.7781209458298326,
          -3.4769872906402957,
          -1.7400377738373183,
          -1.253594879584696,
          -3.511306080039347,
          -0.47419625826756906,
          -0.8860423504639974,
          0.08787605823678586,
          -0.01557700541540764,
          1.9815248191265504,
          -0.026649497592872756,
          -1.6663940485853468,
          1.9033426191904774,
          4.120205709189543,
          4.827995382812121,
          4.186839941539537,
          -1.0679012272971153,
          -2.5268097497315467,
          1.6869848196159285,
          4.0443041948393885,
          -4.334993734470791,
          -3.5252912011012407,
          2.7527015161352857,
          0.31709711181426603,
          1.869799752547835,
          4.288245566351443,
          -0.35413374287931243,
          0.14216181168846376,
          -0.04640607839813512,
          -1.1799892588418985,
          2.4932786488337904,
          -2.664913590711441,
          0.6069554912193864,
          2.190277566138096,
          -1.3516302333385726,
          -3.7440327093303964,
          -2.3413675007644095,
          -3.0276451098780406,
          -1.9576679259903234,
          -1.2441596453864732,
          -3.611296901931448,
          -3.3231148878025354,
          -3.6148435020847365,
          -1.6178494858236045,
          -1.2784281627781366,
          -4.940533338635807,
          -2.162430592544202,
          -0.3466231192585994,
          -2.720662321480854,
          -2.978987666706883,
          -1.4168817221565686,
          -3.6406108048906587,
          -3.4681591343249805,
          -3.3512103763195675,
          -2.787723404475454,
          -4.197383358323818,
          -2.27246769472622,
          3.2065259729145357,
          5.051906803923707,
          0.3472077468568652,
          -3.665407469466876,
          3.3205646002449685,
          -0.7757154734171394,
          0.442720345611235,
          2.355106487683339,
          -0.402181583768456,
          0.11039717018118879,
          0.04367941955177966,
          1.9224811630305307,
          -2.403489760122665,
          -2.163089978291095,
          -2.4825375546692174,
          -3.70143219480455,
          3.395404187653546,
          3.718141728030184,
          3.863978053927925,
          -0.5591612892943224,
          -0.2541259258854725,
          0.3611330085934286,
          -0.8958403528096195,
          -2.1230467496715613,
          -3.6748675890714617,
          1.7702129723287536,
          -3.5157347111173496,
          -2.5529894337372006,
          1.1974556331269437,
          -2.0713544639369355,
          -2.655173661586702,
          -0.030366114068261476,
          -0.6658563870668225,
          -1.8222466629228098,
          -1.7961059318872847,
          -2.6377276456050858,
          -4.094764149205236,
          -1.0148329943662306,
          -2.620910018220501,
          -4.4604017469573085,
          -3.934946459804079,
          -3.4150277330670877,
          -1.9807867997125768,
          -2.686588084300422,
          -0.6940855550538295,
          -2.897801008085146,
          -0.9199936127615771,
          -7.009611536144178,
          -1.9599774411475424,
          -1.656633249569307,
          -2.532727359018871,
          1.7398110389713073,
          -1.657444519291624,
          1.4408126760774267,
          3.0791949506138976,
          1.6166588817903154,
          1.6704552803756332,
          0.6534414194511146,
          -3.895192477768034,
          -1.5748838571172092,
          -4.0872252659754515,
          1.6108120845608962,
          -1.4623753510565682,
          -4.012716811569942,
          0.025588475862619187,
          -2.4616860943927072,
          -0.30707092572068795,
          -1.2927104810855792,
          -1.2109231162574374,
          -1.9711791695024885,
          -0.8562726781316472,
          -1.9573680391144388,
          -1.4107932996663923,
          -3.103071956914552,
          -2.370376160798334,
          -3.66076311165941,
          -2.9703545089414383,
          -1.953616091619824,
          -1.4078393480563454,
          1.4572784980229405,
          -0.4222596193543509,
          0.5282973796817533,
          -1.9482463048169862,
          -2.768233790131178,
          -0.5000856788739954,
          6.816324933762997,
          -2.8399105957626567,
          1.6477779874491276,
          -2.581864064650493,
          0.43014743026990726,
          -3.6318614644332348,
          -3.5496811832779485,
          0.6609295069056992,
          1.53401745966073,
          6.559434313767802,
          0.013160253792467484,
          2.85310155146399,
          -0.9913718273575969,
          -0.512996780552985,
          2.440318124193926,
          -0.6902107346989127,
          0.9130440824674874,
          0.5328484232322501,
          -1.7150735772171062,
          -1.005557877448077,
          1.8152905763474882,
          -5.6427227260250055,
          -5.6427227260250055,
          -5.6427227260250055,
          4.573714965041837,
          3.964891327112894,
          -3.7250208307988832,
          5.638504945965474,
          -3.0099356608263657,
          -2.2302465787394534,
          0.6527460390862819,
          5.565563559901764,
          4.076976605796159,
          -0.03427748694738338,
          1.4528069624310176,
          -1.5835485542566903,
          3.117896996604486,
          -3.683729492635476,
          2.228065885911376,
          4.682741887239376,
          -4.044305847047013,
          -0.7218667635366296,
          1.774051046020457,
          5.809598552638289,
          -2.5087877270439916,
          1.2561094014593988,
          6.371895967890878,
          2.1449197013742167,
          -1.6588341376388875,
          -2.675483183819686,
          -2.5321144802213404,
          -1.4267588718376298,
          -1.6948223338393402,
          1.4481739883445646,
          0.4631910830025035,
          -2.390551866841269,
          -0.8516189543280932,
          -0.9731096652997296,
          -1.540313337121236,
          -2.750114194798433
         ],
         "xaxis": "x",
         "y": [
          -0.5580749834037817,
          -0.45650603325534755,
          -0.24188267943020364,
          0.41315729848233984,
          -0.15574238304162635,
          -0.08845419674394657,
          -0.27574109615977543,
          -0.15415223424035626,
          -0.9030620911731381,
          -0.15611968173898333,
          1.0879847195685413,
          9.828003307839367,
          -0.4656033942860937,
          -1.0962725489649456,
          -3.0010115231476906,
          -2.303378821126473,
          -2.0966982111273085,
          0.33667724046621855,
          -0.4748807063693463,
          1.8580317976188019,
          -0.6975776896054691,
          0.43990826346597656,
          0.3202079807702323,
          -0.18638924811022822,
          0.5280952696177624,
          0.25533376795737267,
          0.900629881294009,
          -0.16037968420116835,
          -1.2569382909290732,
          -0.4158200790094539,
          -0.9757475397299358,
          -2.254667984497903,
          -1.236724430197599,
          -0.7188106262046132,
          -0.5196653668841184,
          -1.8175656862113216,
          -1.483812398260058,
          -1.5851358103925346,
          -0.5302919213779034,
          -0.6131277345984498,
          0.34421522965298107,
          6.109792067948364,
          -0.0670902258283245,
          0.11190618217445708,
          -1.1567090949021583,
          -1.7217745769635064,
          -0.8686990028996016,
          -1.0315222486331845,
          0.03389914337975626,
          -1.8565653837790599,
          -0.18942870923337923,
          -0.45771301572724954,
          0.5992529919249695,
          -1.703932797060713,
          0.6889328769716073,
          1.1467852234917817,
          -1.3614285960689856,
          1.39442122914031,
          -1.6329596515868694,
          -2.141998810661278,
          -0.16373020247651382,
          -1.0558619747067666,
          0.022088350062568436,
          2.082187455700568,
          0.16200387469484412,
          0.6446774971946664,
          -0.16620476210120802,
          -1.9196992927449505,
          1.953401986874184,
          -1.1478010349936272,
          -0.8575097657927472,
          0.7408632456167701,
          -0.06428034957162261,
          0.7987857357798183,
          -0.6582758162255813,
          -1.883049013721054,
          0.7655350176957185,
          -0.3054758069895494,
          0.03789258919291059,
          0.1397140135455651,
          -1.1155836604490572,
          1.2860355690165195,
          -0.6890888204606633,
          -1.2668124422776248,
          0.028932193857363054,
          -1.5036742243723569,
          0.2518164843467211,
          0.12922708995533175,
          -1.2792216715218592,
          0.41149889298904746,
          0.558620586057734,
          -0.254133042514325,
          -0.46725388527604467,
          -1.0891851138117352,
          -1.5855355606067816,
          -2.41584537519457,
          -2.720466872260341,
          -0.8044214043906727,
          0.2576829460325958,
          -1.1757090101196337,
          -1.4881936128235125,
          -1.9499528353547937,
          -2.0359239543651655,
          -1.6727941203467043,
          -1.5389031256911825,
          -1.9259528580151732,
          -0.8462662079010154,
          -1.1572861139092865,
          -1.8391987196015716,
          0.7298470542104544,
          0.6770267523037096,
          -1.1396709418840296,
          -0.2867722528229466,
          0.5499347830285991,
          -0.6174251426251102,
          -0.8881809763344322,
          -0.26666066670420935,
          1.6481703613555014,
          -1.708860276458249,
          -0.28255454939536373,
          -1.8380382451953379,
          -0.13971693685269052,
          -0.03994811352629023,
          0.5812973990295832,
          -1.375904077889893,
          -1.0295948947910811,
          -2.4323287681224754,
          -1.4769980834424619,
          -0.29886067708867836,
          -2.180762926288145,
          1.2142677837112645,
          -0.24601150937800798,
          0.34450526563916234,
          -0.4815892966592162,
          0.740190652727001,
          -1.416858076858863,
          -0.9931503227888562,
          -1.0113865321845954,
          9.065110698619591,
          6.6211687630680105,
          2.3431506005854987,
          1.0724153215022867,
          -1.0492787594992359,
          0.7052787840603666,
          -1.2384824962482641,
          -1.2755518477997252,
          0.41191308971902935,
          -0.5669257720073241,
          -0.7510964136902686,
          0.12538651482709903,
          -0.525849964020108,
          -0.86796016982313,
          -0.8497289904116017,
          -1.5028043669815423,
          -1.166889508308285,
          -1.239428612588103,
          -1.8623228817447421,
          0.3877133770113778,
          -0.9009578324458447,
          1.4530648229876513,
          -1.069523275187682,
          -1.6528061153778009,
          -1.2083681676979898,
          -0.9454573585342063,
          -1.4476624038693242,
          -1.0733683861777112,
          -0.015741424057294492,
          0.6468243951363799,
          -1.1282082521707029,
          -0.29045960115873803,
          5.689426716414258,
          4.522908945590791,
          23.869527728336347,
          0.8920941933270277,
          -1.1507385359505693,
          -1.3253473040247805,
          -1.9935909276316455,
          -2.1190190942575238,
          -1.4984840875350391,
          -0.32287888457359737,
          -0.6388929416532557,
          0.3423782944875595,
          0.5944611134379536,
          0.0958293680215937,
          -0.9963755534229843,
          -0.48649511960214076,
          1.2808203906886566,
          6.3953789008315365,
          -1.0026917945453582,
          -1.388380107382436,
          -0.9171228555495932,
          0.1928877655440682,
          -0.9322192214753806,
          0.20824450307982229,
          4.706175638364559,
          2.872368179024878,
          1.7585181665411207,
          -2.338452339795444,
          -0.9326616371778239,
          -1.4521338745015333,
          -2.373855962206805,
          -1.9728117463017407,
          5.292523483422563,
          -1.347586464813831,
          0.4968523110757284,
          0.6873118668983752,
          -1.4326459393344355,
          -0.010066399135797089,
          -0.02100378355167712,
          -0.2427586580793631,
          1.739200246492827,
          2.3382426219811383,
          1.1038289612865282,
          2.5394097112563077,
          1.6229707138571317,
          3.9593183552286404,
          -0.7900556111741363,
          0.04826263926858959,
          -0.4385449970960095,
          -0.91300000709556,
          -1.0709676910401118,
          -1.5821072932129299,
          -0.7778775662846552,
          0.06545006495611101,
          0.7221459266547657,
          -0.7092086912755191,
          0.12315248227078819,
          0.05864622934461072,
          0.5114611716479572,
          0.11813247621866187,
          -1.0671210363459256,
          2.0298309141237185,
          1.7690858050972254,
          2.351764565026271,
          -0.08619481931299013,
          0.2990405357703676,
          -0.3594191952935112,
          -0.4829613633073115,
          1.3096942890582222,
          -0.35037026209725525,
          -0.45435533903216624,
          -0.7443249920062163,
          -0.5106770338373755,
          -0.6353594390265206,
          -0.5166488252242986,
          1.989497022569422,
          0.871657150111347,
          -0.04218975600672136,
          0.5923569549394366,
          -0.3460309878512883,
          0.212600796611312,
          1.2020567421790396,
          1.4826792572174659,
          1.3584164439689235,
          0.18848324788409096,
          0.8867657584393255,
          -0.16749583694097583,
          -0.4784223613052646,
          -1.5116112630858614,
          -0.7707028070808939,
          -1.2878440607443977,
          1.1621290050748312,
          -0.23286359755118868,
          0.39168520361983117,
          -1.1397852073868577,
          2.4336344648245074,
          1.0403207171287292,
          -0.1009996041824567,
          -0.4582639791553195,
          -0.5607832470808942,
          -0.8945171182216826,
          0.4980438071211884,
          -0.3491048477146503,
          0.009053322260922784,
          0.48003788355747495,
          0.25876995380781387,
          0.3916378863300243,
          2.269694440534196,
          1.0084990411945225,
          1.2011719726935595,
          -0.3537962294646461,
          0.8567018441321657,
          2.192973353079425,
          1.5480996326641239,
          1.1260693442042295,
          1.9938528478363329,
          -1.1872403165282706,
          4.426272242939769,
          -0.4710856978489629,
          -0.9258195420203871,
          0.07325732204803465,
          -0.7600493849279036,
          -0.8648359889977005,
          2.51911641623184,
          -0.495116297188033,
          -1.2469070212641113,
          0.10379376259790439,
          0.3959396510164139,
          0.7065233986556038,
          -1.020739358663598,
          -1.8138917382202944,
          -0.5605727559508423,
          1.5420376750880374,
          2.1493807714036324,
          -1.6110234097936462,
          1.420455411117738,
          1.9939327109805594,
          -0.09575203226188972,
          0.3011207756476896,
          0.9661790631088754,
          -0.4364466531703813,
          -0.38382706479008444,
          -0.12638618907201535,
          6.082255723384448,
          3.14988960084697,
          0.37461013558868267,
          0.5812821262944822,
          0.27536077099886586,
          -2.3245297341629674,
          -2.2140137512417644,
          10.27705672670729,
          -0.3452945363804386,
          1.4901476245316383,
          -1.1390660967299537,
          0.5954944947327675,
          0.5101781069238943,
          -0.634836281407142,
          -0.22667618023139116,
          1.7245923703771067,
          -0.125080527932614,
          -0.8883097531452494,
          -2.1770084755763066,
          0.126743324923286,
          -0.36729992009500223,
          -1.0268503517581633,
          1.3704679712846752,
          1.4184146335778531,
          0.051726694157405086,
          -0.18913890781771162,
          0.03085434857559927,
          -0.26255817753965666,
          -0.11417061755672465,
          1.0916163205302292,
          0.05371374932626275,
          -2.397609800517902,
          -1.5512166986681843,
          -0.5310528054656752,
          -1.3207904389349765,
          -1.1427602094650697,
          -0.85012448666215,
          -1.2834361302547406,
          -0.7575535689920113,
          -0.0746358576534422,
          -0.317459555576203,
          -0.6908029422183933,
          0.33830318139158005,
          8.8028785875537,
          -0.8843386096205802,
          1.6737362688659136,
          2.0076890209227485,
          0.7158275626547759,
          0.42019475642248927,
          -1.290690259520363,
          1.327325551600099,
          -0.9686161161721628,
          -0.8495096724433199,
          1.0876659796423933,
          -0.29657204305748924,
          0.6827188942645562,
          1.5700878603863317,
          0.23550290221742765,
          4.04733590137358,
          2.774474320452128,
          1.1077965569521484,
          0.3097856639546859,
          3.363641737722078,
          1.851802670137041,
          -1.7298270994768703,
          -1.7171843200733499,
          -1.5429619858925823,
          -1.7624781622825882,
          0.062373092966672684,
          0.6322063610787413,
          0.08850212156858257,
          1.5832305448380353,
          0.7868193692321508,
          -0.19946839257151977,
          1.8559577527610682,
          -0.8145706061759659,
          -0.8633837100360342,
          -0.6772905066809296,
          2.156894119697552,
          -0.4416634672986585,
          -1.0758761100186407,
          -0.5197540434866424,
          -0.46971294431312344,
          -1.2255046678804749,
          -0.513461856709141,
          -0.7727072553951878,
          -1.13762752616956,
          -0.4882922123516808,
          -0.7340244026564614,
          -1.1055755875590516,
          -1.1174955471910488,
          -0.8145811513319621,
          0.39360395971042306,
          0.40083635998474365,
          -1.3606718229067203,
          -0.7479024480381032,
          0.3206397756359293,
          1.0773680089700362,
          -0.23425158182725553,
          -1.0262847225935519,
          -0.05564140062608082,
          -0.1667506078117355,
          -1.1700747065153618,
          -0.07478867413686713,
          0.4031866398746282,
          -1.2881143295886808,
          -1.1010771729857458,
          -0.9036151603114817,
          -0.8358184199380738,
          -1.0337669909622194,
          -0.8410661818006906,
          -1.4474031399484109,
          -0.3616026362159067,
          -1.434095417092772,
          -0.21919202461490941,
          -1.9835080557849545,
          -1.489101622900288,
          -1.493799523006171,
          -1.3320510648327248,
          -1.703129319064369,
          -0.615428863013869,
          -1.8258771548557444,
          -1.8721390020446553,
          4.470195939357237,
          -2.074565171755635,
          -2.549837769890973,
          -2.384132049659177,
          3.686941110185664,
          -2.2317831443064726,
          -1.4329317427106905,
          -1.3034888086832332,
          -1.9413888225594311,
          -2.2297412580859888,
          -0.09791595506396233,
          -0.7085947526738173,
          0.1326110111419491,
          0.15578234816730108,
          -1.2611799777710244,
          -0.4932393464540632,
          -0.8897175746879461,
          0.08071017632842611,
          -0.6071102088597555,
          -0.7660519074465985,
          -1.0663520016524257,
          -1.1196095345191166,
          -0.7099286101587386,
          10.711337821582585,
          3.2367852271793116,
          0.7987925397507436,
          -2.0049340305867243,
          -1.1433632509040703,
          1.2661604354519906,
          -0.35245917320822456,
          0.21648373438176913,
          -0.8624735507966726,
          -1.6997989148018098,
          1.9581575337834916,
          1.502320555322137,
          -0.40437589729820667,
          1.186112398800809,
          0.9059177061692475,
          -1.4332297334379152,
          -1.7896065237921441,
          1.1879949257037072,
          0.5686827933369358,
          -0.2752902399096854,
          3.59270515406537,
          5.104066036026833,
          0.5720710364934124,
          -1.323558049899905,
          -0.4661313671827784,
          -0.5988932442372414,
          -0.6050963556544708,
          -0.6308806645167381,
          1.891385899964285,
          2.298458756059004,
          0.1986235927741578,
          4.272062647137864,
          2.47801387474929,
          0.9020301232968957,
          -0.3313856054056118,
          0.7219802722446367,
          9.021826272528862,
          0.1630971438451708,
          0.3872238024967155,
          -1.0590715844747978,
          0.28179861209504947,
          0.049845943837765534,
          1.5899019997045465,
          1.216301268263605,
          0.8175491315065218,
          1.7790678606693797,
          0.2121722546631364,
          0.5107135855855,
          0.11546910344847709,
          -0.31725138091740257,
          1.185355051635049,
          2.0496372254693225,
          -0.4440070569468355,
          0.5131450586484492,
          -0.8282908573420522,
          -0.02487530666127641,
          -0.7977868039141812,
          0.9203755482426815,
          0.45297199799324495,
          -1.5525921266504432,
          -2.201345064516417,
          -2.647731677569335,
          -1.468907142626085,
          -0.7597409694589479,
          -0.8974851152238442,
          0.8408667256036253,
          -0.12416010910915493,
          0.5948352667294947,
          -0.6784820491830537,
          -2.1377757283145247,
          -0.2443105268116891,
          -1.3501107046708705,
          0.31434551990700377,
          -2.7752111885933894,
          -0.46533959066439184,
          -0.9630004033804211,
          -2.6222686201232714,
          -0.4660949339181993,
          -1.6909884385603204,
          -0.937223455498442,
          -1.499052805860744,
          -2.286976451400283,
          -1.7214428420255703,
          0.11093114092809454,
          0.23032688489372974,
          0.7978400578314219,
          -1.729246623979296,
          -0.3944915291388249,
          -1.9363676008631534,
          -2.371735860793083,
          -1.2933585373725152,
          -0.6248278051041141,
          -1.35747546669397,
          -1.514678926986781,
          0.2453217174242972,
          -1.457469217237141,
          -1.457469217237141,
          -1.457469217237141,
          0.12879569352688436,
          -0.3776458374387451,
          -0.5081861041960883,
          2.1253369238264055,
          -1.5053931007078134,
          -0.45465488987338426,
          0.7330825059021739,
          1.4343096946142524,
          0.24009925485957215,
          -0.7543099531567695,
          -1.0684691211747237,
          -1.728184547478988,
          0.6199247285276981,
          -0.6156849381690529,
          -0.21012018006234215,
          0.35755718694004435,
          -0.829018662116296,
          -1.8429547043824417,
          0.018820385466581636,
          1.535237630911575,
          0.11207075144801376,
          -0.7921105287158842,
          -0.09908874339647918,
          0.2642934525780556,
          -1.1889630872633874,
          -0.17479883414804756,
          -0.13120805684905784,
          -1.233265618221613,
          -1.8280504697139655,
          1.3367146980728477,
          0.7206363096392342,
          -0.16475471606064387,
          2.643008152375395,
          6.5088327893624625,
          -2.2429407625652207,
          -1.7459576242327486
         ],
         "yaxis": "y"
        }
       ],
       "layout": {
        "coloraxis": {
         "colorbar": {
          "title": {
           "text": "labels"
          }
         },
         "colorscale": [
          [
           0,
           "#0d0887"
          ],
          [
           0.1111111111111111,
           "#46039f"
          ],
          [
           0.2222222222222222,
           "#7201a8"
          ],
          [
           0.3333333333333333,
           "#9c179e"
          ],
          [
           0.4444444444444444,
           "#bd3786"
          ],
          [
           0.5555555555555556,
           "#d8576b"
          ],
          [
           0.6666666666666666,
           "#ed7953"
          ],
          [
           0.7777777777777778,
           "#fb9f3a"
          ],
          [
           0.8888888888888888,
           "#fdca26"
          ],
          [
           1,
           "#f0f921"
          ]
         ]
        },
        "legend": {
         "tracegroupgap": 0
        },
        "margin": {
         "t": 60
        },
        "template": {
         "data": {
          "bar": [
           {
            "error_x": {
             "color": "#2a3f5f"
            },
            "error_y": {
             "color": "#2a3f5f"
            },
            "marker": {
             "line": {
              "color": "#E5ECF6",
              "width": 0.5
             },
             "pattern": {
              "fillmode": "overlay",
              "size": 10,
              "solidity": 0.2
             }
            },
            "type": "bar"
           }
          ],
          "barpolar": [
           {
            "marker": {
             "line": {
              "color": "#E5ECF6",
              "width": 0.5
             },
             "pattern": {
              "fillmode": "overlay",
              "size": 10,
              "solidity": 0.2
             }
            },
            "type": "barpolar"
           }
          ],
          "carpet": [
           {
            "aaxis": {
             "endlinecolor": "#2a3f5f",
             "gridcolor": "white",
             "linecolor": "white",
             "minorgridcolor": "white",
             "startlinecolor": "#2a3f5f"
            },
            "baxis": {
             "endlinecolor": "#2a3f5f",
             "gridcolor": "white",
             "linecolor": "white",
             "minorgridcolor": "white",
             "startlinecolor": "#2a3f5f"
            },
            "type": "carpet"
           }
          ],
          "choropleth": [
           {
            "colorbar": {
             "outlinewidth": 0,
             "ticks": ""
            },
            "type": "choropleth"
           }
          ],
          "contour": [
           {
            "colorbar": {
             "outlinewidth": 0,
             "ticks": ""
            },
            "colorscale": [
             [
              0,
              "#0d0887"
             ],
             [
              0.1111111111111111,
              "#46039f"
             ],
             [
              0.2222222222222222,
              "#7201a8"
             ],
             [
              0.3333333333333333,
              "#9c179e"
             ],
             [
              0.4444444444444444,
              "#bd3786"
             ],
             [
              0.5555555555555556,
              "#d8576b"
             ],
             [
              0.6666666666666666,
              "#ed7953"
             ],
             [
              0.7777777777777778,
              "#fb9f3a"
             ],
             [
              0.8888888888888888,
              "#fdca26"
             ],
             [
              1,
              "#f0f921"
             ]
            ],
            "type": "contour"
           }
          ],
          "contourcarpet": [
           {
            "colorbar": {
             "outlinewidth": 0,
             "ticks": ""
            },
            "type": "contourcarpet"
           }
          ],
          "heatmap": [
           {
            "colorbar": {
             "outlinewidth": 0,
             "ticks": ""
            },
            "colorscale": [
             [
              0,
              "#0d0887"
             ],
             [
              0.1111111111111111,
              "#46039f"
             ],
             [
              0.2222222222222222,
              "#7201a8"
             ],
             [
              0.3333333333333333,
              "#9c179e"
             ],
             [
              0.4444444444444444,
              "#bd3786"
             ],
             [
              0.5555555555555556,
              "#d8576b"
             ],
             [
              0.6666666666666666,
              "#ed7953"
             ],
             [
              0.7777777777777778,
              "#fb9f3a"
             ],
             [
              0.8888888888888888,
              "#fdca26"
             ],
             [
              1,
              "#f0f921"
             ]
            ],
            "type": "heatmap"
           }
          ],
          "heatmapgl": [
           {
            "colorbar": {
             "outlinewidth": 0,
             "ticks": ""
            },
            "colorscale": [
             [
              0,
              "#0d0887"
             ],
             [
              0.1111111111111111,
              "#46039f"
             ],
             [
              0.2222222222222222,
              "#7201a8"
             ],
             [
              0.3333333333333333,
              "#9c179e"
             ],
             [
              0.4444444444444444,
              "#bd3786"
             ],
             [
              0.5555555555555556,
              "#d8576b"
             ],
             [
              0.6666666666666666,
              "#ed7953"
             ],
             [
              0.7777777777777778,
              "#fb9f3a"
             ],
             [
              0.8888888888888888,
              "#fdca26"
             ],
             [
              1,
              "#f0f921"
             ]
            ],
            "type": "heatmapgl"
           }
          ],
          "histogram": [
           {
            "marker": {
             "pattern": {
              "fillmode": "overlay",
              "size": 10,
              "solidity": 0.2
             }
            },
            "type": "histogram"
           }
          ],
          "histogram2d": [
           {
            "colorbar": {
             "outlinewidth": 0,
             "ticks": ""
            },
            "colorscale": [
             [
              0,
              "#0d0887"
             ],
             [
              0.1111111111111111,
              "#46039f"
             ],
             [
              0.2222222222222222,
              "#7201a8"
             ],
             [
              0.3333333333333333,
              "#9c179e"
             ],
             [
              0.4444444444444444,
              "#bd3786"
             ],
             [
              0.5555555555555556,
              "#d8576b"
             ],
             [
              0.6666666666666666,
              "#ed7953"
             ],
             [
              0.7777777777777778,
              "#fb9f3a"
             ],
             [
              0.8888888888888888,
              "#fdca26"
             ],
             [
              1,
              "#f0f921"
             ]
            ],
            "type": "histogram2d"
           }
          ],
          "histogram2dcontour": [
           {
            "colorbar": {
             "outlinewidth": 0,
             "ticks": ""
            },
            "colorscale": [
             [
              0,
              "#0d0887"
             ],
             [
              0.1111111111111111,
              "#46039f"
             ],
             [
              0.2222222222222222,
              "#7201a8"
             ],
             [
              0.3333333333333333,
              "#9c179e"
             ],
             [
              0.4444444444444444,
              "#bd3786"
             ],
             [
              0.5555555555555556,
              "#d8576b"
             ],
             [
              0.6666666666666666,
              "#ed7953"
             ],
             [
              0.7777777777777778,
              "#fb9f3a"
             ],
             [
              0.8888888888888888,
              "#fdca26"
             ],
             [
              1,
              "#f0f921"
             ]
            ],
            "type": "histogram2dcontour"
           }
          ],
          "mesh3d": [
           {
            "colorbar": {
             "outlinewidth": 0,
             "ticks": ""
            },
            "type": "mesh3d"
           }
          ],
          "parcoords": [
           {
            "line": {
             "colorbar": {
              "outlinewidth": 0,
              "ticks": ""
             }
            },
            "type": "parcoords"
           }
          ],
          "pie": [
           {
            "automargin": true,
            "type": "pie"
           }
          ],
          "scatter": [
           {
            "fillpattern": {
             "fillmode": "overlay",
             "size": 10,
             "solidity": 0.2
            },
            "type": "scatter"
           }
          ],
          "scatter3d": [
           {
            "line": {
             "colorbar": {
              "outlinewidth": 0,
              "ticks": ""
             }
            },
            "marker": {
             "colorbar": {
              "outlinewidth": 0,
              "ticks": ""
             }
            },
            "type": "scatter3d"
           }
          ],
          "scattercarpet": [
           {
            "marker": {
             "colorbar": {
              "outlinewidth": 0,
              "ticks": ""
             }
            },
            "type": "scattercarpet"
           }
          ],
          "scattergeo": [
           {
            "marker": {
             "colorbar": {
              "outlinewidth": 0,
              "ticks": ""
             }
            },
            "type": "scattergeo"
           }
          ],
          "scattergl": [
           {
            "marker": {
             "colorbar": {
              "outlinewidth": 0,
              "ticks": ""
             }
            },
            "type": "scattergl"
           }
          ],
          "scattermapbox": [
           {
            "marker": {
             "colorbar": {
              "outlinewidth": 0,
              "ticks": ""
             }
            },
            "type": "scattermapbox"
           }
          ],
          "scatterpolar": [
           {
            "marker": {
             "colorbar": {
              "outlinewidth": 0,
              "ticks": ""
             }
            },
            "type": "scatterpolar"
           }
          ],
          "scatterpolargl": [
           {
            "marker": {
             "colorbar": {
              "outlinewidth": 0,
              "ticks": ""
             }
            },
            "type": "scatterpolargl"
           }
          ],
          "scatterternary": [
           {
            "marker": {
             "colorbar": {
              "outlinewidth": 0,
              "ticks": ""
             }
            },
            "type": "scatterternary"
           }
          ],
          "surface": [
           {
            "colorbar": {
             "outlinewidth": 0,
             "ticks": ""
            },
            "colorscale": [
             [
              0,
              "#0d0887"
             ],
             [
              0.1111111111111111,
              "#46039f"
             ],
             [
              0.2222222222222222,
              "#7201a8"
             ],
             [
              0.3333333333333333,
              "#9c179e"
             ],
             [
              0.4444444444444444,
              "#bd3786"
             ],
             [
              0.5555555555555556,
              "#d8576b"
             ],
             [
              0.6666666666666666,
              "#ed7953"
             ],
             [
              0.7777777777777778,
              "#fb9f3a"
             ],
             [
              0.8888888888888888,
              "#fdca26"
             ],
             [
              1,
              "#f0f921"
             ]
            ],
            "type": "surface"
           }
          ],
          "table": [
           {
            "cells": {
             "fill": {
              "color": "#EBF0F8"
             },
             "line": {
              "color": "white"
             }
            },
            "header": {
             "fill": {
              "color": "#C8D4E3"
             },
             "line": {
              "color": "white"
             }
            },
            "type": "table"
           }
          ]
         },
         "layout": {
          "annotationdefaults": {
           "arrowcolor": "#2a3f5f",
           "arrowhead": 0,
           "arrowwidth": 1
          },
          "autotypenumbers": "strict",
          "coloraxis": {
           "colorbar": {
            "outlinewidth": 0,
            "ticks": ""
           }
          },
          "colorscale": {
           "diverging": [
            [
             0,
             "#8e0152"
            ],
            [
             0.1,
             "#c51b7d"
            ],
            [
             0.2,
             "#de77ae"
            ],
            [
             0.3,
             "#f1b6da"
            ],
            [
             0.4,
             "#fde0ef"
            ],
            [
             0.5,
             "#f7f7f7"
            ],
            [
             0.6,
             "#e6f5d0"
            ],
            [
             0.7,
             "#b8e186"
            ],
            [
             0.8,
             "#7fbc41"
            ],
            [
             0.9,
             "#4d9221"
            ],
            [
             1,
             "#276419"
            ]
           ],
           "sequential": [
            [
             0,
             "#0d0887"
            ],
            [
             0.1111111111111111,
             "#46039f"
            ],
            [
             0.2222222222222222,
             "#7201a8"
            ],
            [
             0.3333333333333333,
             "#9c179e"
            ],
            [
             0.4444444444444444,
             "#bd3786"
            ],
            [
             0.5555555555555556,
             "#d8576b"
            ],
            [
             0.6666666666666666,
             "#ed7953"
            ],
            [
             0.7777777777777778,
             "#fb9f3a"
            ],
            [
             0.8888888888888888,
             "#fdca26"
            ],
            [
             1,
             "#f0f921"
            ]
           ],
           "sequentialminus": [
            [
             0,
             "#0d0887"
            ],
            [
             0.1111111111111111,
             "#46039f"
            ],
            [
             0.2222222222222222,
             "#7201a8"
            ],
            [
             0.3333333333333333,
             "#9c179e"
            ],
            [
             0.4444444444444444,
             "#bd3786"
            ],
            [
             0.5555555555555556,
             "#d8576b"
            ],
            [
             0.6666666666666666,
             "#ed7953"
            ],
            [
             0.7777777777777778,
             "#fb9f3a"
            ],
            [
             0.8888888888888888,
             "#fdca26"
            ],
            [
             1,
             "#f0f921"
            ]
           ]
          },
          "colorway": [
           "#636efa",
           "#EF553B",
           "#00cc96",
           "#ab63fa",
           "#FFA15A",
           "#19d3f3",
           "#FF6692",
           "#B6E880",
           "#FF97FF",
           "#FECB52"
          ],
          "font": {
           "color": "#2a3f5f"
          },
          "geo": {
           "bgcolor": "white",
           "lakecolor": "white",
           "landcolor": "#E5ECF6",
           "showlakes": true,
           "showland": true,
           "subunitcolor": "white"
          },
          "hoverlabel": {
           "align": "left"
          },
          "hovermode": "closest",
          "mapbox": {
           "style": "light"
          },
          "paper_bgcolor": "white",
          "plot_bgcolor": "#E5ECF6",
          "polar": {
           "angularaxis": {
            "gridcolor": "white",
            "linecolor": "white",
            "ticks": ""
           },
           "bgcolor": "#E5ECF6",
           "radialaxis": {
            "gridcolor": "white",
            "linecolor": "white",
            "ticks": ""
           }
          },
          "scene": {
           "xaxis": {
            "backgroundcolor": "#E5ECF6",
            "gridcolor": "white",
            "gridwidth": 2,
            "linecolor": "white",
            "showbackground": true,
            "ticks": "",
            "zerolinecolor": "white"
           },
           "yaxis": {
            "backgroundcolor": "#E5ECF6",
            "gridcolor": "white",
            "gridwidth": 2,
            "linecolor": "white",
            "showbackground": true,
            "ticks": "",
            "zerolinecolor": "white"
           },
           "zaxis": {
            "backgroundcolor": "#E5ECF6",
            "gridcolor": "white",
            "gridwidth": 2,
            "linecolor": "white",
            "showbackground": true,
            "ticks": "",
            "zerolinecolor": "white"
           }
          },
          "shapedefaults": {
           "line": {
            "color": "#2a3f5f"
           }
          },
          "ternary": {
           "aaxis": {
            "gridcolor": "white",
            "linecolor": "white",
            "ticks": ""
           },
           "baxis": {
            "gridcolor": "white",
            "linecolor": "white",
            "ticks": ""
           },
           "bgcolor": "#E5ECF6",
           "caxis": {
            "gridcolor": "white",
            "linecolor": "white",
            "ticks": ""
           }
          },
          "title": {
           "x": 0.05
          },
          "xaxis": {
           "automargin": true,
           "gridcolor": "white",
           "linecolor": "white",
           "ticks": "",
           "title": {
            "standoff": 15
           },
           "zerolinecolor": "white",
           "zerolinewidth": 2
          },
          "yaxis": {
           "automargin": true,
           "gridcolor": "white",
           "linecolor": "white",
           "ticks": "",
           "title": {
            "standoff": 15
           },
           "zerolinecolor": "white",
           "zerolinewidth": 2
          }
         }
        },
        "xaxis": {
         "anchor": "y",
         "domain": [
          0,
          1
         ],
         "title": {
          "text": "ColA"
         }
        },
        "yaxis": {
         "anchor": "x",
         "domain": [
          0,
          1
         ],
         "title": {
          "text": "ColB"
         }
        }
       }
      },
      "text/html": [
       "<div>                            <div id=\"35d47097-38ae-4c2d-afb8-ac909992963f\" class=\"plotly-graph-div\" style=\"height:525px; width:100%;\"></div>            <script type=\"text/javascript\">                require([\"plotly\"], function(Plotly) {                    window.PLOTLYENV=window.PLOTLYENV || {};                                    if (document.getElementById(\"35d47097-38ae-4c2d-afb8-ac909992963f\")) {                    Plotly.newPlot(                        \"35d47097-38ae-4c2d-afb8-ac909992963f\",                        [{\"hovertemplate\":\"BTS_ID: %{customdata[0]}\\u003cbr\\u003eColA: %{x} \\u003cbr\\u003eColB: %{y} \\u003cbr\\u003elabels: %{customdata[1]}\\u003cextra\\u003e\\u003c\\u002fextra\\u003e\",\"legendgroup\":\"\",\"marker\":{\"color\":[0,0,0,0,0,0,0,0,0,0,0,-1,0,0,-1,0,0,0,0,0,0,0,0,0,0,0,0,0,0,0,0,0,0,0,0,0,0,0,0,0,0,0,0,0,0,0,0,0,0,0,0,0,0,0,0,0,0,0,0,0,0,0,0,0,0,0,0,0,0,0,0,0,0,0,0,0,0,0,0,0,0,0,0,0,0,0,0,0,0,0,0,-1,0,0,0,0,0,0,0,0,0,0,0,0,0,0,0,0,0,0,0,0,0,0,0,0,0,0,0,0,0,0,0,0,0,0,0,0,0,0,0,0,0,0,0,0,0,0,0,-1,0,0,0,0,0,0,0,0,0,0,0,0,0,0,0,0,0,0,0,0,0,0,0,0,0,0,0,0,0,0,-1,0,-1,0,0,0,0,0,0,0,0,0,0,0,0,0,0,0,0,0,0,0,0,0,0,0,0,0,0,0,0,0,-1,0,0,0,0,0,0,0,0,0,0,0,0,0,0,0,0,0,0,0,0,0,0,0,0,0,0,0,0,0,0,0,0,0,0,0,0,0,0,0,0,0,0,0,0,0,0,0,0,0,0,0,0,0,0,0,0,0,0,0,0,0,0,0,0,0,0,0,0,0,0,0,0,0,0,0,0,0,0,0,0,0,0,0,0,-1,0,0,0,0,0,0,0,0,0,0,0,0,0,0,0,0,0,0,0,0,0,0,0,0,0,-1,0,0,0,0,0,0,-1,0,0,0,0,0,0,0,0,0,0,0,0,0,0,0,0,0,0,0,0,0,0,0,0,0,0,0,0,0,0,0,0,0,0,0,-1,0,0,0,0,0,0,0,0,0,0,0,0,0,0,0,0,0,0,-1,0,0,0,0,0,0,0,0,0,0,0,0,0,0,0,0,0,0,0,0,0,0,0,0,0,0,0,0,0,0,0,0,0,0,0,0,0,0,0,0,0,0,0,0,0,0,0,0,0,0,0,0,0,0,0,0,0,0,0,0,0,0,0,0,0,0,0,0,0,0,0,0,0,0,0,0,0,0,0,0,0,0,0,-1,0,0,0,0,0,0,0,0,0,0,0,0,0,0,0,0,0,0,0,0,0,0,0,0,0,0,0,0,0,0,-1,0,0,0,0,0,0,0,0,0,0,0,0,0,0,0,0,0,0,0,0,0,0,0,0,0,0,0,0,0,0,0,0,0,0,0,0,0,0,0,0,0,0,0,0,0,0,0,0,0,0,0,0,0,0,0,0,0,0,0,0,0,0,0,0,0,0,0,0,0,0,0,0,0,0,0,0,0,0,0,0,0,0,0,0,0,0,0,0,0,0,0,0,0,0,0,0,0,0,0,-1,0,0],\"coloraxis\":\"coloraxis\",\"symbol\":\"circle\"},\"mode\":\"markers\",\"name\":\"\",\"orientation\":\"v\",\"showlegend\":false,\"x\":[0.665554020935984,0.13542909304121675,1.6463451805465217,-2.1819871558739625,-1.122742646425574,0.9837616738867867,-0.6284783275992303,-1.1705005075680057,-1.8582479528638902,-2.6231349171544602,-0.14323484174242587,-3.4515280174504888,-0.19487334635345244,-2.1934467695485034,2.814218860150989,-2.848429591802005,2.146826754397127,-0.28571698261842204,0.15614412498790536,0.17845686134014013,2.0156099580996547,3.7543839223569813,2.698443986691479,-1.1427043015844334,-0.007919791872684535,2.401376472397889,4.420979160388129,-1.8765655031488413,-1.8223365298606042,-2.4970775621932817,-4.665100720511665,-2.1954328210308924,-4.169093526342709,-1.6534881742903085,-3.183216630045643,-1.8561189513096856,1.157006268930434,1.630158794917141,0.10974742904816694,-0.4730219355428368,5.186122432113827,-2.264220164047956,-2.8728343819512916,2.069814439146388,2.4664045540672883,0.3420037156134793,3.480226285998438,2.7858890284720887,-0.9270451689490314,-2.637667662552491,-1.3824606516083633,-1.4756109536380622,1.2031286895909197,-0.5610241666647066,1.6521362358445775,5.070770368121154,-0.36628665783089426,2.1353235365529986,-1.4699439928167752,-1.881206993163437,1.4582013094795305,-0.1437381916952082,5.010092495909209,-1.0013345230754547,-2.0599864674658597,-0.5347911956473973,0.5018243104402592,0.9868970330298552,-4.218110678389753,2.53212708317205,-3.413447094309013,1.0914001308940209,-0.7361996036344003,0.5213110626363425,1.038849408497754,1.1697747904758369,6.010372795185004,3.4487006929536124,4.167618563691862,2.4635113633500816,1.4089194282245354,2.2215787413321846,2.9588535755172507,-0.6775107654681196,-0.6942820752267104,-1.162987752709849,-0.2898571706061711,1.8847705930715644,-2.7498749402983393,1.4360055445661404,2.5564121027347726,9.791050387594318,6.311559971481352,-0.22021731442176573,-1.7455232925988613,-0.3423608375686767,-1.4613362864074606,3.831937017345402,5.869251148420332,0.40675539165140584,-3.7904525709433976,-2.7408844102715864,-3.0653761889240934,-3.2354258420744877,-2.9399477801322624,-3.2769487327136533,2.419343836667621,1.4537163096178383,-1.2169753788366138,5.88563713466349,5.464779236694949,-0.58688401558279,5.100302142761357,2.7110532718044085,3.822022683319338,0.8206928492336864,3.1596745727376803,-0.8156940938735228,-0.3896273431740644,3.935541635776939,0.030594679237228285,2.8495798162871884,5.42273455852841,6.310913706121065,-1.0529738008613019,-1.6265193548646197,-2.0135101062516316,-1.3551843957355951,-1.6571939198198007,-2.662635404346182,1.287394512700882,4.98185865365211,2.189596292559795,-1.2423093047093254,3.1524287858309714,-1.8491851903035053,0.5844025767463641,0.943768704229977,-7.240262723771627,-6.690594141600091,-0.7015588491893631,-1.4484242401574268,-3.645739609899184,-3.7194535732619136,-3.048730551125929,-1.8315575395713721,-2.6288315387080856,-0.5568582094851772,-2.819267796196722,-1.0244907089230568,-1.5431619234615275,-3.688022032795067,-0.05900701883423263,-3.5714110743181133,-2.803163727109548,-0.6260309456073705,-1.931223624473283,3.734345969854259,-0.7235429361143039,6.429330418323481,-1.1455926473200726,-1.6398794068031797,-2.2111588756593985,-1.6422064961651428,-0.8159775940211537,-2.675740590535689,-0.7561562890552959,-2.4490530692483086,-1.3188533888627345,-1.3453405588854492,-3.7500513732958813,-3.1247457665341125,-3.5468300279418226,1.0417410280319284,-0.6380392797619939,-3.294543407649188,-0.9168104988629133,-0.4114462823535555,2.755343773910423,5.166203378669914,4.462240013400919,-0.23859865521670762,-1.7530987645526224,2.145220147104739,0.012073033522459116,-0.8400034282174594,0.10085469873127459,-2.4693970868494346,0.6157623638740618,3.7965588729843796,-1.545290187905367,3.1685160264845247,2.066789944653408,3.4323296257836717,0.009878652332377318,-5.155243781172092,-2.1483402092855477,0.4583825972901405,-1.7833923694757712,0.4056286943145185,-1.5489577802007901,-0.47407739637914814,3.3190596563775956,-4.368206938438038,4.476271547384633,-1.0047612142599907,-2.4863459880627636,4.828022736967739,3.376465039604004,-4.523030101268734,6.152719649779456,5.255528437208042,-5.203385743969341,-6.021791028471112,-4.996565986416592,0.5411404592675684,-3.962504964931433,-3.1834585824858523,-0.16200261497731738,0.8859277084823783,0.6617420608384698,1.6453388223962861,-2.704353735883677,-0.6283049980763215,1.8696756639606913,-4.166826023326462,5.682436719626833,2.738698895030791,3.6368032704475692,4.488973388031705,1.7626028586935554,-1.5808885710613956,3.4475687250560347,4.345222226185716,2.2671415592267103,3.5318035327313035,-2.5344746627423573,-1.2266485542153658,0.9632521753808665,-1.6882490708557232,1.5886191303954678,1.0790281353801239,0.011041155549011153,0.5134240989938416,1.0147266754617004,2.6106411415805315,-0.593891248481091,3.5668409430947774,1.2634468434144057,-1.070398181002135,-1.5299398612781485,-1.027471057504741,2.904669059648071,5.378397322645547,1.8385577335892251,1.6688579555551741,4.257256867088179,-1.9000594122315535,-1.4816493635420802,0.0016057697951494074,-1.3253187810369025,2.2972814658001557,-2.133433732294222,0.33473253866136843,-1.7282258786426388,0.6583672940227202,1.7520875312685589,3.2040747047393103,2.578873730871733,-0.9995122376869208,-0.7283538351913462,1.1208486074496082,1.0190368927708087,1.3055727406904272,-2.6643800261227186,-2.673473147671273,-0.4846522066093208,-3.100465132555819,3.580290240180018,1.2802518207895477,-1.1937631832843831,2.951087479026215,3.7559488490316753,3.2950824006240285,-0.29417954484357356,0.2762457495948029,1.3988505146982617,-6.481694501118128,2.659138179080519,1.3251825334295382,-5.192890206473575,2.8307499757520924,1.4310993011124329,-0.65386597148125,1.9781083378779332,0.4012859649466369,0.5827424680437236,2.7244383943022203,-0.13302864350012936,1.1367641372000745,-0.4425375529948697,-0.548479846662912,3.7864705432454517,2.240865234667878,1.040301141560535,2.5713280148694673,0.9619040270788894,0.31376111691674713,0.5860571057709486,-0.038616090550959485,0.9643168777129193,-1.067665942727889,-1.3838534903422581,-5.716874323387762,-4.10859108666566,2.406646911302285,-2.1681672252114,1.8403079304443855,-2.1428826044426588,-1.7965262027148365,-4.8879894109290385,-0.7692847844566194,1.1423309706393903,-0.3341185619777982,3.2034037003888507,-0.7320928949708705,-2.1936754069934317,-2.419747440664508,3.559381543747361,1.4432611090618763,-0.8209449600473395,-0.6099525313015367,-0.9376403285497514,0.1358248134756346,0.16642165097608663,2.894582777848196,3.424962133545331,0.9911623903391805,3.5963221137378794,1.7866145608896724,2.4496720099346234,4.264858061484998,5.155648665889678,4.72464811261686,-0.4631129045265344,-3.807741579505904,2.823264076023804,-2.3581001635256036,-3.7060522026893445,1.9933130050748877,3.6798246528215786,1.7410475649005384,0.061567362663761796,1.30226168550849,1.8061004391618491,2.3338551478635137,-0.7098277151444328,-1.4258201101708452,3.1594749793069767,6.77155164940316,2.640006248986967,-0.11167151997656584,-0.04609857512890663,0.3930184431111271,0.3839147445225121,1.7250077554411398,1.8053416289497017,1.4578374741686646,3.7850992192055135,3.708171361379187,2.1752032947369426,-4.795714863520516,3.236309237501306,1.6847761586428411,-3.5552687519271515,4.905452536545483,2.9180269636497815,0.43711413192709686,1.1209331039965584,1.3933728940729122,-0.3875382181386759,2.2385805812207273,-0.2574403178370017,0.9633081228837785,5.283943191041496,1.516367090321776,-1.7203584340537006,1.9826713447340911,-1.1196788579670365,1.6167443968013684,0.5252917831162286,1.7781209458298326,-3.4769872906402957,-1.7400377738373183,-1.253594879584696,-3.511306080039347,-0.47419625826756906,-0.8860423504639974,0.08787605823678586,-0.01557700541540764,1.9815248191265504,-0.026649497592872756,-1.6663940485853468,1.9033426191904774,4.120205709189543,4.827995382812121,4.186839941539537,-1.0679012272971153,-2.5268097497315467,1.6869848196159285,4.0443041948393885,-4.334993734470791,-3.5252912011012407,2.7527015161352857,0.31709711181426603,1.869799752547835,4.288245566351443,-0.35413374287931243,0.14216181168846376,-0.04640607839813512,-1.1799892588418985,2.4932786488337904,-2.664913590711441,0.6069554912193864,2.190277566138096,-1.3516302333385726,-3.7440327093303964,-2.3413675007644095,-3.0276451098780406,-1.9576679259903234,-1.2441596453864732,-3.611296901931448,-3.3231148878025354,-3.6148435020847365,-1.6178494858236045,-1.2784281627781366,-4.940533338635807,-2.162430592544202,-0.3466231192585994,-2.720662321480854,-2.978987666706883,-1.4168817221565686,-3.6406108048906587,-3.4681591343249805,-3.3512103763195675,-2.787723404475454,-4.197383358323818,-2.27246769472622,3.2065259729145357,5.051906803923707,0.3472077468568652,-3.665407469466876,3.3205646002449685,-0.7757154734171394,0.442720345611235,2.355106487683339,-0.402181583768456,0.11039717018118879,0.04367941955177966,1.9224811630305307,-2.403489760122665,-2.163089978291095,-2.4825375546692174,-3.70143219480455,3.395404187653546,3.718141728030184,3.863978053927925,-0.5591612892943224,-0.2541259258854725,0.3611330085934286,-0.8958403528096195,-2.1230467496715613,-3.6748675890714617,1.7702129723287536,-3.5157347111173496,-2.5529894337372006,1.1974556331269437,-2.0713544639369355,-2.655173661586702,-0.030366114068261476,-0.6658563870668225,-1.8222466629228098,-1.7961059318872847,-2.6377276456050858,-4.094764149205236,-1.0148329943662306,-2.620910018220501,-4.4604017469573085,-3.934946459804079,-3.4150277330670877,-1.9807867997125768,-2.686588084300422,-0.6940855550538295,-2.897801008085146,-0.9199936127615771,-7.009611536144178,-1.9599774411475424,-1.656633249569307,-2.532727359018871,1.7398110389713073,-1.657444519291624,1.4408126760774267,3.0791949506138976,1.6166588817903154,1.6704552803756332,0.6534414194511146,-3.895192477768034,-1.5748838571172092,-4.0872252659754515,1.6108120845608962,-1.4623753510565682,-4.012716811569942,0.025588475862619187,-2.4616860943927072,-0.30707092572068795,-1.2927104810855792,-1.2109231162574374,-1.9711791695024885,-0.8562726781316472,-1.9573680391144388,-1.4107932996663923,-3.103071956914552,-2.370376160798334,-3.66076311165941,-2.9703545089414383,-1.953616091619824,-1.4078393480563454,1.4572784980229405,-0.4222596193543509,0.5282973796817533,-1.9482463048169862,-2.768233790131178,-0.5000856788739954,6.816324933762997,-2.8399105957626567,1.6477779874491276,-2.581864064650493,0.43014743026990726,-3.6318614644332348,-3.5496811832779485,0.6609295069056992,1.53401745966073,6.559434313767802,0.013160253792467484,2.85310155146399,-0.9913718273575969,-0.512996780552985,2.440318124193926,-0.6902107346989127,0.9130440824674874,0.5328484232322501,-1.7150735772171062,-1.005557877448077,1.8152905763474882,-5.6427227260250055,-5.6427227260250055,-5.6427227260250055,4.573714965041837,3.964891327112894,-3.7250208307988832,5.638504945965474,-3.0099356608263657,-2.2302465787394534,0.6527460390862819,5.565563559901764,4.076976605796159,-0.03427748694738338,1.4528069624310176,-1.5835485542566903,3.117896996604486,-3.683729492635476,2.228065885911376,4.682741887239376,-4.044305847047013,-0.7218667635366296,1.774051046020457,5.809598552638289,-2.5087877270439916,1.2561094014593988,6.371895967890878,2.1449197013742167,-1.6588341376388875,-2.675483183819686,-2.5321144802213404,-1.4267588718376298,-1.6948223338393402,1.4481739883445646,0.4631910830025035,-2.390551866841269,-0.8516189543280932,-0.9731096652997296,-1.540313337121236,-2.750114194798433],\"xaxis\":\"x\",\"y\":[-0.5580749834037817,-0.45650603325534755,-0.24188267943020364,0.41315729848233984,-0.15574238304162635,-0.08845419674394657,-0.27574109615977543,-0.15415223424035626,-0.9030620911731381,-0.15611968173898333,1.0879847195685413,9.828003307839367,-0.4656033942860937,-1.0962725489649456,-3.0010115231476906,-2.303378821126473,-2.0966982111273085,0.33667724046621855,-0.4748807063693463,1.8580317976188019,-0.6975776896054691,0.43990826346597656,0.3202079807702323,-0.18638924811022822,0.5280952696177624,0.25533376795737267,0.900629881294009,-0.16037968420116835,-1.2569382909290732,-0.4158200790094539,-0.9757475397299358,-2.254667984497903,-1.236724430197599,-0.7188106262046132,-0.5196653668841184,-1.8175656862113216,-1.483812398260058,-1.5851358103925346,-0.5302919213779034,-0.6131277345984498,0.34421522965298107,6.109792067948364,-0.0670902258283245,0.11190618217445708,-1.1567090949021583,-1.7217745769635064,-0.8686990028996016,-1.0315222486331845,0.03389914337975626,-1.8565653837790599,-0.18942870923337923,-0.45771301572724954,0.5992529919249695,-1.703932797060713,0.6889328769716073,1.1467852234917817,-1.3614285960689856,1.39442122914031,-1.6329596515868694,-2.141998810661278,-0.16373020247651382,-1.0558619747067666,0.022088350062568436,2.082187455700568,0.16200387469484412,0.6446774971946664,-0.16620476210120802,-1.9196992927449505,1.953401986874184,-1.1478010349936272,-0.8575097657927472,0.7408632456167701,-0.06428034957162261,0.7987857357798183,-0.6582758162255813,-1.883049013721054,0.7655350176957185,-0.3054758069895494,0.03789258919291059,0.1397140135455651,-1.1155836604490572,1.2860355690165195,-0.6890888204606633,-1.2668124422776248,0.028932193857363054,-1.5036742243723569,0.2518164843467211,0.12922708995533175,-1.2792216715218592,0.41149889298904746,0.558620586057734,-0.254133042514325,-0.46725388527604467,-1.0891851138117352,-1.5855355606067816,-2.41584537519457,-2.720466872260341,-0.8044214043906727,0.2576829460325958,-1.1757090101196337,-1.4881936128235125,-1.9499528353547937,-2.0359239543651655,-1.6727941203467043,-1.5389031256911825,-1.9259528580151732,-0.8462662079010154,-1.1572861139092865,-1.8391987196015716,0.7298470542104544,0.6770267523037096,-1.1396709418840296,-0.2867722528229466,0.5499347830285991,-0.6174251426251102,-0.8881809763344322,-0.26666066670420935,1.6481703613555014,-1.708860276458249,-0.28255454939536373,-1.8380382451953379,-0.13971693685269052,-0.03994811352629023,0.5812973990295832,-1.375904077889893,-1.0295948947910811,-2.4323287681224754,-1.4769980834424619,-0.29886067708867836,-2.180762926288145,1.2142677837112645,-0.24601150937800798,0.34450526563916234,-0.4815892966592162,0.740190652727001,-1.416858076858863,-0.9931503227888562,-1.0113865321845954,9.065110698619591,6.6211687630680105,2.3431506005854987,1.0724153215022867,-1.0492787594992359,0.7052787840603666,-1.2384824962482641,-1.2755518477997252,0.41191308971902935,-0.5669257720073241,-0.7510964136902686,0.12538651482709903,-0.525849964020108,-0.86796016982313,-0.8497289904116017,-1.5028043669815423,-1.166889508308285,-1.239428612588103,-1.8623228817447421,0.3877133770113778,-0.9009578324458447,1.4530648229876513,-1.069523275187682,-1.6528061153778009,-1.2083681676979898,-0.9454573585342063,-1.4476624038693242,-1.0733683861777112,-0.015741424057294492,0.6468243951363799,-1.1282082521707029,-0.29045960115873803,5.689426716414258,4.522908945590791,23.869527728336347,0.8920941933270277,-1.1507385359505693,-1.3253473040247805,-1.9935909276316455,-2.1190190942575238,-1.4984840875350391,-0.32287888457359737,-0.6388929416532557,0.3423782944875595,0.5944611134379536,0.0958293680215937,-0.9963755534229843,-0.48649511960214076,1.2808203906886566,6.3953789008315365,-1.0026917945453582,-1.388380107382436,-0.9171228555495932,0.1928877655440682,-0.9322192214753806,0.20824450307982229,4.706175638364559,2.872368179024878,1.7585181665411207,-2.338452339795444,-0.9326616371778239,-1.4521338745015333,-2.373855962206805,-1.9728117463017407,5.292523483422563,-1.347586464813831,0.4968523110757284,0.6873118668983752,-1.4326459393344355,-0.010066399135797089,-0.02100378355167712,-0.2427586580793631,1.739200246492827,2.3382426219811383,1.1038289612865282,2.5394097112563077,1.6229707138571317,3.9593183552286404,-0.7900556111741363,0.04826263926858959,-0.4385449970960095,-0.91300000709556,-1.0709676910401118,-1.5821072932129299,-0.7778775662846552,0.06545006495611101,0.7221459266547657,-0.7092086912755191,0.12315248227078819,0.05864622934461072,0.5114611716479572,0.11813247621866187,-1.0671210363459256,2.0298309141237185,1.7690858050972254,2.351764565026271,-0.08619481931299013,0.2990405357703676,-0.3594191952935112,-0.4829613633073115,1.3096942890582222,-0.35037026209725525,-0.45435533903216624,-0.7443249920062163,-0.5106770338373755,-0.6353594390265206,-0.5166488252242986,1.989497022569422,0.871657150111347,-0.04218975600672136,0.5923569549394366,-0.3460309878512883,0.212600796611312,1.2020567421790396,1.4826792572174659,1.3584164439689235,0.18848324788409096,0.8867657584393255,-0.16749583694097583,-0.4784223613052646,-1.5116112630858614,-0.7707028070808939,-1.2878440607443977,1.1621290050748312,-0.23286359755118868,0.39168520361983117,-1.1397852073868577,2.4336344648245074,1.0403207171287292,-0.1009996041824567,-0.4582639791553195,-0.5607832470808942,-0.8945171182216826,0.4980438071211884,-0.3491048477146503,0.009053322260922784,0.48003788355747495,0.25876995380781387,0.3916378863300243,2.269694440534196,1.0084990411945225,1.2011719726935595,-0.3537962294646461,0.8567018441321657,2.192973353079425,1.5480996326641239,1.1260693442042295,1.9938528478363329,-1.1872403165282706,4.426272242939769,-0.4710856978489629,-0.9258195420203871,0.07325732204803465,-0.7600493849279036,-0.8648359889977005,2.51911641623184,-0.495116297188033,-1.2469070212641113,0.10379376259790439,0.3959396510164139,0.7065233986556038,-1.020739358663598,-1.8138917382202944,-0.5605727559508423,1.5420376750880374,2.1493807714036324,-1.6110234097936462,1.420455411117738,1.9939327109805594,-0.09575203226188972,0.3011207756476896,0.9661790631088754,-0.4364466531703813,-0.38382706479008444,-0.12638618907201535,6.082255723384448,3.14988960084697,0.37461013558868267,0.5812821262944822,0.27536077099886586,-2.3245297341629674,-2.2140137512417644,10.27705672670729,-0.3452945363804386,1.4901476245316383,-1.1390660967299537,0.5954944947327675,0.5101781069238943,-0.634836281407142,-0.22667618023139116,1.7245923703771067,-0.125080527932614,-0.8883097531452494,-2.1770084755763066,0.126743324923286,-0.36729992009500223,-1.0268503517581633,1.3704679712846752,1.4184146335778531,0.051726694157405086,-0.18913890781771162,0.03085434857559927,-0.26255817753965666,-0.11417061755672465,1.0916163205302292,0.05371374932626275,-2.397609800517902,-1.5512166986681843,-0.5310528054656752,-1.3207904389349765,-1.1427602094650697,-0.85012448666215,-1.2834361302547406,-0.7575535689920113,-0.0746358576534422,-0.317459555576203,-0.6908029422183933,0.33830318139158005,8.8028785875537,-0.8843386096205802,1.6737362688659136,2.0076890209227485,0.7158275626547759,0.42019475642248927,-1.290690259520363,1.327325551600099,-0.9686161161721628,-0.8495096724433199,1.0876659796423933,-0.29657204305748924,0.6827188942645562,1.5700878603863317,0.23550290221742765,4.04733590137358,2.774474320452128,1.1077965569521484,0.3097856639546859,3.363641737722078,1.851802670137041,-1.7298270994768703,-1.7171843200733499,-1.5429619858925823,-1.7624781622825882,0.062373092966672684,0.6322063610787413,0.08850212156858257,1.5832305448380353,0.7868193692321508,-0.19946839257151977,1.8559577527610682,-0.8145706061759659,-0.8633837100360342,-0.6772905066809296,2.156894119697552,-0.4416634672986585,-1.0758761100186407,-0.5197540434866424,-0.46971294431312344,-1.2255046678804749,-0.513461856709141,-0.7727072553951878,-1.13762752616956,-0.4882922123516808,-0.7340244026564614,-1.1055755875590516,-1.1174955471910488,-0.8145811513319621,0.39360395971042306,0.40083635998474365,-1.3606718229067203,-0.7479024480381032,0.3206397756359293,1.0773680089700362,-0.23425158182725553,-1.0262847225935519,-0.05564140062608082,-0.1667506078117355,-1.1700747065153618,-0.07478867413686713,0.4031866398746282,-1.2881143295886808,-1.1010771729857458,-0.9036151603114817,-0.8358184199380738,-1.0337669909622194,-0.8410661818006906,-1.4474031399484109,-0.3616026362159067,-1.434095417092772,-0.21919202461490941,-1.9835080557849545,-1.489101622900288,-1.493799523006171,-1.3320510648327248,-1.703129319064369,-0.615428863013869,-1.8258771548557444,-1.8721390020446553,4.470195939357237,-2.074565171755635,-2.549837769890973,-2.384132049659177,3.686941110185664,-2.2317831443064726,-1.4329317427106905,-1.3034888086832332,-1.9413888225594311,-2.2297412580859888,-0.09791595506396233,-0.7085947526738173,0.1326110111419491,0.15578234816730108,-1.2611799777710244,-0.4932393464540632,-0.8897175746879461,0.08071017632842611,-0.6071102088597555,-0.7660519074465985,-1.0663520016524257,-1.1196095345191166,-0.7099286101587386,10.711337821582585,3.2367852271793116,0.7987925397507436,-2.0049340305867243,-1.1433632509040703,1.2661604354519906,-0.35245917320822456,0.21648373438176913,-0.8624735507966726,-1.6997989148018098,1.9581575337834916,1.502320555322137,-0.40437589729820667,1.186112398800809,0.9059177061692475,-1.4332297334379152,-1.7896065237921441,1.1879949257037072,0.5686827933369358,-0.2752902399096854,3.59270515406537,5.104066036026833,0.5720710364934124,-1.323558049899905,-0.4661313671827784,-0.5988932442372414,-0.6050963556544708,-0.6308806645167381,1.891385899964285,2.298458756059004,0.1986235927741578,4.272062647137864,2.47801387474929,0.9020301232968957,-0.3313856054056118,0.7219802722446367,9.021826272528862,0.1630971438451708,0.3872238024967155,-1.0590715844747978,0.28179861209504947,0.049845943837765534,1.5899019997045465,1.216301268263605,0.8175491315065218,1.7790678606693797,0.2121722546631364,0.5107135855855,0.11546910344847709,-0.31725138091740257,1.185355051635049,2.0496372254693225,-0.4440070569468355,0.5131450586484492,-0.8282908573420522,-0.02487530666127641,-0.7977868039141812,0.9203755482426815,0.45297199799324495,-1.5525921266504432,-2.201345064516417,-2.647731677569335,-1.468907142626085,-0.7597409694589479,-0.8974851152238442,0.8408667256036253,-0.12416010910915493,0.5948352667294947,-0.6784820491830537,-2.1377757283145247,-0.2443105268116891,-1.3501107046708705,0.31434551990700377,-2.7752111885933894,-0.46533959066439184,-0.9630004033804211,-2.6222686201232714,-0.4660949339181993,-1.6909884385603204,-0.937223455498442,-1.499052805860744,-2.286976451400283,-1.7214428420255703,0.11093114092809454,0.23032688489372974,0.7978400578314219,-1.729246623979296,-0.3944915291388249,-1.9363676008631534,-2.371735860793083,-1.2933585373725152,-0.6248278051041141,-1.35747546669397,-1.514678926986781,0.2453217174242972,-1.457469217237141,-1.457469217237141,-1.457469217237141,0.12879569352688436,-0.3776458374387451,-0.5081861041960883,2.1253369238264055,-1.5053931007078134,-0.45465488987338426,0.7330825059021739,1.4343096946142524,0.24009925485957215,-0.7543099531567695,-1.0684691211747237,-1.728184547478988,0.6199247285276981,-0.6156849381690529,-0.21012018006234215,0.35755718694004435,-0.829018662116296,-1.8429547043824417,0.018820385466581636,1.535237630911575,0.11207075144801376,-0.7921105287158842,-0.09908874339647918,0.2642934525780556,-1.1889630872633874,-0.17479883414804756,-0.13120805684905784,-1.233265618221613,-1.8280504697139655,1.3367146980728477,0.7206363096392342,-0.16475471606064387,2.643008152375395,6.5088327893624625,-2.2429407625652207,-1.7459576242327486],\"yaxis\":\"y\",\"type\":\"scatter\",\"customdata\":[[\"10-1\",0],[\"10-2\",0],[\"100-1\",0],[\"100-2\",0],[\"100-3\",0],[\"100-4\",0],[\"100-5\",0],[\"100-6\",0],[\"10119-1\",0],[\"10119-2\",0],[\"10119-3\",0],[\"10238-1\",-1],[\"10238-2\",0],[\"10238-3\",0],[\"10627-1\",-1],[\"10627-2\",0],[\"10627-3\",0],[\"1104-25\",0],[\"1104-26\",0],[\"1105-1\",0],[\"1105-2\",0],[\"1105-3\",0],[\"113-1\",0],[\"113-2\",0],[\"113-3\",0],[\"115-1\",0],[\"115-2\",0],[\"116-1\",0],[\"116-2\",0],[\"116-3\",0],[\"119-7\",0],[\"119-8\",0],[\"119-9\",0],[\"12-1\",0],[\"12-2\",0],[\"120-1\",0],[\"120-2\",0],[\"120-3\",0],[\"1200-1\",0],[\"1200-2\",0],[\"1200-3\",0],[\"1201-1\",0],[\"1201-2\",0],[\"1201-3\",0],[\"1202-1\",0],[\"1202-2\",0],[\"1202-3\",0],[\"1203-1\",0],[\"1203-2\",0],[\"1203-3\",0],[\"1207-1\",0],[\"1207-2\",0],[\"1208-1\",0],[\"1208-2\",0],[\"1208-3\",0],[\"1209-1\",0],[\"1209-2\",0],[\"1209-3\",0],[\"121-1\",0],[\"121-2\",0],[\"1211-1\",0],[\"1211-2\",0],[\"1211-3\",0],[\"1216-1\",0],[\"1216-2\",0],[\"1218-1\",0],[\"1218-2\",0],[\"1219-1\",0],[\"1219-2\",0],[\"1219-4\",0],[\"1219-5\",0],[\"1220-1\",0],[\"1220-2\",0],[\"1220-3\",0],[\"1226-1\",0],[\"1226-2\",0],[\"1227-1\",0],[\"1227-2\",0],[\"1227-3\",0],[\"1228-1\",0],[\"1228-2\",0],[\"1228-3\",0],[\"1228-4\",0],[\"1228-5\",0],[\"1228-6\",0],[\"1229-1\",0],[\"1229-2\",0],[\"1229-3\",0],[\"1229-4\",0],[\"1229-5\",0],[\"1229-6\",0],[\"1230-1\",-1],[\"1230-2\",0],[\"1230-3\",0],[\"1231-1\",0],[\"1231-2\",0],[\"1231-3\",0],[\"1232-1\",0],[\"1232-2\",0],[\"1232-3\",0],[\"1233-1\",0],[\"1233-2\",0],[\"1233-3\",0],[\"1233-4\",0],[\"1233-5\",0],[\"1233-6\",0],[\"1234-1\",0],[\"1234-2\",0],[\"1234-3\",0],[\"1235-1\",0],[\"1235-2\",0],[\"1235-3\",0],[\"1236-1\",0],[\"1236-2\",0],[\"1236-3\",0],[\"1237-1\",0],[\"1237-2\",0],[\"1237-3\",0],[\"1237-4\",0],[\"1237-5\",0],[\"1237-6\",0],[\"1238-1\",0],[\"1238-2\",0],[\"1238-3\",0],[\"1239-1\",0],[\"1239-2\",0],[\"1239-3\",0],[\"1239-4\",0],[\"1239-5\",0],[\"1239-6\",0],[\"1241-1\",0],[\"1241-2\",0],[\"1241-3\",0],[\"1242-25\",0],[\"1242-26\",0],[\"126-1\",0],[\"126-2\",0],[\"126-3\",0],[\"128-1\",0],[\"128-2\",-1],[\"13-1\",0],[\"13-2\",0],[\"132-1\",0],[\"132-2\",0],[\"132-3\",0],[\"133-1\",0],[\"133-2\",0],[\"133-3\",0],[\"134-1\",0],[\"134-2\",0],[\"134-3\",0],[\"135-1\",0],[\"135-2\",0],[\"135-3\",0],[\"137-1\",0],[\"137-2\",0],[\"137-3\",0],[\"139-1\",0],[\"139-2\",0],[\"139-3\",0],[\"14-1\",0],[\"14-2\",0],[\"14-3\",0],[\"14-4\",0],[\"14-5\",0],[\"14-6\",0],[\"140-1\",0],[\"140-2\",0],[\"141-1\",0],[\"141-2\",0],[\"143-1\",-1],[\"143-2\",0],[\"143-3\",-1],[\"146-1\",0],[\"146-2\",0],[\"146-3\",0],[\"147-1\",0],[\"147-2\",0],[\"148-1\",0],[\"148-2\",0],[\"148-3\",0],[\"153-1\",0],[\"153-2\",0],[\"154-1\",0],[\"154-2\",0],[\"159-1\",0],[\"159-2\",0],[\"16-1\",0],[\"160-1\",0],[\"160-2\",0],[\"160-3\",0],[\"161-1\",0],[\"161-2\",0],[\"161-3\",0],[\"165-1\",0],[\"165-2\",0],[\"165-3\",0],[\"166-1\",0],[\"166-2\",0],[\"167-1\",0],[\"167-2\",0],[\"167-3\",0],[\"17-1\",-1],[\"179-1\",0],[\"179-2\",0],[\"179-3\",0],[\"180-1\",0],[\"180-2\",0],[\"180-3\",0],[\"181-1\",0],[\"181-2\",0],[\"181-3\",0],[\"189-1\",0],[\"189-2\",0],[\"189-3\",0],[\"192-1\",0],[\"193-1\",0],[\"193-2\",0],[\"193-3\",0],[\"194-1\",0],[\"194-2\",0],[\"194-3\",0],[\"195-1\",0],[\"195-2\",0],[\"196-4\",0],[\"196-5\",0],[\"198-1\",0],[\"198-2\",0],[\"198-3\",0],[\"199-1\",0],[\"199-2\",0],[\"199-3\",0],[\"20-1\",0],[\"20-2\",0],[\"200-1\",0],[\"200-2\",0],[\"2005-1\",0],[\"2005-2\",0],[\"2005-3\",0],[\"201-1\",0],[\"201-2\",0],[\"201-3\",0],[\"201-4\",0],[\"201-5\",0],[\"201-6\",0],[\"204-1\",0],[\"204-2\",0],[\"205-1\",0],[\"205-2\",0],[\"206-1\",0],[\"206-2\",0],[\"207-1\",0],[\"207-2\",0],[\"207-3\",0],[\"208-1\",0],[\"208-2\",0],[\"208-3\",0],[\"209-1\",0],[\"209-2\",0],[\"209-3\",0],[\"21-1\",0],[\"21-2\",0],[\"210-1\",0],[\"210-2\",0],[\"211-1\",0],[\"211-2\",0],[\"211-3\",0],[\"212-1\",0],[\"212-2\",0],[\"213-1\",0],[\"213-2\",0],[\"214-1\",0],[\"214-2\",0],[\"214-3\",0],[\"215-1\",0],[\"215-2\",0],[\"215-3\",0],[\"216-1\",0],[\"216-2\",0],[\"216-3\",0],[\"217-1\",0],[\"217-2\",0],[\"218-1\",0],[\"218-2\",0],[\"22-1\",0],[\"22-2\",0],[\"222-1\",0],[\"222-2\",-1],[\"222-3\",0],[\"222-4\",0],[\"222-5\",0],[\"222-6\",0],[\"223-1\",0],[\"223-2\",0],[\"223-3\",0],[\"223-4\",0],[\"223-5\",0],[\"223-6\",0],[\"224-1\",0],[\"224-2\",0],[\"224-3\",0],[\"226-1\",0],[\"226-2\",0],[\"226-3\",0],[\"226-4\",0],[\"226-5\",0],[\"226-6\",0],[\"229-1\",0],[\"229-2\",0],[\"229-3\",0],[\"229-4\",0],[\"229-5\",0],[\"229-6\",0],[\"23-1\",-1],[\"23-2\",0],[\"234-1\",0],[\"234-2\",0],[\"234-3\",0],[\"238-7\",0],[\"238-8\",0],[\"239-1\",-1],[\"239-2\",0],[\"24-1\",0],[\"24-2\",0],[\"24-3\",0],[\"240-1\",0],[\"240-2\",0],[\"240-3\",0],[\"243-1\",0],[\"243-2\",0],[\"244-1\",0],[\"244-2\",0],[\"245-1\",0],[\"245-2\",0],[\"245-3\",0],[\"245-4\",0],[\"245-5\",0],[\"245-6\",0],[\"246-1\",0],[\"246-2\",0],[\"246-3\",0],[\"247-1\",0],[\"247-2\",0],[\"247-3\",0],[\"248-1\",0],[\"248-2\",0],[\"248-3\",0],[\"248-4\",0],[\"248-5\",0],[\"248-6\",0],[\"250-1\",0],[\"250-2\",0],[\"250-3\",0],[\"250-4\",0],[\"250-5\",0],[\"250-6\",0],[\"251-7\",-1],[\"251-8\",0],[\"251-9\",0],[\"252-1\",0],[\"252-2\",0],[\"252-3\",0],[\"253-1\",0],[\"253-2\",0],[\"253-3\",0],[\"253-4\",0],[\"253-5\",0],[\"253-6\",0],[\"254-1\",0],[\"254-2\",0],[\"254-3\",0],[\"255-1\",0],[\"255-2\",0],[\"255-3\",0],[\"255-4\",0],[\"255-5\",-1],[\"255-6\",0],[\"256-1\",0],[\"256-2\",0],[\"256-3\",0],[\"256-4\",0],[\"257-1\",0],[\"257-2\",0],[\"257-3\",0],[\"259-1\",0],[\"259-2\",0],[\"259-3\",0],[\"26-1\",0],[\"26-2\",0],[\"260-1\",0],[\"260-2\",0],[\"260-3\",0],[\"261-1\",0],[\"261-2\",0],[\"261-3\",0],[\"261-4\",0],[\"261-5\",0],[\"261-6\",0],[\"262-1\",0],[\"262-2\",0],[\"262-3\",0],[\"262-4\",0],[\"262-5\",0],[\"262-6\",0],[\"263-1\",0],[\"263-2\",0],[\"263-3\",0],[\"264-1\",0],[\"264-2\",0],[\"264-3\",0],[\"265-1\",0],[\"265-2\",0],[\"265-3\",0],[\"266-1\",0],[\"266-2\",0],[\"266-3\",0],[\"266-4\",0],[\"266-5\",0],[\"266-6\",0],[\"269-1\",0],[\"269-2\",0],[\"269-3\",0],[\"269-4\",0],[\"269-5\",0],[\"269-6\",0],[\"27-1\",0],[\"27-2\",0],[\"27-3\",0],[\"271-1\",0],[\"271-2\",0],[\"271-3\",0],[\"272-1\",0],[\"272-2\",0],[\"273-1\",0],[\"276-1\",0],[\"276-2\",0],[\"276-3\",0],[\"277-1\",0],[\"277-2\",0],[\"277-3\",0],[\"278-1\",0],[\"278-2\",0],[\"279-1\",0],[\"279-2\",0],[\"279-3\",0],[\"283-1\",0],[\"283-2\",0],[\"283-3\",0],[\"287-1\",0],[\"287-2\",0],[\"288-1\",0],[\"288-2\",0],[\"288-3\",0],[\"289-1\",0],[\"289-2\",0],[\"289-3\",0],[\"289-4\",0],[\"289-5\",0],[\"289-6\",0],[\"293-1\",-1],[\"293-2\",0],[\"293-3\",0],[\"295-1\",0],[\"295-2\",0],[\"298-1\",0],[\"298-2\",0],[\"298-3\",0],[\"3-1\",0],[\"3-2\",0],[\"400-1\",0],[\"400-2\",0],[\"401-25\",0],[\"401-26\",0],[\"402-1\",0],[\"402-2\",0],[\"402-3\",0],[\"405-1\",0],[\"405-2\",0],[\"405-3\",0],[\"406-1\",0],[\"406-2\",0],[\"406-3\",0],[\"407-1\",0],[\"407-2\",0],[\"407-3\",0],[\"409-1\",0],[\"409-2\",0],[\"410-1\",0],[\"410-2\",0],[\"410-3\",0],[\"411-1\",-1],[\"411-2\",0],[\"412-1\",0],[\"412-2\",0],[\"412-3\",0],[\"413-1\",0],[\"413-2\",0],[\"413-3\",0],[\"418-1\",0],[\"418-2\",0],[\"423-1\",0],[\"423-2\",0],[\"431-7\",0],[\"431-8\",0],[\"431-9\",0],[\"432-1\",0],[\"432-2\",0],[\"434-7\",0],[\"434-8\",0],[\"434-9\",0],[\"443-7\",0],[\"443-8\",0],[\"443-9\",0],[\"452-1\",0],[\"465-1\",0],[\"465-2\",0],[\"466-1\",0],[\"466-2\",0],[\"471-1\",0],[\"471-2\",0],[\"471-3\",0],[\"474-1\",0],[\"474-2\",0],[\"474-3\",0],[\"475-1\",0],[\"475-2\",0],[\"475-3\",0],[\"635-1\",0],[\"635-2\",0],[\"635-3\",0],[\"646-1\",0],[\"646-2\",0],[\"646-3\",0],[\"650-1\",0],[\"650-2\",0],[\"650-3\",0],[\"667-1\",0],[\"667-2\",0],[\"667-3\",0],[\"674-1\",0],[\"674-2\",0],[\"674-3\",0],[\"675-1\",0],[\"675-2\",0],[\"675-3\",0],[\"676-1\",0],[\"676-2\",0],[\"676-3\",0],[\"680-1\",0],[\"680-2\",0],[\"680-3\",0],[\"689-1\",0],[\"689-2\",0],[\"689-3\",0],[\"699-1\",0],[\"699-2\",0],[\"699-3\",0],[\"7-25\",0],[\"7-26\",0],[\"9-1\",0],[\"9-2\",0],[\"900-1\",0],[\"900-2\",0],[\"903-1\",0],[\"903-2\",0],[\"903-3\",0],[\"904-1\",0],[\"904-2\",0],[\"904-3\",0],[\"910-1\",0],[\"910-2\",0],[\"910-3\",0],[\"911-1\",0],[\"911-2\",0],[\"911-3\",0],[\"917-1\",0],[\"917-2\",0],[\"917-3\",0],[\"924-1\",0],[\"924-2\",0],[\"924-3\",0],[\"942-1\",0],[\"942-2\",0],[\"943-1\",0],[\"943-2\",0],[\"943-3\",0],[\"944-1\",0],[\"944-2\",0],[\"944-3\",0],[\"950-1\",0],[\"950-2\",-1],[\"952-7\",0],[\"952-8\",0]]}],                        {\"template\":{\"data\":{\"histogram2dcontour\":[{\"type\":\"histogram2dcontour\",\"colorbar\":{\"outlinewidth\":0,\"ticks\":\"\"},\"colorscale\":[[0.0,\"#0d0887\"],[0.1111111111111111,\"#46039f\"],[0.2222222222222222,\"#7201a8\"],[0.3333333333333333,\"#9c179e\"],[0.4444444444444444,\"#bd3786\"],[0.5555555555555556,\"#d8576b\"],[0.6666666666666666,\"#ed7953\"],[0.7777777777777778,\"#fb9f3a\"],[0.8888888888888888,\"#fdca26\"],[1.0,\"#f0f921\"]]}],\"choropleth\":[{\"type\":\"choropleth\",\"colorbar\":{\"outlinewidth\":0,\"ticks\":\"\"}}],\"histogram2d\":[{\"type\":\"histogram2d\",\"colorbar\":{\"outlinewidth\":0,\"ticks\":\"\"},\"colorscale\":[[0.0,\"#0d0887\"],[0.1111111111111111,\"#46039f\"],[0.2222222222222222,\"#7201a8\"],[0.3333333333333333,\"#9c179e\"],[0.4444444444444444,\"#bd3786\"],[0.5555555555555556,\"#d8576b\"],[0.6666666666666666,\"#ed7953\"],[0.7777777777777778,\"#fb9f3a\"],[0.8888888888888888,\"#fdca26\"],[1.0,\"#f0f921\"]]}],\"heatmap\":[{\"type\":\"heatmap\",\"colorbar\":{\"outlinewidth\":0,\"ticks\":\"\"},\"colorscale\":[[0.0,\"#0d0887\"],[0.1111111111111111,\"#46039f\"],[0.2222222222222222,\"#7201a8\"],[0.3333333333333333,\"#9c179e\"],[0.4444444444444444,\"#bd3786\"],[0.5555555555555556,\"#d8576b\"],[0.6666666666666666,\"#ed7953\"],[0.7777777777777778,\"#fb9f3a\"],[0.8888888888888888,\"#fdca26\"],[1.0,\"#f0f921\"]]}],\"heatmapgl\":[{\"type\":\"heatmapgl\",\"colorbar\":{\"outlinewidth\":0,\"ticks\":\"\"},\"colorscale\":[[0.0,\"#0d0887\"],[0.1111111111111111,\"#46039f\"],[0.2222222222222222,\"#7201a8\"],[0.3333333333333333,\"#9c179e\"],[0.4444444444444444,\"#bd3786\"],[0.5555555555555556,\"#d8576b\"],[0.6666666666666666,\"#ed7953\"],[0.7777777777777778,\"#fb9f3a\"],[0.8888888888888888,\"#fdca26\"],[1.0,\"#f0f921\"]]}],\"contourcarpet\":[{\"type\":\"contourcarpet\",\"colorbar\":{\"outlinewidth\":0,\"ticks\":\"\"}}],\"contour\":[{\"type\":\"contour\",\"colorbar\":{\"outlinewidth\":0,\"ticks\":\"\"},\"colorscale\":[[0.0,\"#0d0887\"],[0.1111111111111111,\"#46039f\"],[0.2222222222222222,\"#7201a8\"],[0.3333333333333333,\"#9c179e\"],[0.4444444444444444,\"#bd3786\"],[0.5555555555555556,\"#d8576b\"],[0.6666666666666666,\"#ed7953\"],[0.7777777777777778,\"#fb9f3a\"],[0.8888888888888888,\"#fdca26\"],[1.0,\"#f0f921\"]]}],\"surface\":[{\"type\":\"surface\",\"colorbar\":{\"outlinewidth\":0,\"ticks\":\"\"},\"colorscale\":[[0.0,\"#0d0887\"],[0.1111111111111111,\"#46039f\"],[0.2222222222222222,\"#7201a8\"],[0.3333333333333333,\"#9c179e\"],[0.4444444444444444,\"#bd3786\"],[0.5555555555555556,\"#d8576b\"],[0.6666666666666666,\"#ed7953\"],[0.7777777777777778,\"#fb9f3a\"],[0.8888888888888888,\"#fdca26\"],[1.0,\"#f0f921\"]]}],\"mesh3d\":[{\"type\":\"mesh3d\",\"colorbar\":{\"outlinewidth\":0,\"ticks\":\"\"}}],\"scatter\":[{\"fillpattern\":{\"fillmode\":\"overlay\",\"size\":10,\"solidity\":0.2},\"type\":\"scatter\"}],\"parcoords\":[{\"type\":\"parcoords\",\"line\":{\"colorbar\":{\"outlinewidth\":0,\"ticks\":\"\"}}}],\"scatterpolargl\":[{\"type\":\"scatterpolargl\",\"marker\":{\"colorbar\":{\"outlinewidth\":0,\"ticks\":\"\"}}}],\"bar\":[{\"error_x\":{\"color\":\"#2a3f5f\"},\"error_y\":{\"color\":\"#2a3f5f\"},\"marker\":{\"line\":{\"color\":\"#E5ECF6\",\"width\":0.5},\"pattern\":{\"fillmode\":\"overlay\",\"size\":10,\"solidity\":0.2}},\"type\":\"bar\"}],\"scattergeo\":[{\"type\":\"scattergeo\",\"marker\":{\"colorbar\":{\"outlinewidth\":0,\"ticks\":\"\"}}}],\"scatterpolar\":[{\"type\":\"scatterpolar\",\"marker\":{\"colorbar\":{\"outlinewidth\":0,\"ticks\":\"\"}}}],\"histogram\":[{\"marker\":{\"pattern\":{\"fillmode\":\"overlay\",\"size\":10,\"solidity\":0.2}},\"type\":\"histogram\"}],\"scattergl\":[{\"type\":\"scattergl\",\"marker\":{\"colorbar\":{\"outlinewidth\":0,\"ticks\":\"\"}}}],\"scatter3d\":[{\"type\":\"scatter3d\",\"line\":{\"colorbar\":{\"outlinewidth\":0,\"ticks\":\"\"}},\"marker\":{\"colorbar\":{\"outlinewidth\":0,\"ticks\":\"\"}}}],\"scattermapbox\":[{\"type\":\"scattermapbox\",\"marker\":{\"colorbar\":{\"outlinewidth\":0,\"ticks\":\"\"}}}],\"scatterternary\":[{\"type\":\"scatterternary\",\"marker\":{\"colorbar\":{\"outlinewidth\":0,\"ticks\":\"\"}}}],\"scattercarpet\":[{\"type\":\"scattercarpet\",\"marker\":{\"colorbar\":{\"outlinewidth\":0,\"ticks\":\"\"}}}],\"carpet\":[{\"aaxis\":{\"endlinecolor\":\"#2a3f5f\",\"gridcolor\":\"white\",\"linecolor\":\"white\",\"minorgridcolor\":\"white\",\"startlinecolor\":\"#2a3f5f\"},\"baxis\":{\"endlinecolor\":\"#2a3f5f\",\"gridcolor\":\"white\",\"linecolor\":\"white\",\"minorgridcolor\":\"white\",\"startlinecolor\":\"#2a3f5f\"},\"type\":\"carpet\"}],\"table\":[{\"cells\":{\"fill\":{\"color\":\"#EBF0F8\"},\"line\":{\"color\":\"white\"}},\"header\":{\"fill\":{\"color\":\"#C8D4E3\"},\"line\":{\"color\":\"white\"}},\"type\":\"table\"}],\"barpolar\":[{\"marker\":{\"line\":{\"color\":\"#E5ECF6\",\"width\":0.5},\"pattern\":{\"fillmode\":\"overlay\",\"size\":10,\"solidity\":0.2}},\"type\":\"barpolar\"}],\"pie\":[{\"automargin\":true,\"type\":\"pie\"}]},\"layout\":{\"autotypenumbers\":\"strict\",\"colorway\":[\"#636efa\",\"#EF553B\",\"#00cc96\",\"#ab63fa\",\"#FFA15A\",\"#19d3f3\",\"#FF6692\",\"#B6E880\",\"#FF97FF\",\"#FECB52\"],\"font\":{\"color\":\"#2a3f5f\"},\"hovermode\":\"closest\",\"hoverlabel\":{\"align\":\"left\"},\"paper_bgcolor\":\"white\",\"plot_bgcolor\":\"#E5ECF6\",\"polar\":{\"bgcolor\":\"#E5ECF6\",\"angularaxis\":{\"gridcolor\":\"white\",\"linecolor\":\"white\",\"ticks\":\"\"},\"radialaxis\":{\"gridcolor\":\"white\",\"linecolor\":\"white\",\"ticks\":\"\"}},\"ternary\":{\"bgcolor\":\"#E5ECF6\",\"aaxis\":{\"gridcolor\":\"white\",\"linecolor\":\"white\",\"ticks\":\"\"},\"baxis\":{\"gridcolor\":\"white\",\"linecolor\":\"white\",\"ticks\":\"\"},\"caxis\":{\"gridcolor\":\"white\",\"linecolor\":\"white\",\"ticks\":\"\"}},\"coloraxis\":{\"colorbar\":{\"outlinewidth\":0,\"ticks\":\"\"}},\"colorscale\":{\"sequential\":[[0.0,\"#0d0887\"],[0.1111111111111111,\"#46039f\"],[0.2222222222222222,\"#7201a8\"],[0.3333333333333333,\"#9c179e\"],[0.4444444444444444,\"#bd3786\"],[0.5555555555555556,\"#d8576b\"],[0.6666666666666666,\"#ed7953\"],[0.7777777777777778,\"#fb9f3a\"],[0.8888888888888888,\"#fdca26\"],[1.0,\"#f0f921\"]],\"sequentialminus\":[[0.0,\"#0d0887\"],[0.1111111111111111,\"#46039f\"],[0.2222222222222222,\"#7201a8\"],[0.3333333333333333,\"#9c179e\"],[0.4444444444444444,\"#bd3786\"],[0.5555555555555556,\"#d8576b\"],[0.6666666666666666,\"#ed7953\"],[0.7777777777777778,\"#fb9f3a\"],[0.8888888888888888,\"#fdca26\"],[1.0,\"#f0f921\"]],\"diverging\":[[0,\"#8e0152\"],[0.1,\"#c51b7d\"],[0.2,\"#de77ae\"],[0.3,\"#f1b6da\"],[0.4,\"#fde0ef\"],[0.5,\"#f7f7f7\"],[0.6,\"#e6f5d0\"],[0.7,\"#b8e186\"],[0.8,\"#7fbc41\"],[0.9,\"#4d9221\"],[1,\"#276419\"]]},\"xaxis\":{\"gridcolor\":\"white\",\"linecolor\":\"white\",\"ticks\":\"\",\"title\":{\"standoff\":15},\"zerolinecolor\":\"white\",\"automargin\":true,\"zerolinewidth\":2},\"yaxis\":{\"gridcolor\":\"white\",\"linecolor\":\"white\",\"ticks\":\"\",\"title\":{\"standoff\":15},\"zerolinecolor\":\"white\",\"automargin\":true,\"zerolinewidth\":2},\"scene\":{\"xaxis\":{\"backgroundcolor\":\"#E5ECF6\",\"gridcolor\":\"white\",\"linecolor\":\"white\",\"showbackground\":true,\"ticks\":\"\",\"zerolinecolor\":\"white\",\"gridwidth\":2},\"yaxis\":{\"backgroundcolor\":\"#E5ECF6\",\"gridcolor\":\"white\",\"linecolor\":\"white\",\"showbackground\":true,\"ticks\":\"\",\"zerolinecolor\":\"white\",\"gridwidth\":2},\"zaxis\":{\"backgroundcolor\":\"#E5ECF6\",\"gridcolor\":\"white\",\"linecolor\":\"white\",\"showbackground\":true,\"ticks\":\"\",\"zerolinecolor\":\"white\",\"gridwidth\":2}},\"shapedefaults\":{\"line\":{\"color\":\"#2a3f5f\"}},\"annotationdefaults\":{\"arrowcolor\":\"#2a3f5f\",\"arrowhead\":0,\"arrowwidth\":1},\"geo\":{\"bgcolor\":\"white\",\"landcolor\":\"#E5ECF6\",\"subunitcolor\":\"white\",\"showland\":true,\"showlakes\":true,\"lakecolor\":\"white\"},\"title\":{\"x\":0.05},\"mapbox\":{\"style\":\"light\"}}},\"xaxis\":{\"anchor\":\"y\",\"domain\":[0.0,1.0],\"title\":{\"text\":\"ColA\"}},\"yaxis\":{\"anchor\":\"x\",\"domain\":[0.0,1.0],\"title\":{\"text\":\"ColB\"}},\"coloraxis\":{\"colorbar\":{\"title\":{\"text\":\"labels\"}},\"colorscale\":[[0.0,\"#0d0887\"],[0.1111111111111111,\"#46039f\"],[0.2222222222222222,\"#7201a8\"],[0.3333333333333333,\"#9c179e\"],[0.4444444444444444,\"#bd3786\"],[0.5555555555555556,\"#d8576b\"],[0.6666666666666666,\"#ed7953\"],[0.7777777777777778,\"#fb9f3a\"],[0.8888888888888888,\"#fdca26\"],[1.0,\"#f0f921\"]]},\"legend\":{\"tracegroupgap\":0},\"margin\":{\"t\":60}},                        {\"responsive\": true}                    ).then(function(){\n",
       "                            \n",
       "var gd = document.getElementById('35d47097-38ae-4c2d-afb8-ac909992963f');\n",
       "var x = new MutationObserver(function (mutations, observer) {{\n",
       "        var display = window.getComputedStyle(gd).display;\n",
       "        if (!display || display === 'none') {{\n",
       "            console.log([gd, 'removed!']);\n",
       "            Plotly.purge(gd);\n",
       "            observer.disconnect();\n",
       "        }}\n",
       "}});\n",
       "\n",
       "// Listen for the removal of the full notebook cells\n",
       "var notebookContainer = gd.closest('#notebook-container');\n",
       "if (notebookContainer) {{\n",
       "    x.observe(notebookContainer, {childList: true});\n",
       "}}\n",
       "\n",
       "// Listen for the clearing of the current output cell\n",
       "var outputEl = gd.closest('.output');\n",
       "if (outputEl) {{\n",
       "    x.observe(outputEl, {childList: true});\n",
       "}}\n",
       "\n",
       "                        })                };                });            </script>        </div>"
      ]
     },
     "metadata": {},
     "output_type": "display_data"
    }
   ],
   "source": [
    "# Plotting the data\n",
    "customdata = np.stack((data[\"BTS_ID\"], data[\"labels\"]), axis=-1)\n",
    "fig = px.scatter(data_frame=data, x = \"ColA\", y = \"ColB\", color=\"labels\")#, hover_data=[\"ColA\", \"ColB\", \"BTS_ID\"])\n",
    "hovertemplate = ('BTS_ID: %{customdata[0]}<br>' + \n",
    "    'ColA: %{x} <br>' + \n",
    "    'ColB: %{y} <br>' + \n",
    "    \"labels: %{customdata[1]}\"\n",
    "    '<extra></extra>')\n",
    "fig.update_traces(customdata=customdata, hovertemplate=hovertemplate)\n",
    "fig.show()"
   ]
  },
  {
   "cell_type": "markdown",
   "id": "d0d64fbb",
   "metadata": {},
   "source": [
    "## Part 3"
   ]
  },
  {
   "cell_type": "code",
   "execution_count": 51,
   "id": "3d3d647a",
   "metadata": {},
   "outputs": [
    {
     "name": "stdout",
     "output_type": "stream",
     "text": [
      "<class 'pandas.core.frame.DataFrame'>\n",
      "Index: 107906 entries, 0 to 107905\n",
      "Data columns (total 33 columns):\n",
      " #   Column                                Non-Null Count   Dtype         \n",
      "---  ------                                --------------   -----         \n",
      " 0   day                                   107906 non-null  datetime64[ns]\n",
      " 1   BTS_ID                                107906 non-null  object        \n",
      " 2   RRC_Conn_Release_due_to_S1_Link_Fail  107906 non-null  float64       \n",
      " 3   Max_Num_RRC_Conn_User                 107906 non-null  float64       \n",
      " 4   Mean_RRC_Conn_Setup_Time_ms           107906 non-null  float64       \n",
      " 5   Avg_PRACH_Usage_per_Second            107906 non-null  float64       \n",
      " 6   FDD_Cell_DL_Avg_Agg_Thruput_Mbps      107906 non-null  float64       \n",
      " 7   FDD_Cell_UL_Avg_Agg_Thruput_Mbps      107906 non-null  float64       \n",
      " 8   FDD_Cell_DL_MAC_Data_Volume_MB        107906 non-null  float64       \n",
      " 9   FDD_Cell_UL_MAC_Data_Volume_MB        107906 non-null  float64       \n",
      " 10  Avg_CQI                               107906 non-null  float64       \n",
      " 11  FDD_RRC_Est_Success_Pct               107906 non-null  float64       \n",
      " 12  FDD_RRC_Re_Est_Success_Pct            107906 non-null  float64       \n",
      " 13  RRC_Reconfiguration_Success_Pct       107906 non-null  float64       \n",
      " 14  UE_Context_Est_Success_Pct            107906 non-null  float64       \n",
      " 15  RRC_Drop_Pct                          107906 non-null  float64       \n",
      " 16  FDD_ERAB_Drop_Pct                     107906 non-null  float64       \n",
      " 17  FDD_ERAB_Block_Pct                    107906 non-null  float64       \n",
      " 18  ERAB_Block_in_HO_Pct                  107906 non-null  float64       \n",
      " 19  UL_PRB_Util_Pct                       107906 non-null  float64       \n",
      " 20  DL_PRB_Util_Pct                       107906 non-null  float64       \n",
      " 21  Cell_UL_BLER_Pct                      107906 non-null  float64       \n",
      " 22  Cell_DL_BLER_Pct                      107906 non-null  float64       \n",
      " 23  DL_64QAM_Modulation_Scheme_Usage_Pct  107906 non-null  float64       \n",
      " 24  UL_16QAM_Modulation_Scheme_Usage_Pct  107906 non-null  float64       \n",
      " 25  FDD_ERAB_Setup_Success_Pct            107906 non-null  float64       \n",
      " 26  DL 64QAM vs UL 16 ratio               107906 non-null  float64       \n",
      " 27  Avg CQI to DL 64QAM ratio             107906 non-null  float64       \n",
      " 28  DL PRB vs UL PRB ratio                107906 non-null  float64       \n",
      " 29  MIMO_Usage_Pct                        107906 non-null  float64       \n",
      " 30  RSSI_Avg_dBm                          107906 non-null  float64       \n",
      " 31  PRACH_Avg_NI_dBm                      107906 non-null  float64       \n",
      " 32  Power_DL_Avg_mw                       107906 non-null  float64       \n",
      "dtypes: datetime64[ns](1), float64(31), object(1)\n",
      "memory usage: 28.0+ MB\n"
     ]
    }
   ],
   "source": [
    "# Now perform the same steps, but in every date except 2021-06-13\n",
    "data = df.copy()\n",
    "data[\"day\"] = pd.to_datetime(data[\"day\"])\n",
    "data = data[data[\"day\"] != \"2021-06-13\"].copy()\n",
    "data.info()"
   ]
  },
  {
   "cell_type": "code",
   "execution_count": 52,
   "id": "aad53f72",
   "metadata": {},
   "outputs": [],
   "source": [
    "# Day column is dropped and BTS_ID column is saved to an external variable\n",
    "BTS_ID = data[[\"BTS_ID\"]]\n",
    "BTS_ID = BTS_ID.reset_index()\n",
    "data = data.drop(columns=[\"day\", \"BTS_ID\"]).copy()\n",
    "# Data is scaled\n",
    "std_scaler = StandardScaler()\n",
    "data = pd.DataFrame(std_scaler.fit_transform(data))\n",
    "# Data dimensionality is reduced\n",
    "pca_2 = PCA(n_components=2, random_state=42).fit(data)\n",
    "pca_data = pca_2.transform(data)\n",
    "# The BTS_ID variable is added back\n",
    "data = pd.DataFrame(data = pca_data, columns=[\"ColA\", \"ColB\"])\n",
    "data = pd.concat([data, BTS_ID], axis=1)\n",
    "data = data.drop([\"index\"], axis=1)"
   ]
  },
  {
   "cell_type": "code",
   "execution_count": 67,
   "id": "17e32a7b",
   "metadata": {},
   "outputs": [
    {
     "data": {
      "text/plain": [
       "array([[-1.8288782 ],\n",
       "       [-1.33401073]])"
      ]
     },
     "execution_count": 67,
     "metadata": {},
     "output_type": "execute_result"
    }
   ],
   "source": [
    "test = np.array((data[\"ColA\"].iloc[0], data[\"ColB\"].iloc[0])).reshape(-1,1)\n",
    "test"
   ]
  },
  {
   "cell_type": "code",
   "execution_count": 79,
   "id": "f6da22cd",
   "metadata": {},
   "outputs": [
    {
     "data": {
      "text/plain": [
       "array([[0],\n",
       "       [0]])"
      ]
     },
     "execution_count": 79,
     "metadata": {},
     "output_type": "execute_result"
    }
   ],
   "source": [
    "center = np.array((0,0)).reshape(-1,1)\n",
    "center"
   ]
  },
  {
   "cell_type": "code",
   "execution_count": 81,
   "id": "bf4d9177",
   "metadata": {},
   "outputs": [],
   "source": [
    "center = [(0,0)]\n",
    "test = [(data[\"ColA\"].iloc[0], data[\"ColB\"].iloc[0])]"
   ]
  },
  {
   "cell_type": "code",
   "execution_count": 82,
   "id": "a57f5c78",
   "metadata": {},
   "outputs": [
    {
     "data": {
      "text/plain": [
       "array([[2.26370936]])"
      ]
     },
     "execution_count": 82,
     "metadata": {},
     "output_type": "execute_result"
    }
   ],
   "source": [
    "distance.cdist(test, center, \"euclidean\")"
   ]
  },
  {
   "cell_type": "code",
   "execution_count": 54,
   "id": "11f2fa4e",
   "metadata": {},
   "outputs": [],
   "source": [
    "center = np.array((0,0)).reshape(-1,1)\n",
    "data[\"euclidean\"] = data.apply(lambda x: distance.cdist(np.array((x[\"ColA\"], x[\"ColB\"])).reshape(-1,1), center, \"euclidean\"), axis=1)"
   ]
  },
  {
   "cell_type": "code",
   "execution_count": 83,
   "id": "88e80ddd",
   "metadata": {},
   "outputs": [
    {
     "data": {
      "text/plain": [
       "2.263709363871843"
      ]
     },
     "execution_count": 83,
     "metadata": {},
     "output_type": "execute_result"
    }
   ],
   "source": [
    "center = np.array((0,0))\n",
    "test = np.array((data[\"ColA\"].iloc[0], data[\"ColB\"].iloc[0]))\n",
    "np.linalg.norm(test - center)\n",
    "# data[\"euclidean\"] = data.apply(lambda x: np.linalg.norm(np.array((x[\"ColA\"], x[\"ColB\"])) - center), axis=1)"
   ]
  },
  {
   "cell_type": "code",
   "execution_count": 19,
   "id": "af4a1df2",
   "metadata": {},
   "outputs": [],
   "source": [
    "# center = np.array((0,0))\n",
    "# data[\"euclidean\"] = data.apply(lambda x: np.linalg.norm(np.array((x[\"ColA\"], x[\"ColB\"])) - center), axis=1)"
   ]
  },
  {
   "cell_type": "code",
   "execution_count": 55,
   "id": "b1fb772f",
   "metadata": {},
   "outputs": [],
   "source": [
    "means = data.groupby(\"BTS_ID\")[\"euclidean\"].mean()\n",
    "data[\"mean_BTS_euclidean\"] = data.apply(lambda x: means[x[\"BTS_ID\"]] ,axis=1)"
   ]
  },
  {
   "cell_type": "code",
   "execution_count": 56,
   "id": "6a9dc0c8",
   "metadata": {
    "scrolled": true
   },
   "outputs": [],
   "source": [
    "# Compute the distance from the center of the plot for each BTS_ID using the \"2021-06-13\" data. \n",
    "data_13 = df.copy()\n",
    "data_13[\"day\"] = pd.to_datetime(data_13[\"day\"])\n",
    "data_13 = data_13[data_13[\"day\"] == \"2021-06-13\"].copy()"
   ]
  },
  {
   "cell_type": "code",
   "execution_count": 57,
   "id": "f3a84b91",
   "metadata": {},
   "outputs": [],
   "source": [
    "# Day column is dropped and BTS_ID column is saved to an external variable\n",
    "BTS_ID = data_13[[\"BTS_ID\"]]\n",
    "BTS_ID = BTS_ID.reset_index()\n",
    "data_13 = data_13.drop(columns=[\"day\", \"BTS_ID\"]).copy()\n",
    "# Data is scaled\n",
    "std_scaler = StandardScaler()\n",
    "data_13 = pd.DataFrame(std_scaler.fit_transform(data_13))\n",
    "# Data dimensionality is reduced\n",
    "pca_2 = PCA(n_components=2, random_state=42).fit(data_13)\n",
    "pca_data = pca_2.transform(data_13)\n",
    "# The BTS_ID variable is added back\n",
    "data_13 = pd.DataFrame(data = pca_data, columns=[\"ColA\", \"ColB\"])\n",
    "data_13 = pd.concat([data_13, BTS_ID], axis=1)\n",
    "data_13 = data_13.drop([\"index\"], axis=1)"
   ]
  },
  {
   "cell_type": "code",
   "execution_count": 58,
   "id": "318ad693",
   "metadata": {},
   "outputs": [],
   "source": [
    "center = np.array((0,0)).reshape(-1,1)\n",
    "data_13[\"euclidean\"] = data_13.apply(lambda x: distance.cdist(np.array((x[\"ColA\"], x[\"ColB\"])).reshape(-1,1), center, \"euclidean\"), axis=1)"
   ]
  },
  {
   "cell_type": "code",
   "execution_count": 23,
   "id": "a17ddfcd",
   "metadata": {},
   "outputs": [],
   "source": [
    "# center = np.array((0,0))\n",
    "# data_13[\"euclidean\"] = data_13.apply(lambda x: np.linalg.norm(np.array((x[\"ColA\"], x[\"ColB\"])) - center), axis=1)"
   ]
  },
  {
   "cell_type": "code",
   "execution_count": 62,
   "id": "faf28d07",
   "metadata": {},
   "outputs": [
    {
     "data": {
      "text/plain": [
       "0      [[0.665554020935984, 0.665554020935984], [0.55...\n",
       "1      [[0.13542909304121675, 0.13542909304121675], [...\n",
       "2      [[1.6463451805465217, 1.6463451805465217], [0....\n",
       "3      [[2.1819871558739625, 2.1819871558739625], [0....\n",
       "4      [[1.122742646425574, 1.122742646425574], [0.15...\n",
       "                             ...                        \n",
       "588    [[2.390551866841269, 2.390551866841269], [0.16...\n",
       "589    [[0.8516189543280932, 0.8516189543280932], [2....\n",
       "590    [[0.9731096652997296, 0.9731096652997296], [6....\n",
       "591    [[1.540313337121236, 1.540313337121236], [2.24...\n",
       "592    [[2.750114194798433, 2.750114194798433], [1.74...\n",
       "Name: euclidean, Length: 593, dtype: object"
      ]
     },
     "execution_count": 62,
     "metadata": {},
     "output_type": "execute_result"
    }
   ],
   "source": [
    "data_13[\"euclidean\"]"
   ]
  },
  {
   "cell_type": "code",
   "execution_count": 59,
   "id": "c3ac4aae",
   "metadata": {},
   "outputs": [
    {
     "data": {
      "text/html": [
       "<div>\n",
       "<style scoped>\n",
       "    .dataframe tbody tr th:only-of-type {\n",
       "        vertical-align: middle;\n",
       "    }\n",
       "\n",
       "    .dataframe tbody tr th {\n",
       "        vertical-align: top;\n",
       "    }\n",
       "\n",
       "    .dataframe thead th {\n",
       "        text-align: right;\n",
       "    }\n",
       "</style>\n",
       "<table border=\"1\" class=\"dataframe\">\n",
       "  <thead>\n",
       "    <tr style=\"text-align: right;\">\n",
       "      <th></th>\n",
       "      <th>ColA</th>\n",
       "      <th>ColB</th>\n",
       "      <th>BTS_ID</th>\n",
       "      <th>euclidean</th>\n",
       "    </tr>\n",
       "  </thead>\n",
       "  <tbody>\n",
       "    <tr>\n",
       "      <th>0</th>\n",
       "      <td>0.665554</td>\n",
       "      <td>-0.558075</td>\n",
       "      <td>10-1</td>\n",
       "      <td>[[0.665554020935984, 0.665554020935984], [0.55...</td>\n",
       "    </tr>\n",
       "    <tr>\n",
       "      <th>1</th>\n",
       "      <td>0.135429</td>\n",
       "      <td>-0.456506</td>\n",
       "      <td>10-2</td>\n",
       "      <td>[[0.13542909304121675, 0.13542909304121675], [...</td>\n",
       "    </tr>\n",
       "    <tr>\n",
       "      <th>2</th>\n",
       "      <td>1.646345</td>\n",
       "      <td>-0.241883</td>\n",
       "      <td>100-1</td>\n",
       "      <td>[[1.6463451805465217, 1.6463451805465217], [0....</td>\n",
       "    </tr>\n",
       "    <tr>\n",
       "      <th>3</th>\n",
       "      <td>-2.181987</td>\n",
       "      <td>0.413157</td>\n",
       "      <td>100-2</td>\n",
       "      <td>[[2.1819871558739625, 2.1819871558739625], [0....</td>\n",
       "    </tr>\n",
       "    <tr>\n",
       "      <th>4</th>\n",
       "      <td>-1.122743</td>\n",
       "      <td>-0.155742</td>\n",
       "      <td>100-3</td>\n",
       "      <td>[[1.122742646425574, 1.122742646425574], [0.15...</td>\n",
       "    </tr>\n",
       "    <tr>\n",
       "      <th>...</th>\n",
       "      <td>...</td>\n",
       "      <td>...</td>\n",
       "      <td>...</td>\n",
       "      <td>...</td>\n",
       "    </tr>\n",
       "    <tr>\n",
       "      <th>588</th>\n",
       "      <td>-2.390552</td>\n",
       "      <td>-0.164755</td>\n",
       "      <td>944-3</td>\n",
       "      <td>[[2.390551866841269, 2.390551866841269], [0.16...</td>\n",
       "    </tr>\n",
       "    <tr>\n",
       "      <th>589</th>\n",
       "      <td>-0.851619</td>\n",
       "      <td>2.643008</td>\n",
       "      <td>950-1</td>\n",
       "      <td>[[0.8516189543280932, 0.8516189543280932], [2....</td>\n",
       "    </tr>\n",
       "    <tr>\n",
       "      <th>590</th>\n",
       "      <td>-0.973110</td>\n",
       "      <td>6.508833</td>\n",
       "      <td>950-2</td>\n",
       "      <td>[[0.9731096652997296, 0.9731096652997296], [6....</td>\n",
       "    </tr>\n",
       "    <tr>\n",
       "      <th>591</th>\n",
       "      <td>-1.540313</td>\n",
       "      <td>-2.242941</td>\n",
       "      <td>952-7</td>\n",
       "      <td>[[1.540313337121236, 1.540313337121236], [2.24...</td>\n",
       "    </tr>\n",
       "    <tr>\n",
       "      <th>592</th>\n",
       "      <td>-2.750114</td>\n",
       "      <td>-1.745958</td>\n",
       "      <td>952-8</td>\n",
       "      <td>[[2.750114194798433, 2.750114194798433], [1.74...</td>\n",
       "    </tr>\n",
       "  </tbody>\n",
       "</table>\n",
       "<p>593 rows × 4 columns</p>\n",
       "</div>"
      ],
      "text/plain": [
       "         ColA      ColB BTS_ID  \\\n",
       "0    0.665554 -0.558075   10-1   \n",
       "1    0.135429 -0.456506   10-2   \n",
       "2    1.646345 -0.241883  100-1   \n",
       "3   -2.181987  0.413157  100-2   \n",
       "4   -1.122743 -0.155742  100-3   \n",
       "..        ...       ...    ...   \n",
       "588 -2.390552 -0.164755  944-3   \n",
       "589 -0.851619  2.643008  950-1   \n",
       "590 -0.973110  6.508833  950-2   \n",
       "591 -1.540313 -2.242941  952-7   \n",
       "592 -2.750114 -1.745958  952-8   \n",
       "\n",
       "                                             euclidean  \n",
       "0    [[0.665554020935984, 0.665554020935984], [0.55...  \n",
       "1    [[0.13542909304121675, 0.13542909304121675], [...  \n",
       "2    [[1.6463451805465217, 1.6463451805465217], [0....  \n",
       "3    [[2.1819871558739625, 2.1819871558739625], [0....  \n",
       "4    [[1.122742646425574, 1.122742646425574], [0.15...  \n",
       "..                                                 ...  \n",
       "588  [[2.390551866841269, 2.390551866841269], [0.16...  \n",
       "589  [[0.8516189543280932, 0.8516189543280932], [2....  \n",
       "590  [[0.9731096652997296, 0.9731096652997296], [6....  \n",
       "591  [[1.540313337121236, 1.540313337121236], [2.24...  \n",
       "592  [[2.750114194798433, 2.750114194798433], [1.74...  \n",
       "\n",
       "[593 rows x 4 columns]"
      ]
     },
     "execution_count": 59,
     "metadata": {},
     "output_type": "execute_result"
    }
   ],
   "source": [
    "# Duplicates are deleted, as their average would be the same\n",
    "data_13 = data_13.drop_duplicates([\"BTS_ID\"])\n",
    "data_13"
   ]
  },
  {
   "cell_type": "code",
   "execution_count": 64,
   "id": "0770c943",
   "metadata": {
    "scrolled": false
   },
   "outputs": [
    {
     "name": "stdout",
     "output_type": "stream",
     "text": [
      "<class 'pandas.core.frame.DataFrame'>\n",
      "RangeIndex: 107906 entries, 0 to 107905\n",
      "Data columns (total 2 columns):\n",
      " #   Column              Non-Null Count   Dtype \n",
      "---  ------              --------------   ----- \n",
      " 0   BTS_ID              107906 non-null  object\n",
      " 1   mean_BTS_euclidean  107906 non-null  object\n",
      "dtypes: object(2)\n",
      "memory usage: 1.6+ MB\n"
     ]
    }
   ],
   "source": [
    "average_data = data[[\"BTS_ID\", \"mean_BTS_euclidean\"]].copy()\n",
    "average_data.reset_index\n",
    "average_data.info()"
   ]
  },
  {
   "cell_type": "code",
   "execution_count": 65,
   "id": "2f228074",
   "metadata": {},
   "outputs": [],
   "source": [
    "# Duplicates are deleted, as their average would be the same\n",
    "average_data = average_data.drop_duplicates([\"BTS_ID\"])"
   ]
  },
  {
   "cell_type": "code",
   "execution_count": 66,
   "id": "e2e14c46",
   "metadata": {},
   "outputs": [
    {
     "data": {
      "text/html": [
       "<div>\n",
       "<style scoped>\n",
       "    .dataframe tbody tr th:only-of-type {\n",
       "        vertical-align: middle;\n",
       "    }\n",
       "\n",
       "    .dataframe tbody tr th {\n",
       "        vertical-align: top;\n",
       "    }\n",
       "\n",
       "    .dataframe thead th {\n",
       "        text-align: right;\n",
       "    }\n",
       "</style>\n",
       "<table border=\"1\" class=\"dataframe\">\n",
       "  <thead>\n",
       "    <tr style=\"text-align: right;\">\n",
       "      <th></th>\n",
       "      <th>BTS_ID</th>\n",
       "      <th>mean_BTS_euclidean</th>\n",
       "      <th>euclidean</th>\n",
       "    </tr>\n",
       "  </thead>\n",
       "  <tbody>\n",
       "    <tr>\n",
       "      <th>0</th>\n",
       "      <td>10-1</td>\n",
       "      <td>[[1.9129354722359184, 1.9129354722359184], [0....</td>\n",
       "      <td>[[0.665554020935984, 0.665554020935984], [0.55...</td>\n",
       "    </tr>\n",
       "    <tr>\n",
       "      <th>1</th>\n",
       "      <td>10-2</td>\n",
       "      <td>[[1.486740664556611, 1.486740664556611], [0.66...</td>\n",
       "      <td>[[0.13542909304121675, 0.13542909304121675], [...</td>\n",
       "    </tr>\n",
       "    <tr>\n",
       "      <th>2</th>\n",
       "      <td>100-1</td>\n",
       "      <td>[[2.128355086848899, 2.128355086848899], [0.39...</td>\n",
       "      <td>[[1.6463451805465217, 1.6463451805465217], [0....</td>\n",
       "    </tr>\n",
       "    <tr>\n",
       "      <th>3</th>\n",
       "      <td>100-2</td>\n",
       "      <td>[[1.90778013609076, 1.90778013609076], [0.5700...</td>\n",
       "      <td>[[2.1819871558739625, 2.1819871558739625], [0....</td>\n",
       "    </tr>\n",
       "    <tr>\n",
       "      <th>4</th>\n",
       "      <td>100-3</td>\n",
       "      <td>[[1.1785497069334225, 1.1785497069334225], [0....</td>\n",
       "      <td>[[1.122742646425574, 1.122742646425574], [0.15...</td>\n",
       "    </tr>\n",
       "    <tr>\n",
       "      <th>...</th>\n",
       "      <td>...</td>\n",
       "      <td>...</td>\n",
       "      <td>...</td>\n",
       "    </tr>\n",
       "    <tr>\n",
       "      <th>588</th>\n",
       "      <td>944-3</td>\n",
       "      <td>[[3.048678803860342, 3.048678803860342], [0.55...</td>\n",
       "      <td>[[2.390551866841269, 2.390551866841269], [0.16...</td>\n",
       "    </tr>\n",
       "    <tr>\n",
       "      <th>589</th>\n",
       "      <td>950-1</td>\n",
       "      <td>[[2.195363507287198, 2.195363507287198], [0.83...</td>\n",
       "      <td>[[0.8516189543280932, 0.8516189543280932], [2....</td>\n",
       "    </tr>\n",
       "    <tr>\n",
       "      <th>590</th>\n",
       "      <td>950-2</td>\n",
       "      <td>[[1.8194045615875345, 1.8194045615875345], [2....</td>\n",
       "      <td>[[0.9731096652997296, 0.9731096652997296], [6....</td>\n",
       "    </tr>\n",
       "    <tr>\n",
       "      <th>591</th>\n",
       "      <td>952-7</td>\n",
       "      <td>[[1.9148103622004187, 1.9148103622004187], [1....</td>\n",
       "      <td>[[1.540313337121236, 1.540313337121236], [2.24...</td>\n",
       "    </tr>\n",
       "    <tr>\n",
       "      <th>592</th>\n",
       "      <td>952-8</td>\n",
       "      <td>[[2.513010955364376, 2.513010955364376], [1.33...</td>\n",
       "      <td>[[2.750114194798433, 2.750114194798433], [1.74...</td>\n",
       "    </tr>\n",
       "  </tbody>\n",
       "</table>\n",
       "<p>593 rows × 3 columns</p>\n",
       "</div>"
      ],
      "text/plain": [
       "    BTS_ID                                 mean_BTS_euclidean  \\\n",
       "0     10-1  [[1.9129354722359184, 1.9129354722359184], [0....   \n",
       "1     10-2  [[1.486740664556611, 1.486740664556611], [0.66...   \n",
       "2    100-1  [[2.128355086848899, 2.128355086848899], [0.39...   \n",
       "3    100-2  [[1.90778013609076, 1.90778013609076], [0.5700...   \n",
       "4    100-3  [[1.1785497069334225, 1.1785497069334225], [0....   \n",
       "..     ...                                                ...   \n",
       "588  944-3  [[3.048678803860342, 3.048678803860342], [0.55...   \n",
       "589  950-1  [[2.195363507287198, 2.195363507287198], [0.83...   \n",
       "590  950-2  [[1.8194045615875345, 1.8194045615875345], [2....   \n",
       "591  952-7  [[1.9148103622004187, 1.9148103622004187], [1....   \n",
       "592  952-8  [[2.513010955364376, 2.513010955364376], [1.33...   \n",
       "\n",
       "                                             euclidean  \n",
       "0    [[0.665554020935984, 0.665554020935984], [0.55...  \n",
       "1    [[0.13542909304121675, 0.13542909304121675], [...  \n",
       "2    [[1.6463451805465217, 1.6463451805465217], [0....  \n",
       "3    [[2.1819871558739625, 2.1819871558739625], [0....  \n",
       "4    [[1.122742646425574, 1.122742646425574], [0.15...  \n",
       "..                                                 ...  \n",
       "588  [[2.390551866841269, 2.390551866841269], [0.16...  \n",
       "589  [[0.8516189543280932, 0.8516189543280932], [2....  \n",
       "590  [[0.9731096652997296, 0.9731096652997296], [6....  \n",
       "591  [[1.540313337121236, 1.540313337121236], [2.24...  \n",
       "592  [[2.750114194798433, 2.750114194798433], [1.74...  \n",
       "\n",
       "[593 rows x 3 columns]"
      ]
     },
     "execution_count": 66,
     "metadata": {},
     "output_type": "execute_result"
    }
   ],
   "source": [
    "analysis_data = average_data.copy()\n",
    "analysis_data = analysis_data.merge(data_13[[\"BTS_ID\" ,\"euclidean\"]], on=\"BTS_ID\")\n",
    "analysis_data"
   ]
  },
  {
   "cell_type": "code",
   "execution_count": 28,
   "id": "0fb80fe5",
   "metadata": {},
   "outputs": [
    {
     "data": {
      "text/html": [
       "<div>\n",
       "<style scoped>\n",
       "    .dataframe tbody tr th:only-of-type {\n",
       "        vertical-align: middle;\n",
       "    }\n",
       "\n",
       "    .dataframe tbody tr th {\n",
       "        vertical-align: top;\n",
       "    }\n",
       "\n",
       "    .dataframe thead th {\n",
       "        text-align: right;\n",
       "    }\n",
       "</style>\n",
       "<table border=\"1\" class=\"dataframe\">\n",
       "  <thead>\n",
       "    <tr style=\"text-align: right;\">\n",
       "      <th></th>\n",
       "      <th>BTS_ID</th>\n",
       "      <th>mean_BTS_euclidean</th>\n",
       "      <th>euclidean</th>\n",
       "      <th>status</th>\n",
       "    </tr>\n",
       "  </thead>\n",
       "  <tbody>\n",
       "    <tr>\n",
       "      <th>0</th>\n",
       "      <td>10-1</td>\n",
       "      <td>2.144963</td>\n",
       "      <td>0.868568</td>\n",
       "      <td>Better</td>\n",
       "    </tr>\n",
       "    <tr>\n",
       "      <th>1</th>\n",
       "      <td>10-2</td>\n",
       "      <td>1.683660</td>\n",
       "      <td>0.476171</td>\n",
       "      <td>Better</td>\n",
       "    </tr>\n",
       "    <tr>\n",
       "      <th>2</th>\n",
       "      <td>100-1</td>\n",
       "      <td>2.237996</td>\n",
       "      <td>1.664019</td>\n",
       "      <td>Better</td>\n",
       "    </tr>\n",
       "    <tr>\n",
       "      <th>3</th>\n",
       "      <td>100-2</td>\n",
       "      <td>2.066586</td>\n",
       "      <td>2.220758</td>\n",
       "      <td>Worse</td>\n",
       "    </tr>\n",
       "    <tr>\n",
       "      <th>4</th>\n",
       "      <td>100-3</td>\n",
       "      <td>1.414100</td>\n",
       "      <td>1.133493</td>\n",
       "      <td>Better</td>\n",
       "    </tr>\n",
       "    <tr>\n",
       "      <th>...</th>\n",
       "      <td>...</td>\n",
       "      <td>...</td>\n",
       "      <td>...</td>\n",
       "      <td>...</td>\n",
       "    </tr>\n",
       "    <tr>\n",
       "      <th>588</th>\n",
       "      <td>944-3</td>\n",
       "      <td>3.134148</td>\n",
       "      <td>2.396223</td>\n",
       "      <td>Better</td>\n",
       "    </tr>\n",
       "    <tr>\n",
       "      <th>589</th>\n",
       "      <td>950-1</td>\n",
       "      <td>2.586101</td>\n",
       "      <td>2.776823</td>\n",
       "      <td>Worse</td>\n",
       "    </tr>\n",
       "    <tr>\n",
       "      <th>590</th>\n",
       "      <td>950-2</td>\n",
       "      <td>3.347709</td>\n",
       "      <td>6.581174</td>\n",
       "      <td>Worse</td>\n",
       "    </tr>\n",
       "    <tr>\n",
       "      <th>591</th>\n",
       "      <td>952-7</td>\n",
       "      <td>2.688604</td>\n",
       "      <td>2.720909</td>\n",
       "      <td>Worse</td>\n",
       "    </tr>\n",
       "    <tr>\n",
       "      <th>592</th>\n",
       "      <td>952-8</td>\n",
       "      <td>2.886000</td>\n",
       "      <td>3.257529</td>\n",
       "      <td>Worse</td>\n",
       "    </tr>\n",
       "  </tbody>\n",
       "</table>\n",
       "<p>593 rows × 4 columns</p>\n",
       "</div>"
      ],
      "text/plain": [
       "    BTS_ID  mean_BTS_euclidean  euclidean  status\n",
       "0     10-1            2.144963   0.868568  Better\n",
       "1     10-2            1.683660   0.476171  Better\n",
       "2    100-1            2.237996   1.664019  Better\n",
       "3    100-2            2.066586   2.220758   Worse\n",
       "4    100-3            1.414100   1.133493  Better\n",
       "..     ...                 ...        ...     ...\n",
       "588  944-3            3.134148   2.396223  Better\n",
       "589  950-1            2.586101   2.776823   Worse\n",
       "590  950-2            3.347709   6.581174   Worse\n",
       "591  952-7            2.688604   2.720909   Worse\n",
       "592  952-8            2.886000   3.257529   Worse\n",
       "\n",
       "[593 rows x 4 columns]"
      ]
     },
     "execution_count": 28,
     "metadata": {},
     "output_type": "execute_result"
    }
   ],
   "source": [
    "# Differences are detected\n",
    "analysis_data[\"status\"] = analysis_data.apply(lambda x: \"Worse\" if x[\"euclidean\"] > x[\"mean_BTS_euclidean\"] else \"Better\" , axis = 1)\n",
    "analysis_data"
   ]
  },
  {
   "cell_type": "code",
   "execution_count": 29,
   "id": "03a9c85b",
   "metadata": {},
   "outputs": [
    {
     "data": {
      "text/html": [
       "<div>\n",
       "<style scoped>\n",
       "    .dataframe tbody tr th:only-of-type {\n",
       "        vertical-align: middle;\n",
       "    }\n",
       "\n",
       "    .dataframe tbody tr th {\n",
       "        vertical-align: top;\n",
       "    }\n",
       "\n",
       "    .dataframe thead th {\n",
       "        text-align: right;\n",
       "    }\n",
       "</style>\n",
       "<table border=\"1\" class=\"dataframe\">\n",
       "  <thead>\n",
       "    <tr style=\"text-align: right;\">\n",
       "      <th></th>\n",
       "      <th>BTS_ID</th>\n",
       "      <th>mean_BTS_euclidean</th>\n",
       "      <th>euclidean</th>\n",
       "      <th>status</th>\n",
       "    </tr>\n",
       "  </thead>\n",
       "  <tbody>\n",
       "    <tr>\n",
       "      <th>0</th>\n",
       "      <td>10-1</td>\n",
       "      <td>2.144963</td>\n",
       "      <td>0.868568</td>\n",
       "      <td>Better</td>\n",
       "    </tr>\n",
       "    <tr>\n",
       "      <th>1</th>\n",
       "      <td>10-2</td>\n",
       "      <td>1.683660</td>\n",
       "      <td>0.476171</td>\n",
       "      <td>Better</td>\n",
       "    </tr>\n",
       "    <tr>\n",
       "      <th>2</th>\n",
       "      <td>100-1</td>\n",
       "      <td>2.237996</td>\n",
       "      <td>1.664019</td>\n",
       "      <td>Better</td>\n",
       "    </tr>\n",
       "    <tr>\n",
       "      <th>4</th>\n",
       "      <td>100-3</td>\n",
       "      <td>1.414100</td>\n",
       "      <td>1.133493</td>\n",
       "      <td>Better</td>\n",
       "    </tr>\n",
       "    <tr>\n",
       "      <th>5</th>\n",
       "      <td>100-4</td>\n",
       "      <td>2.501134</td>\n",
       "      <td>0.987730</td>\n",
       "      <td>Better</td>\n",
       "    </tr>\n",
       "    <tr>\n",
       "      <th>...</th>\n",
       "      <td>...</td>\n",
       "      <td>...</td>\n",
       "      <td>...</td>\n",
       "      <td>...</td>\n",
       "    </tr>\n",
       "    <tr>\n",
       "      <th>582</th>\n",
       "      <td>942-2</td>\n",
       "      <td>2.959461</td>\n",
       "      <td>2.681187</td>\n",
       "      <td>Better</td>\n",
       "    </tr>\n",
       "    <tr>\n",
       "      <th>584</th>\n",
       "      <td>943-2</td>\n",
       "      <td>2.345726</td>\n",
       "      <td>1.885891</td>\n",
       "      <td>Better</td>\n",
       "    </tr>\n",
       "    <tr>\n",
       "      <th>585</th>\n",
       "      <td>943-3</td>\n",
       "      <td>2.707811</td>\n",
       "      <td>2.492828</td>\n",
       "      <td>Better</td>\n",
       "    </tr>\n",
       "    <tr>\n",
       "      <th>587</th>\n",
       "      <td>944-2</td>\n",
       "      <td>1.043570</td>\n",
       "      <td>0.856658</td>\n",
       "      <td>Better</td>\n",
       "    </tr>\n",
       "    <tr>\n",
       "      <th>588</th>\n",
       "      <td>944-3</td>\n",
       "      <td>3.134148</td>\n",
       "      <td>2.396223</td>\n",
       "      <td>Better</td>\n",
       "    </tr>\n",
       "  </tbody>\n",
       "</table>\n",
       "<p>302 rows × 4 columns</p>\n",
       "</div>"
      ],
      "text/plain": [
       "    BTS_ID  mean_BTS_euclidean  euclidean  status\n",
       "0     10-1            2.144963   0.868568  Better\n",
       "1     10-2            1.683660   0.476171  Better\n",
       "2    100-1            2.237996   1.664019  Better\n",
       "4    100-3            1.414100   1.133493  Better\n",
       "5    100-4            2.501134   0.987730  Better\n",
       "..     ...                 ...        ...     ...\n",
       "582  942-2            2.959461   2.681187  Better\n",
       "584  943-2            2.345726   1.885891  Better\n",
       "585  943-3            2.707811   2.492828  Better\n",
       "587  944-2            1.043570   0.856658  Better\n",
       "588  944-3            3.134148   2.396223  Better\n",
       "\n",
       "[302 rows x 4 columns]"
      ]
     },
     "execution_count": 29,
     "metadata": {},
     "output_type": "execute_result"
    }
   ],
   "source": [
    "# Sites that have gotten better\n",
    "analysis_data[analysis_data[\"status\"] == \"Better\"]"
   ]
  },
  {
   "cell_type": "code",
   "execution_count": 30,
   "id": "9ab45599",
   "metadata": {},
   "outputs": [
    {
     "data": {
      "text/plain": [
       "0.596973924524244"
      ]
     },
     "execution_count": 30,
     "metadata": {},
     "output_type": "execute_result"
    }
   ],
   "source": [
    "# Average of difference\n",
    "mean(analysis_data[analysis_data[\"status\"] == \"Better\"].apply(lambda x: abs(x[\"mean_BTS_euclidean\"] - x[\"euclidean\"]) , axis = 1))"
   ]
  },
  {
   "cell_type": "code",
   "execution_count": 31,
   "id": "c4cdbc64",
   "metadata": {},
   "outputs": [
    {
     "data": {
      "text/html": [
       "<div>\n",
       "<style scoped>\n",
       "    .dataframe tbody tr th:only-of-type {\n",
       "        vertical-align: middle;\n",
       "    }\n",
       "\n",
       "    .dataframe tbody tr th {\n",
       "        vertical-align: top;\n",
       "    }\n",
       "\n",
       "    .dataframe thead th {\n",
       "        text-align: right;\n",
       "    }\n",
       "</style>\n",
       "<table border=\"1\" class=\"dataframe\">\n",
       "  <thead>\n",
       "    <tr style=\"text-align: right;\">\n",
       "      <th></th>\n",
       "      <th>BTS_ID</th>\n",
       "      <th>mean_BTS_euclidean</th>\n",
       "      <th>euclidean</th>\n",
       "      <th>status</th>\n",
       "    </tr>\n",
       "  </thead>\n",
       "  <tbody>\n",
       "    <tr>\n",
       "      <th>3</th>\n",
       "      <td>100-2</td>\n",
       "      <td>2.066586</td>\n",
       "      <td>2.220758</td>\n",
       "      <td>Worse</td>\n",
       "    </tr>\n",
       "    <tr>\n",
       "      <th>9</th>\n",
       "      <td>10119-2</td>\n",
       "      <td>1.612679</td>\n",
       "      <td>2.627777</td>\n",
       "      <td>Worse</td>\n",
       "    </tr>\n",
       "    <tr>\n",
       "      <th>10</th>\n",
       "      <td>10119-3</td>\n",
       "      <td>0.845899</td>\n",
       "      <td>1.097373</td>\n",
       "      <td>Worse</td>\n",
       "    </tr>\n",
       "    <tr>\n",
       "      <th>11</th>\n",
       "      <td>10238-1</td>\n",
       "      <td>7.838555</td>\n",
       "      <td>10.416463</td>\n",
       "      <td>Worse</td>\n",
       "    </tr>\n",
       "    <tr>\n",
       "      <th>13</th>\n",
       "      <td>10238-3</td>\n",
       "      <td>2.286858</td>\n",
       "      <td>2.452146</td>\n",
       "      <td>Worse</td>\n",
       "    </tr>\n",
       "    <tr>\n",
       "      <th>...</th>\n",
       "      <td>...</td>\n",
       "      <td>...</td>\n",
       "      <td>...</td>\n",
       "      <td>...</td>\n",
       "    </tr>\n",
       "    <tr>\n",
       "      <th>586</th>\n",
       "      <td>944-1</td>\n",
       "      <td>1.246872</td>\n",
       "      <td>1.970790</td>\n",
       "      <td>Worse</td>\n",
       "    </tr>\n",
       "    <tr>\n",
       "      <th>589</th>\n",
       "      <td>950-1</td>\n",
       "      <td>2.586101</td>\n",
       "      <td>2.776823</td>\n",
       "      <td>Worse</td>\n",
       "    </tr>\n",
       "    <tr>\n",
       "      <th>590</th>\n",
       "      <td>950-2</td>\n",
       "      <td>3.347709</td>\n",
       "      <td>6.581174</td>\n",
       "      <td>Worse</td>\n",
       "    </tr>\n",
       "    <tr>\n",
       "      <th>591</th>\n",
       "      <td>952-7</td>\n",
       "      <td>2.688604</td>\n",
       "      <td>2.720909</td>\n",
       "      <td>Worse</td>\n",
       "    </tr>\n",
       "    <tr>\n",
       "      <th>592</th>\n",
       "      <td>952-8</td>\n",
       "      <td>2.886000</td>\n",
       "      <td>3.257529</td>\n",
       "      <td>Worse</td>\n",
       "    </tr>\n",
       "  </tbody>\n",
       "</table>\n",
       "<p>291 rows × 4 columns</p>\n",
       "</div>"
      ],
      "text/plain": [
       "      BTS_ID  mean_BTS_euclidean  euclidean status\n",
       "3      100-2            2.066586   2.220758  Worse\n",
       "9    10119-2            1.612679   2.627777  Worse\n",
       "10   10119-3            0.845899   1.097373  Worse\n",
       "11   10238-1            7.838555  10.416463  Worse\n",
       "13   10238-3            2.286858   2.452146  Worse\n",
       "..       ...                 ...        ...    ...\n",
       "586    944-1            1.246872   1.970790  Worse\n",
       "589    950-1            2.586101   2.776823  Worse\n",
       "590    950-2            3.347709   6.581174  Worse\n",
       "591    952-7            2.688604   2.720909  Worse\n",
       "592    952-8            2.886000   3.257529  Worse\n",
       "\n",
       "[291 rows x 4 columns]"
      ]
     },
     "execution_count": 31,
     "metadata": {},
     "output_type": "execute_result"
    }
   ],
   "source": [
    "# Sites that have gotten worse\n",
    "analysis_data[analysis_data[\"status\"] == \"Worse\"]"
   ]
  },
  {
   "cell_type": "code",
   "execution_count": 32,
   "id": "fec0bb79",
   "metadata": {},
   "outputs": [
    {
     "data": {
      "text/plain": [
       "0.6999028538128642"
      ]
     },
     "execution_count": 32,
     "metadata": {},
     "output_type": "execute_result"
    }
   ],
   "source": [
    "# Average of difference\n",
    "mean(analysis_data[analysis_data[\"status\"] == \"Worse\"].apply(lambda x: abs(x[\"mean_BTS_euclidean\"] - x[\"euclidean\"]) , axis = 1))"
   ]
  },
  {
   "cell_type": "markdown",
   "id": "dcd06e70",
   "metadata": {},
   "source": [
    "## Question\n",
    "Are the engineers making progress with the system performance?\n",
    "\n",
    "If we take only the total number of sites that have improved, then yes, as 302 sites have gotten better while only 291 sites have gotten worse.\n",
    "But if we take the averages of differences in the distances, we can see that the ones that have improved have done so with an average of only 0.59697, and the sites that have gotten worse have done so with an average of 0.69990"
   ]
  },
  {
   "cell_type": "code",
   "execution_count": 33,
   "id": "a4d339e5",
   "metadata": {},
   "outputs": [],
   "source": [
    "# Commented out as it consumes so much memory the notebook crashes\n",
    "# dbscan = DBSCAN(1, metric='euclidean', min_samples=2, n_jobs = -2)\n",
    "# dbscan_clusters = dbscan.fit_predict(data[[\"ColA\", \"ColB\"]])\n",
    "# data_res = data[[\"ColA\", \"ColB\"]].copy()\n",
    "# data_res[\"labels\"] = dbscan_clusters\n",
    "# labels = dbscan.labels_\n",
    "# # Number of clusters, ignoring noise if present.\n",
    "# n_clusters_ = len(set(labels)) - (1 if -1 in labels else 0)\n",
    "# print (\"Number of predicted clusters: \" + str(n_clusters_))\n",
    "\n",
    "# sns.scatterplot(data=data_res,x=\"ColA\",y='ColB', hue='labels', palette='bright').set(title=\"DBSCAN Clustering\")"
   ]
  }
 ],
 "metadata": {
  "kernelspec": {
   "display_name": "Python 3 (ipykernel)",
   "language": "python",
   "name": "python3"
  },
  "language_info": {
   "codemirror_mode": {
    "name": "ipython",
    "version": 3
   },
   "file_extension": ".py",
   "mimetype": "text/x-python",
   "name": "python",
   "nbconvert_exporter": "python",
   "pygments_lexer": "ipython3",
   "version": "3.10.12"
  }
 },
 "nbformat": 4,
 "nbformat_minor": 5
}
